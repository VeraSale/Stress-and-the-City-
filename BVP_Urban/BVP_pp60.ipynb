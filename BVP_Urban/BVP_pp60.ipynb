{
 "cells": [
  {
   "cell_type": "code",
   "execution_count": 1,
   "metadata": {},
   "outputs": [],
   "source": [
    "# import libraries\n",
    "import numpy as np\n",
    "import matplotlib.pyplot as plt\n",
    "import pandas as pd \n",
    "\n",
    "%matplotlib inline "
   ]
  },
  {
   "cell_type": "code",
   "execution_count": 2,
   "metadata": {},
   "outputs": [
    {
     "name": "stdout",
     "output_type": "stream",
     "text": [
      "Please cite:\n",
      "Bizzego et al. (2019) 'pyphysio: A physiological signal processing library for data science approaches in physiology', SoftwareX\n"
     ]
    }
   ],
   "source": [
    "# import all pyphysio classes and methods\n",
    "import pyphysio as ph"
   ]
  },
  {
   "cell_type": "code",
   "execution_count": 3,
   "metadata": {},
   "outputs": [],
   "source": [
    "# import data and creating a signal\n",
    "df_BVP = pd.read_csv('BVP_pp60.csv', header=None)\n"
   ]
  },
  {
   "cell_type": "code",
   "execution_count": 4,
   "metadata": {},
   "outputs": [
    {
     "name": "stdout",
     "output_type": "stream",
     "text": [
      "0    300894\n",
      "dtype: int64\n"
     ]
    }
   ],
   "source": [
    "#count rows \n",
    "n_of_rows = df_BVP.count()\n",
    "print(n_of_rows)"
   ]
  },
  {
   "cell_type": "code",
   "execution_count": 5,
   "metadata": {},
   "outputs": [
    {
     "name": "stdout",
     "output_type": "stream",
     "text": [
      "222720\n"
     ]
    }
   ],
   "source": [
    "#actual recording time 58 mins = 3480s\n",
    "#3480*64=n_rows\n",
    "n_of_rows_keep = 3480*64\n",
    "print(n_of_rows_keep)"
   ]
  },
  {
   "cell_type": "code",
   "execution_count": 6,
   "metadata": {},
   "outputs": [
    {
     "name": "stdout",
     "output_type": "stream",
     "text": [
      "           0\n",
      "0       0.00\n",
      "1       0.00\n",
      "2       0.00\n",
      "3       0.00\n",
      "4       0.00\n",
      "...      ...\n",
      "222715 -1.19\n",
      "222716 -1.44\n",
      "222717 -1.70\n",
      "222718 -1.99\n",
      "222719 -2.25\n",
      "\n",
      "[222720 rows x 1 columns]\n"
     ]
    }
   ],
   "source": [
    "#using pandas to drop all the rows / seconds after 3540s \n",
    "df_BVP = df_BVP.drop(df_BVP.index[222720:300894])\n",
    "\n",
    "print(df_BVP)"
   ]
  },
  {
   "cell_type": "code",
   "execution_count": 7,
   "metadata": {},
   "outputs": [
    {
     "name": "stdout",
     "output_type": "stream",
     "text": [
      "0    222720\n",
      "dtype: int64\n",
      "0    3480.0\n",
      "dtype: float64\n",
      "0    58.0\n",
      "dtype: float64\n"
     ]
    }
   ],
   "source": [
    "#count n of rows to get time of recording (s) \n",
    "n_of_rows = df_BVP.count()\n",
    "print(n_of_rows)\n",
    "#walk time in seconds \n",
    "walk_time_seconds = n_of_rows/64\n",
    "print(walk_time_seconds)\n",
    "#walk time in minutes\n",
    "walk_time_minutes = walk_time_seconds/60\n",
    "print(walk_time_minutes)\n"
   ]
  },
  {
   "cell_type": "code",
   "execution_count": 8,
   "metadata": {},
   "outputs": [],
   "source": [
    "#create BVP signal \n",
    "fsamp = 64  #64 Hz \n",
    "t_start = 0\n",
    "\n",
    "ecg = ph.EvenlySignal(values = df_BVP, sampling_freq = fsamp, signal_type = 'ecg')"
   ]
  },
  {
   "cell_type": "code",
   "execution_count": 9,
   "metadata": {},
   "outputs": [
    {
     "name": "stdout",
     "output_type": "stream",
     "text": [
      "0\n"
     ]
    }
   ],
   "source": [
    "print(ecg.get_start_time())"
   ]
  },
  {
   "cell_type": "code",
   "execution_count": 10,
   "metadata": {},
   "outputs": [
    {
     "data": {
      "text/plain": [
       "[<matplotlib.lines.Line2D at 0x1c21702250>]"
      ]
     },
     "execution_count": 10,
     "metadata": {},
     "output_type": "execute_result"
    },
    {
     "data": {
      "image/png": "[encoded data removed]",
      "text/plain": [
       "<Figure size 432x288 with 1 Axes>"
      ]
     },
     "metadata": {
      "needs_background": "light"
     },
     "output_type": "display_data"
    }
   ],
   "source": [
    "ecg.plot()"
   ]
  },
  {
   "cell_type": "code",
   "execution_count": 11,
   "metadata": {},
   "outputs": [],
   "source": [
    "ibi = ph.BeatFromECG()(ecg)"
   ]
  },
  {
   "cell_type": "code",
   "execution_count": 12,
   "metadata": {},
   "outputs": [
    {
     "data": {
      "text/plain": [
       "3480.0"
      ]
     },
     "execution_count": 12,
     "metadata": {},
     "output_type": "execute_result"
    }
   ],
   "source": [
    "ibi.get_duration() #seconds "
   ]
  },
  {
   "cell_type": "code",
   "execution_count": 13,
   "metadata": {},
   "outputs": [],
   "source": [
    "# create label\n",
    "label = np.zeros(3480)\n",
    "label[0:600] =1\n",
    "label[600:3480] = 2\n",
    "\n",
    "label = ph.EvenlySignal(label, sampling_freq = 1, signal_type = 'label') \n",
    "#sampling_freq here is not intended as real sampfeq, only the distance between one point and the other (e.g. 10 = 10 units between 'begin' & 'end')"
   ]
  },
  {
   "cell_type": "code",
   "execution_count": 14,
   "metadata": {},
   "outputs": [],
   "source": [
    "# (optional) IIR filtering : remove high frequency noise\n",
    "#ecg = ph.IIRFilter(fp=45, fs = 50, ftype='ellip')(ecg)"
   ]
  },
  {
   "cell_type": "code",
   "execution_count": 15,
   "metadata": {},
   "outputs": [],
   "source": [
    "# normalization : normalize data\n",
    "ecg = ph.Normalize(norm_method='standard')(ecg)"
   ]
  },
  {
   "cell_type": "code",
   "execution_count": 16,
   "metadata": {},
   "outputs": [],
   "source": [
    "# resampling : increase the sampling frequency by cubic interpolation\n",
    "ecg = ecg.resample(fout=4096, kind='cubic')\n",
    "fsamp = 4096"
   ]
  },
  {
   "cell_type": "code",
   "execution_count": 17,
   "metadata": {},
   "outputs": [
    {
     "data": {
      "text/plain": [
       "[<matplotlib.lines.Line2D at 0x1c22b74a10>]"
      ]
     },
     "execution_count": 17,
     "metadata": {},
     "output_type": "execute_result"
    },
    {
     "data": {
      "image/png": "[encoded data removed]",
      "text/plain": [
       "<Figure size 432x288 with 1 Axes>"
      ]
     },
     "metadata": {
      "needs_background": "light"
     },
     "output_type": "display_data"
    }
   ],
   "source": [
    "ecg.plot()"
   ]
  },
  {
   "cell_type": "code",
   "execution_count": 18,
   "metadata": {},
   "outputs": [],
   "source": [
    "ibi = ph.BeatFromECG()(ecg)"
   ]
  },
  {
   "cell_type": "code",
   "execution_count": 19,
   "metadata": {},
   "outputs": [
    {
     "data": {
      "text/plain": [
       "3480.0"
      ]
     },
     "execution_count": 19,
     "metadata": {},
     "output_type": "execute_result"
    }
   ],
   "source": [
    "ibi.get_duration()\n"
   ]
  },
  {
   "cell_type": "code",
   "execution_count": 20,
   "metadata": {
    "scrolled": true
   },
   "outputs": [
    {
     "data": {
      "image/png": "[encoded data removed]",
      "text/plain": [
       "<Figure size 432x288 with 2 Axes>"
      ]
     },
     "metadata": {
      "needs_background": "light"
     },
     "output_type": "display_data"
    }
   ],
   "source": [
    "# check results so far\n",
    "ax1 = plt.subplot(211)\n",
    "ecg.plot()\n",
    "plt.vlines(ibi.get_times(), np.min(ecg), np.max(ecg))\n",
    "\n",
    "plt.subplot(212, sharex = ax1)\n",
    "ibi.plot('o-')\n",
    "plt.vlines(ibi.get_times(), np.min(ibi), np.max(ibi))\n",
    "plt.show()"
   ]
  },
  {
   "cell_type": "code",
   "execution_count": 21,
   "metadata": {},
   "outputs": [],
   "source": [
    "### physiological indicators "
   ]
  },
  {
   "cell_type": "code",
   "execution_count": 22,
   "metadata": {},
   "outputs": [
    {
     "data": {
      "image/png": "[encoded data removed]",
      "text/plain": [
       "<Figure size 432x288 with 2 Axes>"
      ]
     },
     "metadata": {
      "needs_background": "light"
     },
     "output_type": "display_data"
    }
   ],
   "source": [
    "# check label\n",
    "ax1 = plt.subplot(211)\n",
    "ibi.plot('.-')\n",
    "\n",
    "plt.subplot(212, sharex = ax1)\n",
    "label.plot('.-')\n",
    "plt.show()"
   ]
  },
  {
   "cell_type": "code",
   "execution_count": 23,
   "metadata": {},
   "outputs": [],
   "source": [
    "# define a list of indicators we want to compute\n",
    "hrv_indicators = [ph.Mean(name='RRmean'), ph.StDev(name='RRstd'), ph.RMSSD(name='rmsSD')]"
   ]
  },
  {
   "cell_type": "code",
   "execution_count": 24,
   "metadata": {},
   "outputs": [],
   "source": [
    "#fixed length windowing\n",
    "fixed_length = ph.FixedSegments(step = 60, width = 60, labels = label)\n",
    "\n",
    "indicators, col_names = ph.fmap(fixed_length, hrv_indicators, ibi)"
   ]
  },
  {
   "cell_type": "code",
   "execution_count": 25,
   "metadata": {},
   "outputs": [],
   "source": [
    "# extract column with the labels for each window\n",
    "label_w = indicators[:, np.where(col_names == 'label')[0]]\n",
    "\n",
    "# extract column with the RRmean values computed from each window\n",
    "rrmean_w = indicators[:, np.where(col_names == 'RRmean')[0]]\n",
    "\n",
    "rrmean_image1 = rrmean_w[np.where(label_w==1)[0]].ravel()\n",
    "rrmean_image2 = rrmean_w[np.where(label_w==2)[0]].ravel()"
   ]
  },
  {
   "cell_type": "code",
   "execution_count": 26,
   "metadata": {},
   "outputs": [
    {
     "data": {
      "text/plain": [
       "{'whiskers': [<matplotlib.lines.Line2D at 0x1c21e9f650>,\n",
       "  <matplotlib.lines.Line2D at 0x1c219531d0>,\n",
       "  <matplotlib.lines.Line2D at 0x1c21ebb190>,\n",
       "  <matplotlib.lines.Line2D at 0x1c21eb17d0>],\n",
       " 'caps': [<matplotlib.lines.Line2D at 0x1c21ebbe50>,\n",
       "  <matplotlib.lines.Line2D at 0x1c21ebb250>,\n",
       "  <matplotlib.lines.Line2D at 0x1c218d9550>,\n",
       "  <matplotlib.lines.Line2D at 0x1c21eb1150>],\n",
       " 'boxes': [<matplotlib.lines.Line2D at 0x1c21ec8f90>,\n",
       "  <matplotlib.lines.Line2D at 0x1c21eb1890>],\n",
       " 'medians': [<matplotlib.lines.Line2D at 0x1c21ec8450>,\n",
       "  <matplotlib.lines.Line2D at 0x1c218d9390>],\n",
       " 'fliers': [<matplotlib.lines.Line2D at 0x1c21eb1690>,\n",
       "  <matplotlib.lines.Line2D at 0x1c225f76d0>],\n",
       " 'means': []}"
      ]
     },
     "execution_count": 26,
     "metadata": {},
     "output_type": "execute_result"
    },
    {
     "data": {
      "image/png": "[encoded data removed]",
      "text/plain": [
       "<Figure size 432x288 with 1 Axes>"
      ]
     },
     "metadata": {
      "needs_background": "light"
     },
     "output_type": "display_data"
    }
   ],
   "source": [
    "## create a box and whisker plot to compare the distibution of the RRmean indicator\n",
    "plt.boxplot([rrmean_image1, rrmean_image2],\n",
    "            labels=['First 10 Minutes', 'recording time'])"
   ]
  },
  {
   "cell_type": "code",
   "execution_count": 27,
   "metadata": {},
   "outputs": [
    {
     "name": "stdout",
     "output_type": "stream",
     "text": [
      "[IBI_VLF_Pow, IBI_LF_Pow, IBI_HF_Pow, IBI_Total_Pow]\n",
      "{'freq_min': 1e-05, 'freq_max': 0.04, 'method': 'ar', 'interp_freq': 4, 'name': 'IBI_VLF_Pow'}\n"
     ]
    }
   ],
   "source": [
    "HRV_FD = ph.preset_hrv_fd() #frequency domain HRV indicators\n",
    "print(HRV_FD)\n",
    "\n",
    "print(HRV_FD[0].get())"
   ]
  },
  {
   "cell_type": "code",
   "execution_count": 28,
   "metadata": {},
   "outputs": [],
   "source": [
    "FD_HRV_ind, col_names = ph.fmap(fixed_length, ph.preset_hrv_fd(), ibi.resample(4))"
   ]
  },
  {
   "cell_type": "code",
   "execution_count": 29,
   "metadata": {},
   "outputs": [
    {
     "data": {
      "text/html": [
       "<div>\n",
       "<style scoped>\n",
       "    .dataframe tbody tr th:only-of-type {\n",
       "        vertical-align: middle;\n",
       "    }\n",
       "\n",
       "    .dataframe tbody tr th {\n",
       "        vertical-align: top;\n",
       "    }\n",
       "\n",
       "    .dataframe thead th {\n",
       "        text-align: right;\n",
       "    }\n",
       "</style>\n",
       "<table border=\"1\" class=\"dataframe\">\n",
       "  <thead>\n",
       "    <tr style=\"text-align: right;\">\n",
       "      <th></th>\n",
       "      <th>begin</th>\n",
       "      <th>end</th>\n",
       "      <th>label</th>\n",
       "      <th>IBI_VLF_Pow</th>\n",
       "      <th>IBI_LF_Pow</th>\n",
       "      <th>IBI_HF_Pow</th>\n",
       "      <th>IBI_Total_Pow</th>\n",
       "    </tr>\n",
       "  </thead>\n",
       "  <tbody>\n",
       "    <tr>\n",
       "      <td>0</td>\n",
       "      <td>1.23291</td>\n",
       "      <td>61.23291</td>\n",
       "      <td>1.0</td>\n",
       "      <td>352.217670</td>\n",
       "      <td>899.168643</td>\n",
       "      <td>811.819119</td>\n",
       "      <td>2656.535825</td>\n",
       "    </tr>\n",
       "    <tr>\n",
       "      <td>1</td>\n",
       "      <td>61.23291</td>\n",
       "      <td>121.23291</td>\n",
       "      <td>1.0</td>\n",
       "      <td>550.834181</td>\n",
       "      <td>1374.410097</td>\n",
       "      <td>1210.853782</td>\n",
       "      <td>3747.404928</td>\n",
       "    </tr>\n",
       "    <tr>\n",
       "      <td>2</td>\n",
       "      <td>121.23291</td>\n",
       "      <td>181.23291</td>\n",
       "      <td>1.0</td>\n",
       "      <td>345.594279</td>\n",
       "      <td>895.378458</td>\n",
       "      <td>1080.648642</td>\n",
       "      <td>2931.513514</td>\n",
       "    </tr>\n",
       "    <tr>\n",
       "      <td>3</td>\n",
       "      <td>181.23291</td>\n",
       "      <td>241.23291</td>\n",
       "      <td>1.0</td>\n",
       "      <td>147.923317</td>\n",
       "      <td>502.565918</td>\n",
       "      <td>821.206660</td>\n",
       "      <td>2194.938535</td>\n",
       "    </tr>\n",
       "    <tr>\n",
       "      <td>4</td>\n",
       "      <td>241.23291</td>\n",
       "      <td>301.23291</td>\n",
       "      <td>1.0</td>\n",
       "      <td>304.680398</td>\n",
       "      <td>835.174147</td>\n",
       "      <td>949.053919</td>\n",
       "      <td>2731.457401</td>\n",
       "    </tr>\n",
       "    <tr>\n",
       "      <td>5</td>\n",
       "      <td>301.23291</td>\n",
       "      <td>361.23291</td>\n",
       "      <td>1.0</td>\n",
       "      <td>129.170666</td>\n",
       "      <td>407.688946</td>\n",
       "      <td>856.028969</td>\n",
       "      <td>2150.840927</td>\n",
       "    </tr>\n",
       "    <tr>\n",
       "      <td>6</td>\n",
       "      <td>361.23291</td>\n",
       "      <td>421.23291</td>\n",
       "      <td>1.0</td>\n",
       "      <td>420.924895</td>\n",
       "      <td>1147.505908</td>\n",
       "      <td>942.611732</td>\n",
       "      <td>3225.094682</td>\n",
       "    </tr>\n",
       "    <tr>\n",
       "      <td>7</td>\n",
       "      <td>421.23291</td>\n",
       "      <td>481.23291</td>\n",
       "      <td>1.0</td>\n",
       "      <td>173.216670</td>\n",
       "      <td>620.523254</td>\n",
       "      <td>1042.951528</td>\n",
       "      <td>2594.452406</td>\n",
       "    </tr>\n",
       "    <tr>\n",
       "      <td>8</td>\n",
       "      <td>481.23291</td>\n",
       "      <td>541.23291</td>\n",
       "      <td>1.0</td>\n",
       "      <td>308.527273</td>\n",
       "      <td>889.398343</td>\n",
       "      <td>960.058784</td>\n",
       "      <td>2784.363424</td>\n",
       "    </tr>\n",
       "    <tr>\n",
       "      <td>9</td>\n",
       "      <td>601.23291</td>\n",
       "      <td>661.23291</td>\n",
       "      <td>2.0</td>\n",
       "      <td>444.298223</td>\n",
       "      <td>1194.362544</td>\n",
       "      <td>998.990094</td>\n",
       "      <td>3334.517032</td>\n",
       "    </tr>\n",
       "    <tr>\n",
       "      <td>10</td>\n",
       "      <td>661.23291</td>\n",
       "      <td>721.23291</td>\n",
       "      <td>2.0</td>\n",
       "      <td>324.266132</td>\n",
       "      <td>974.343080</td>\n",
       "      <td>1196.586831</td>\n",
       "      <td>3259.765956</td>\n",
       "    </tr>\n",
       "    <tr>\n",
       "      <td>11</td>\n",
       "      <td>721.23291</td>\n",
       "      <td>781.23291</td>\n",
       "      <td>2.0</td>\n",
       "      <td>465.289062</td>\n",
       "      <td>1163.469922</td>\n",
       "      <td>1160.945831</td>\n",
       "      <td>3513.961695</td>\n",
       "    </tr>\n",
       "    <tr>\n",
       "      <td>12</td>\n",
       "      <td>781.23291</td>\n",
       "      <td>841.23291</td>\n",
       "      <td>2.0</td>\n",
       "      <td>329.018438</td>\n",
       "      <td>647.997999</td>\n",
       "      <td>1068.065575</td>\n",
       "      <td>2750.995958</td>\n",
       "    </tr>\n",
       "    <tr>\n",
       "      <td>13</td>\n",
       "      <td>841.23291</td>\n",
       "      <td>901.23291</td>\n",
       "      <td>2.0</td>\n",
       "      <td>123.478462</td>\n",
       "      <td>607.606137</td>\n",
       "      <td>1517.046002</td>\n",
       "      <td>2921.751554</td>\n",
       "    </tr>\n",
       "    <tr>\n",
       "      <td>14</td>\n",
       "      <td>901.23291</td>\n",
       "      <td>961.23291</td>\n",
       "      <td>2.0</td>\n",
       "      <td>246.953092</td>\n",
       "      <td>836.338730</td>\n",
       "      <td>951.893918</td>\n",
       "      <td>2711.154569</td>\n",
       "    </tr>\n",
       "    <tr>\n",
       "      <td>15</td>\n",
       "      <td>961.23291</td>\n",
       "      <td>1021.23291</td>\n",
       "      <td>2.0</td>\n",
       "      <td>358.592169</td>\n",
       "      <td>841.813791</td>\n",
       "      <td>900.958338</td>\n",
       "      <td>2809.164517</td>\n",
       "    </tr>\n",
       "    <tr>\n",
       "      <td>16</td>\n",
       "      <td>1021.23291</td>\n",
       "      <td>1081.23291</td>\n",
       "      <td>2.0</td>\n",
       "      <td>298.032101</td>\n",
       "      <td>1005.845512</td>\n",
       "      <td>1201.414269</td>\n",
       "      <td>3153.152916</td>\n",
       "    </tr>\n",
       "    <tr>\n",
       "      <td>17</td>\n",
       "      <td>1081.23291</td>\n",
       "      <td>1141.23291</td>\n",
       "      <td>2.0</td>\n",
       "      <td>331.563606</td>\n",
       "      <td>563.764913</td>\n",
       "      <td>833.742122</td>\n",
       "      <td>2445.889496</td>\n",
       "    </tr>\n",
       "    <tr>\n",
       "      <td>18</td>\n",
       "      <td>1141.23291</td>\n",
       "      <td>1201.23291</td>\n",
       "      <td>2.0</td>\n",
       "      <td>279.031588</td>\n",
       "      <td>638.108880</td>\n",
       "      <td>982.788327</td>\n",
       "      <td>2675.401683</td>\n",
       "    </tr>\n",
       "    <tr>\n",
       "      <td>19</td>\n",
       "      <td>1201.23291</td>\n",
       "      <td>1261.23291</td>\n",
       "      <td>2.0</td>\n",
       "      <td>190.459188</td>\n",
       "      <td>606.682844</td>\n",
       "      <td>916.278788</td>\n",
       "      <td>2447.792323</td>\n",
       "    </tr>\n",
       "    <tr>\n",
       "      <td>20</td>\n",
       "      <td>1261.23291</td>\n",
       "      <td>1321.23291</td>\n",
       "      <td>2.0</td>\n",
       "      <td>157.201880</td>\n",
       "      <td>486.542730</td>\n",
       "      <td>804.787959</td>\n",
       "      <td>2265.553746</td>\n",
       "    </tr>\n",
       "    <tr>\n",
       "      <td>21</td>\n",
       "      <td>1321.23291</td>\n",
       "      <td>1381.23291</td>\n",
       "      <td>2.0</td>\n",
       "      <td>307.421252</td>\n",
       "      <td>325.812259</td>\n",
       "      <td>945.554879</td>\n",
       "      <td>2344.581438</td>\n",
       "    </tr>\n",
       "    <tr>\n",
       "      <td>22</td>\n",
       "      <td>1381.23291</td>\n",
       "      <td>1441.23291</td>\n",
       "      <td>2.0</td>\n",
       "      <td>145.703279</td>\n",
       "      <td>437.496755</td>\n",
       "      <td>1013.768449</td>\n",
       "      <td>2554.570721</td>\n",
       "    </tr>\n",
       "    <tr>\n",
       "      <td>23</td>\n",
       "      <td>1441.23291</td>\n",
       "      <td>1501.23291</td>\n",
       "      <td>2.0</td>\n",
       "      <td>152.388282</td>\n",
       "      <td>561.990119</td>\n",
       "      <td>1104.862683</td>\n",
       "      <td>2557.999265</td>\n",
       "    </tr>\n",
       "    <tr>\n",
       "      <td>24</td>\n",
       "      <td>1501.23291</td>\n",
       "      <td>1561.23291</td>\n",
       "      <td>2.0</td>\n",
       "      <td>162.039982</td>\n",
       "      <td>512.876391</td>\n",
       "      <td>704.544783</td>\n",
       "      <td>2053.210280</td>\n",
       "    </tr>\n",
       "    <tr>\n",
       "      <td>25</td>\n",
       "      <td>1561.23291</td>\n",
       "      <td>1621.23291</td>\n",
       "      <td>2.0</td>\n",
       "      <td>149.135611</td>\n",
       "      <td>447.660742</td>\n",
       "      <td>663.199986</td>\n",
       "      <td>1934.127542</td>\n",
       "    </tr>\n",
       "    <tr>\n",
       "      <td>26</td>\n",
       "      <td>1621.23291</td>\n",
       "      <td>1681.23291</td>\n",
       "      <td>2.0</td>\n",
       "      <td>239.663428</td>\n",
       "      <td>660.385302</td>\n",
       "      <td>892.870690</td>\n",
       "      <td>2464.199641</td>\n",
       "    </tr>\n",
       "    <tr>\n",
       "      <td>27</td>\n",
       "      <td>1681.23291</td>\n",
       "      <td>1741.23291</td>\n",
       "      <td>2.0</td>\n",
       "      <td>95.373164</td>\n",
       "      <td>371.032972</td>\n",
       "      <td>591.225181</td>\n",
       "      <td>1786.439379</td>\n",
       "    </tr>\n",
       "    <tr>\n",
       "      <td>28</td>\n",
       "      <td>1741.23291</td>\n",
       "      <td>1801.23291</td>\n",
       "      <td>2.0</td>\n",
       "      <td>329.071231</td>\n",
       "      <td>780.584241</td>\n",
       "      <td>888.208340</td>\n",
       "      <td>2618.027175</td>\n",
       "    </tr>\n",
       "    <tr>\n",
       "      <td>29</td>\n",
       "      <td>1801.23291</td>\n",
       "      <td>1861.23291</td>\n",
       "      <td>2.0</td>\n",
       "      <td>323.256252</td>\n",
       "      <td>1045.777627</td>\n",
       "      <td>1033.381338</td>\n",
       "      <td>3056.144856</td>\n",
       "    </tr>\n",
       "    <tr>\n",
       "      <td>30</td>\n",
       "      <td>1861.23291</td>\n",
       "      <td>1921.23291</td>\n",
       "      <td>2.0</td>\n",
       "      <td>231.329847</td>\n",
       "      <td>543.322857</td>\n",
       "      <td>962.917048</td>\n",
       "      <td>2413.954308</td>\n",
       "    </tr>\n",
       "    <tr>\n",
       "      <td>31</td>\n",
       "      <td>1921.23291</td>\n",
       "      <td>1981.23291</td>\n",
       "      <td>2.0</td>\n",
       "      <td>173.069947</td>\n",
       "      <td>492.139056</td>\n",
       "      <td>700.710085</td>\n",
       "      <td>1988.040862</td>\n",
       "    </tr>\n",
       "    <tr>\n",
       "      <td>32</td>\n",
       "      <td>1981.23291</td>\n",
       "      <td>2041.23291</td>\n",
       "      <td>2.0</td>\n",
       "      <td>102.555447</td>\n",
       "      <td>374.053880</td>\n",
       "      <td>675.920626</td>\n",
       "      <td>1789.927075</td>\n",
       "    </tr>\n",
       "    <tr>\n",
       "      <td>33</td>\n",
       "      <td>2041.23291</td>\n",
       "      <td>2101.23291</td>\n",
       "      <td>2.0</td>\n",
       "      <td>208.197016</td>\n",
       "      <td>617.514485</td>\n",
       "      <td>857.292921</td>\n",
       "      <td>2331.517960</td>\n",
       "    </tr>\n",
       "    <tr>\n",
       "      <td>34</td>\n",
       "      <td>2101.23291</td>\n",
       "      <td>2161.23291</td>\n",
       "      <td>2.0</td>\n",
       "      <td>275.718500</td>\n",
       "      <td>601.998218</td>\n",
       "      <td>901.515422</td>\n",
       "      <td>2427.091506</td>\n",
       "    </tr>\n",
       "    <tr>\n",
       "      <td>35</td>\n",
       "      <td>2161.23291</td>\n",
       "      <td>2221.23291</td>\n",
       "      <td>2.0</td>\n",
       "      <td>230.343916</td>\n",
       "      <td>683.287122</td>\n",
       "      <td>961.604933</td>\n",
       "      <td>2503.973714</td>\n",
       "    </tr>\n",
       "    <tr>\n",
       "      <td>36</td>\n",
       "      <td>2221.23291</td>\n",
       "      <td>2281.23291</td>\n",
       "      <td>2.0</td>\n",
       "      <td>273.576634</td>\n",
       "      <td>763.238090</td>\n",
       "      <td>788.147482</td>\n",
       "      <td>2559.246613</td>\n",
       "    </tr>\n",
       "    <tr>\n",
       "      <td>37</td>\n",
       "      <td>2281.23291</td>\n",
       "      <td>2341.23291</td>\n",
       "      <td>2.0</td>\n",
       "      <td>85.384739</td>\n",
       "      <td>256.664905</td>\n",
       "      <td>577.228626</td>\n",
       "      <td>1675.567781</td>\n",
       "    </tr>\n",
       "    <tr>\n",
       "      <td>38</td>\n",
       "      <td>2341.23291</td>\n",
       "      <td>2401.23291</td>\n",
       "      <td>2.0</td>\n",
       "      <td>240.225992</td>\n",
       "      <td>506.610470</td>\n",
       "      <td>813.692297</td>\n",
       "      <td>2255.913551</td>\n",
       "    </tr>\n",
       "    <tr>\n",
       "      <td>39</td>\n",
       "      <td>2401.23291</td>\n",
       "      <td>2461.23291</td>\n",
       "      <td>2.0</td>\n",
       "      <td>111.464652</td>\n",
       "      <td>339.605776</td>\n",
       "      <td>671.700098</td>\n",
       "      <td>1879.035506</td>\n",
       "    </tr>\n",
       "    <tr>\n",
       "      <td>40</td>\n",
       "      <td>2461.23291</td>\n",
       "      <td>2521.23291</td>\n",
       "      <td>2.0</td>\n",
       "      <td>110.256044</td>\n",
       "      <td>384.593828</td>\n",
       "      <td>607.160255</td>\n",
       "      <td>1945.375080</td>\n",
       "    </tr>\n",
       "    <tr>\n",
       "      <td>41</td>\n",
       "      <td>2521.23291</td>\n",
       "      <td>2581.23291</td>\n",
       "      <td>2.0</td>\n",
       "      <td>167.880988</td>\n",
       "      <td>400.232395</td>\n",
       "      <td>444.074445</td>\n",
       "      <td>1667.901722</td>\n",
       "    </tr>\n",
       "    <tr>\n",
       "      <td>42</td>\n",
       "      <td>2581.23291</td>\n",
       "      <td>2641.23291</td>\n",
       "      <td>2.0</td>\n",
       "      <td>173.407441</td>\n",
       "      <td>409.675417</td>\n",
       "      <td>533.805052</td>\n",
       "      <td>1759.936558</td>\n",
       "    </tr>\n",
       "    <tr>\n",
       "      <td>43</td>\n",
       "      <td>2641.23291</td>\n",
       "      <td>2701.23291</td>\n",
       "      <td>2.0</td>\n",
       "      <td>250.895962</td>\n",
       "      <td>795.669827</td>\n",
       "      <td>859.250890</td>\n",
       "      <td>2607.703729</td>\n",
       "    </tr>\n",
       "    <tr>\n",
       "      <td>44</td>\n",
       "      <td>2701.23291</td>\n",
       "      <td>2761.23291</td>\n",
       "      <td>2.0</td>\n",
       "      <td>136.292439</td>\n",
       "      <td>441.218143</td>\n",
       "      <td>799.056071</td>\n",
       "      <td>2108.877703</td>\n",
       "    </tr>\n",
       "    <tr>\n",
       "      <td>45</td>\n",
       "      <td>2761.23291</td>\n",
       "      <td>2821.23291</td>\n",
       "      <td>2.0</td>\n",
       "      <td>131.638986</td>\n",
       "      <td>361.584131</td>\n",
       "      <td>722.661620</td>\n",
       "      <td>2013.922403</td>\n",
       "    </tr>\n",
       "    <tr>\n",
       "      <td>46</td>\n",
       "      <td>2821.23291</td>\n",
       "      <td>2881.23291</td>\n",
       "      <td>2.0</td>\n",
       "      <td>119.239734</td>\n",
       "      <td>418.224755</td>\n",
       "      <td>840.686062</td>\n",
       "      <td>2222.367637</td>\n",
       "    </tr>\n",
       "    <tr>\n",
       "      <td>47</td>\n",
       "      <td>2881.23291</td>\n",
       "      <td>2941.23291</td>\n",
       "      <td>2.0</td>\n",
       "      <td>159.072379</td>\n",
       "      <td>464.992367</td>\n",
       "      <td>765.764471</td>\n",
       "      <td>2201.408297</td>\n",
       "    </tr>\n",
       "    <tr>\n",
       "      <td>48</td>\n",
       "      <td>2941.23291</td>\n",
       "      <td>3001.23291</td>\n",
       "      <td>2.0</td>\n",
       "      <td>253.738642</td>\n",
       "      <td>465.007525</td>\n",
       "      <td>753.182152</td>\n",
       "      <td>2206.201599</td>\n",
       "    </tr>\n",
       "    <tr>\n",
       "      <td>49</td>\n",
       "      <td>3001.23291</td>\n",
       "      <td>3061.23291</td>\n",
       "      <td>2.0</td>\n",
       "      <td>182.666967</td>\n",
       "      <td>502.187318</td>\n",
       "      <td>776.870812</td>\n",
       "      <td>2199.060314</td>\n",
       "    </tr>\n",
       "    <tr>\n",
       "      <td>50</td>\n",
       "      <td>3061.23291</td>\n",
       "      <td>3121.23291</td>\n",
       "      <td>2.0</td>\n",
       "      <td>224.435687</td>\n",
       "      <td>608.430930</td>\n",
       "      <td>847.258694</td>\n",
       "      <td>2363.767189</td>\n",
       "    </tr>\n",
       "    <tr>\n",
       "      <td>51</td>\n",
       "      <td>3121.23291</td>\n",
       "      <td>3181.23291</td>\n",
       "      <td>2.0</td>\n",
       "      <td>253.256338</td>\n",
       "      <td>615.583511</td>\n",
       "      <td>883.530897</td>\n",
       "      <td>2496.205073</td>\n",
       "    </tr>\n",
       "    <tr>\n",
       "      <td>52</td>\n",
       "      <td>3181.23291</td>\n",
       "      <td>3241.23291</td>\n",
       "      <td>2.0</td>\n",
       "      <td>113.645415</td>\n",
       "      <td>307.968618</td>\n",
       "      <td>575.331637</td>\n",
       "      <td>1733.382056</td>\n",
       "    </tr>\n",
       "    <tr>\n",
       "      <td>53</td>\n",
       "      <td>3241.23291</td>\n",
       "      <td>3301.23291</td>\n",
       "      <td>2.0</td>\n",
       "      <td>149.642231</td>\n",
       "      <td>452.398824</td>\n",
       "      <td>778.482678</td>\n",
       "      <td>2115.647448</td>\n",
       "    </tr>\n",
       "    <tr>\n",
       "      <td>54</td>\n",
       "      <td>3301.23291</td>\n",
       "      <td>3361.23291</td>\n",
       "      <td>2.0</td>\n",
       "      <td>188.145892</td>\n",
       "      <td>477.171353</td>\n",
       "      <td>673.623419</td>\n",
       "      <td>2009.654935</td>\n",
       "    </tr>\n",
       "    <tr>\n",
       "      <td>55</td>\n",
       "      <td>3361.23291</td>\n",
       "      <td>3421.23291</td>\n",
       "      <td>2.0</td>\n",
       "      <td>440.477064</td>\n",
       "      <td>818.674510</td>\n",
       "      <td>759.393950</td>\n",
       "      <td>2658.786339</td>\n",
       "    </tr>\n",
       "  </tbody>\n",
       "</table>\n",
       "</div>"
      ],
      "text/plain": [
       "         begin         end  label  IBI_VLF_Pow   IBI_LF_Pow   IBI_HF_Pow  \\\n",
       "0      1.23291    61.23291    1.0   352.217670   899.168643   811.819119   \n",
       "1     61.23291   121.23291    1.0   550.834181  1374.410097  1210.853782   \n",
       "2    121.23291   181.23291    1.0   345.594279   895.378458  1080.648642   \n",
       "3    181.23291   241.23291    1.0   147.923317   502.565918   821.206660   \n",
       "4    241.23291   301.23291    1.0   304.680398   835.174147   949.053919   \n",
       "5    301.23291   361.23291    1.0   129.170666   407.688946   856.028969   \n",
       "6    361.23291   421.23291    1.0   420.924895  1147.505908   942.611732   \n",
       "7    421.23291   481.23291    1.0   173.216670   620.523254  1042.951528   \n",
       "8    481.23291   541.23291    1.0   308.527273   889.398343   960.058784   \n",
       "9    601.23291   661.23291    2.0   444.298223  1194.362544   998.990094   \n",
       "10   661.23291   721.23291    2.0   324.266132   974.343080  1196.586831   \n",
       "11   721.23291   781.23291    2.0   465.289062  1163.469922  1160.945831   \n",
       "12   781.23291   841.23291    2.0   329.018438   647.997999  1068.065575   \n",
       "13   841.23291   901.23291    2.0   123.478462   607.606137  1517.046002   \n",
       "14   901.23291   961.23291    2.0   246.953092   836.338730   951.893918   \n",
       "15   961.23291  1021.23291    2.0   358.592169   841.813791   900.958338   \n",
       "16  1021.23291  1081.23291    2.0   298.032101  1005.845512  1201.414269   \n",
       "17  1081.23291  1141.23291    2.0   331.563606   563.764913   833.742122   \n",
       "18  1141.23291  1201.23291    2.0   279.031588   638.108880   982.788327   \n",
       "19  1201.23291  1261.23291    2.0   190.459188   606.682844   916.278788   \n",
       "20  1261.23291  1321.23291    2.0   157.201880   486.542730   804.787959   \n",
       "21  1321.23291  1381.23291    2.0   307.421252   325.812259   945.554879   \n",
       "22  1381.23291  1441.23291    2.0   145.703279   437.496755  1013.768449   \n",
       "23  1441.23291  1501.23291    2.0   152.388282   561.990119  1104.862683   \n",
       "24  1501.23291  1561.23291    2.0   162.039982   512.876391   704.544783   \n",
       "25  1561.23291  1621.23291    2.0   149.135611   447.660742   663.199986   \n",
       "26  1621.23291  1681.23291    2.0   239.663428   660.385302   892.870690   \n",
       "27  1681.23291  1741.23291    2.0    95.373164   371.032972   591.225181   \n",
       "28  1741.23291  1801.23291    2.0   329.071231   780.584241   888.208340   \n",
       "29  1801.23291  1861.23291    2.0   323.256252  1045.777627  1033.381338   \n",
       "30  1861.23291  1921.23291    2.0   231.329847   543.322857   962.917048   \n",
       "31  1921.23291  1981.23291    2.0   173.069947   492.139056   700.710085   \n",
       "32  1981.23291  2041.23291    2.0   102.555447   374.053880   675.920626   \n",
       "33  2041.23291  2101.23291    2.0   208.197016   617.514485   857.292921   \n",
       "34  2101.23291  2161.23291    2.0   275.718500   601.998218   901.515422   \n",
       "35  2161.23291  2221.23291    2.0   230.343916   683.287122   961.604933   \n",
       "36  2221.23291  2281.23291    2.0   273.576634   763.238090   788.147482   \n",
       "37  2281.23291  2341.23291    2.0    85.384739   256.664905   577.228626   \n",
       "38  2341.23291  2401.23291    2.0   240.225992   506.610470   813.692297   \n",
       "39  2401.23291  2461.23291    2.0   111.464652   339.605776   671.700098   \n",
       "40  2461.23291  2521.23291    2.0   110.256044   384.593828   607.160255   \n",
       "41  2521.23291  2581.23291    2.0   167.880988   400.232395   444.074445   \n",
       "42  2581.23291  2641.23291    2.0   173.407441   409.675417   533.805052   \n",
       "43  2641.23291  2701.23291    2.0   250.895962   795.669827   859.250890   \n",
       "44  2701.23291  2761.23291    2.0   136.292439   441.218143   799.056071   \n",
       "45  2761.23291  2821.23291    2.0   131.638986   361.584131   722.661620   \n",
       "46  2821.23291  2881.23291    2.0   119.239734   418.224755   840.686062   \n",
       "47  2881.23291  2941.23291    2.0   159.072379   464.992367   765.764471   \n",
       "48  2941.23291  3001.23291    2.0   253.738642   465.007525   753.182152   \n",
       "49  3001.23291  3061.23291    2.0   182.666967   502.187318   776.870812   \n",
       "50  3061.23291  3121.23291    2.0   224.435687   608.430930   847.258694   \n",
       "51  3121.23291  3181.23291    2.0   253.256338   615.583511   883.530897   \n",
       "52  3181.23291  3241.23291    2.0   113.645415   307.968618   575.331637   \n",
       "53  3241.23291  3301.23291    2.0   149.642231   452.398824   778.482678   \n",
       "54  3301.23291  3361.23291    2.0   188.145892   477.171353   673.623419   \n",
       "55  3361.23291  3421.23291    2.0   440.477064   818.674510   759.393950   \n",
       "\n",
       "    IBI_Total_Pow  \n",
       "0     2656.535825  \n",
       "1     3747.404928  \n",
       "2     2931.513514  \n",
       "3     2194.938535  \n",
       "4     2731.457401  \n",
       "5     2150.840927  \n",
       "6     3225.094682  \n",
       "7     2594.452406  \n",
       "8     2784.363424  \n",
       "9     3334.517032  \n",
       "10    3259.765956  \n",
       "11    3513.961695  \n",
       "12    2750.995958  \n",
       "13    2921.751554  \n",
       "14    2711.154569  \n",
       "15    2809.164517  \n",
       "16    3153.152916  \n",
       "17    2445.889496  \n",
       "18    2675.401683  \n",
       "19    2447.792323  \n",
       "20    2265.553746  \n",
       "21    2344.581438  \n",
       "22    2554.570721  \n",
       "23    2557.999265  \n",
       "24    2053.210280  \n",
       "25    1934.127542  \n",
       "26    2464.199641  \n",
       "27    1786.439379  \n",
       "28    2618.027175  \n",
       "29    3056.144856  \n",
       "30    2413.954308  \n",
       "31    1988.040862  \n",
       "32    1789.927075  \n",
       "33    2331.517960  \n",
       "34    2427.091506  \n",
       "35    2503.973714  \n",
       "36    2559.246613  \n",
       "37    1675.567781  \n",
       "38    2255.913551  \n",
       "39    1879.035506  \n",
       "40    1945.375080  \n",
       "41    1667.901722  \n",
       "42    1759.936558  \n",
       "43    2607.703729  \n",
       "44    2108.877703  \n",
       "45    2013.922403  \n",
       "46    2222.367637  \n",
       "47    2201.408297  \n",
       "48    2206.201599  \n",
       "49    2199.060314  \n",
       "50    2363.767189  \n",
       "51    2496.205073  \n",
       "52    1733.382056  \n",
       "53    2115.647448  \n",
       "54    2009.654935  \n",
       "55    2658.786339  "
      ]
     },
     "execution_count": 29,
     "metadata": {},
     "output_type": "execute_result"
    }
   ],
   "source": [
    "import pandas as pd\n",
    "\n",
    "# create a pandas dataframe\n",
    "FD_HRV_pp60_df = pd.DataFrame(FD_HRV_ind, columns=col_names)\n",
    "\n",
    "FD_HRV_pp60_df"
   ]
  },
  {
   "cell_type": "code",
   "execution_count": 30,
   "metadata": {},
   "outputs": [],
   "source": [
    "#save data \n",
    "FD_HRV_pp60_df.to_csv('FD_HRV_pp60.csv')"
   ]
  },
  {
   "cell_type": "code",
   "execution_count": null,
   "metadata": {},
   "outputs": [],
   "source": []
  }
 ],
 "metadata": {
  "kernelspec": {
   "display_name": "Python 3",
   "language": "python",
   "name": "python3"
  },
  "language_info": {
   "codemirror_mode": {
    "name": "ipython",
    "version": 3
   },
   "file_extension": ".py",
   "mimetype": "text/x-python",
   "name": "python",
   "nbconvert_exporter": "python",
   "pygments_lexer": "ipython3",
   "version": "3.7.4"
  }
 },
 "nbformat": 4,
 "nbformat_minor": 2
}
