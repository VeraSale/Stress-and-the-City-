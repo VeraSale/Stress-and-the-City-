{
 "cells": [
  {
   "cell_type": "code",
   "execution_count": 1,
   "metadata": {},
   "outputs": [],
   "source": [
    "# import libraries\n",
    "import numpy as np\n",
    "import matplotlib.pyplot as plt\n",
    "import pandas as pd \n",
    "\n",
    "%matplotlib inline "
   ]
  },
  {
   "cell_type": "code",
   "execution_count": 2,
   "metadata": {},
   "outputs": [
    {
     "name": "stdout",
     "output_type": "stream",
     "text": [
      "Please cite:\n",
      "Bizzego et al. (2019) 'pyphysio: A physiological signal processing library for data science approaches in physiology', SoftwareX\n"
     ]
    }
   ],
   "source": [
    "# import all pyphysio classes and methods\n",
    "import pyphysio as ph"
   ]
  },
  {
   "cell_type": "code",
   "execution_count": 3,
   "metadata": {},
   "outputs": [],
   "source": [
    "# import data and creating a signal\n",
    "df_BVP = pd.read_csv('BVP_pp37.csv', header=None)\n"
   ]
  },
  {
   "cell_type": "code",
   "execution_count": 4,
   "metadata": {},
   "outputs": [
    {
     "name": "stdout",
     "output_type": "stream",
     "text": [
      "0    223696\n",
      "dtype: int64\n"
     ]
    }
   ],
   "source": [
    "#count rows \n",
    "n_of_rows = df_BVP.count()\n",
    "print(n_of_rows)"
   ]
  },
  {
   "cell_type": "code",
   "execution_count": 5,
   "metadata": {},
   "outputs": [
    {
     "name": "stdout",
     "output_type": "stream",
     "text": [
      "223680\n"
     ]
    }
   ],
   "source": [
    "#actual recording time 58 mins = 3495s\n",
    "#rows based on seconds \n",
    "n_of_rows_keep = 3495*64\n",
    "print(n_of_rows_keep) #rows we want to keep "
   ]
  },
  {
   "cell_type": "code",
   "execution_count": 6,
   "metadata": {},
   "outputs": [
    {
     "name": "stdout",
     "output_type": "stream",
     "text": [
      "           0\n",
      "0       0.00\n",
      "1       0.00\n",
      "2       0.00\n",
      "3       0.00\n",
      "4       0.00\n",
      "...      ...\n",
      "223675 -2.10\n",
      "223676 -2.99\n",
      "223677 -4.10\n",
      "223678 -5.25\n",
      "223679 -6.25\n",
      "\n",
      "[223680 rows x 1 columns]\n"
     ]
    }
   ],
   "source": [
    "#using pandas to drop all the rows / seconds after 3540s \n",
    "df_BVP = df_BVP.drop(df_BVP.index[223680:223696])\n",
    "\n",
    "print(df_BVP)"
   ]
  },
  {
   "cell_type": "code",
   "execution_count": 7,
   "metadata": {},
   "outputs": [
    {
     "name": "stdout",
     "output_type": "stream",
     "text": [
      "0    223680\n",
      "dtype: int64\n",
      "0    3495.0\n",
      "dtype: float64\n",
      "0    58.25\n",
      "dtype: float64\n"
     ]
    }
   ],
   "source": [
    "#count n of rows to get time of recording (s) \n",
    "n_of_rows = df_BVP.count()\n",
    "print(n_of_rows)\n",
    "#walk time in seconds \n",
    "walk_time_seconds = n_of_rows/64\n",
    "print(walk_time_seconds)\n",
    "#walk time in minutes\n",
    "walk_time_minutes = walk_time_seconds/60\n",
    "print(walk_time_minutes)\n"
   ]
  },
  {
   "cell_type": "code",
   "execution_count": 8,
   "metadata": {},
   "outputs": [],
   "source": [
    "#create BVP signal \n",
    "fsamp = 64  #64 Hz \n",
    "t_start = 0\n",
    "\n",
    "ecg = ph.EvenlySignal(values = df_BVP, sampling_freq = fsamp, signal_type = 'ecg')"
   ]
  },
  {
   "cell_type": "code",
   "execution_count": 9,
   "metadata": {},
   "outputs": [
    {
     "name": "stdout",
     "output_type": "stream",
     "text": [
      "0\n"
     ]
    }
   ],
   "source": [
    "print(ecg.get_start_time())"
   ]
  },
  {
   "cell_type": "code",
   "execution_count": 10,
   "metadata": {},
   "outputs": [
    {
     "data": {
      "text/plain": [
       "[<matplotlib.lines.Line2D at 0x1c1b691390>]"
      ]
     },
     "execution_count": 10,
     "metadata": {},
     "output_type": "execute_result"
    },
    {
     "data": {
      "image/png": "[encoded data removed]",
      "text/plain": [
       "<Figure size 432x288 with 1 Axes>"
      ]
     },
     "metadata": {
      "needs_background": "light"
     },
     "output_type": "display_data"
    }
   ],
   "source": [
    "ecg.plot()"
   ]
  },
  {
   "cell_type": "code",
   "execution_count": 11,
   "metadata": {},
   "outputs": [],
   "source": [
    "ibi = ph.BeatFromECG()(ecg)"
   ]
  },
  {
   "cell_type": "code",
   "execution_count": 12,
   "metadata": {},
   "outputs": [
    {
     "data": {
      "text/plain": [
       "3495.0"
      ]
     },
     "execution_count": 12,
     "metadata": {},
     "output_type": "execute_result"
    }
   ],
   "source": [
    "ibi.get_duration() #seconds "
   ]
  },
  {
   "cell_type": "code",
   "execution_count": 13,
   "metadata": {},
   "outputs": [],
   "source": [
    "# create label\n",
    "label = np.zeros(3495)\n",
    "label[0:600] =1\n",
    "label[600:3495] = 2\n",
    "\n",
    "label = ph.EvenlySignal(label, sampling_freq = 1, signal_type = 'label') \n",
    "#sampling_freq here is not intended as real sampfeq, only the distance between one point and the other (e.g. 10 = 10 units between 'begin' & 'end')"
   ]
  },
  {
   "cell_type": "code",
   "execution_count": 14,
   "metadata": {},
   "outputs": [],
   "source": [
    "# (optional) IIR filtering : remove high frequency noise\n",
    "#ecg = ph.IIRFilter(fp=45, fs = 50, ftype='ellip')(ecg)"
   ]
  },
  {
   "cell_type": "code",
   "execution_count": 15,
   "metadata": {},
   "outputs": [],
   "source": [
    "# normalization : normalize data\n",
    "ecg = ph.Normalize(norm_method='standard')(ecg)"
   ]
  },
  {
   "cell_type": "code",
   "execution_count": 16,
   "metadata": {},
   "outputs": [],
   "source": [
    "# resampling : increase the sampling frequency by cubic interpolation\n",
    "ecg = ecg.resample(fout=4096, kind='cubic')\n",
    "fsamp = 4096"
   ]
  },
  {
   "cell_type": "code",
   "execution_count": 17,
   "metadata": {},
   "outputs": [
    {
     "data": {
      "text/plain": [
       "[<matplotlib.lines.Line2D at 0x1c1d2642d0>]"
      ]
     },
     "execution_count": 17,
     "metadata": {},
     "output_type": "execute_result"
    },
    {
     "data": {
      "image/png": "[encoded data removed]",
      "text/plain": [
       "<Figure size 432x288 with 1 Axes>"
      ]
     },
     "metadata": {
      "needs_background": "light"
     },
     "output_type": "display_data"
    }
   ],
   "source": [
    "ecg.plot()"
   ]
  },
  {
   "cell_type": "code",
   "execution_count": 18,
   "metadata": {},
   "outputs": [],
   "source": [
    "ibi = ph.BeatFromECG()(ecg)"
   ]
  },
  {
   "cell_type": "code",
   "execution_count": 19,
   "metadata": {},
   "outputs": [
    {
     "data": {
      "text/plain": [
       "3495.0"
      ]
     },
     "execution_count": 19,
     "metadata": {},
     "output_type": "execute_result"
    }
   ],
   "source": [
    "ibi.get_duration()\n"
   ]
  },
  {
   "cell_type": "code",
   "execution_count": 20,
   "metadata": {
    "scrolled": true
   },
   "outputs": [
    {
     "data": {
      "image/png": "[encoded data removed]",
      "text/plain": [
       "<Figure size 432x288 with 2 Axes>"
      ]
     },
     "metadata": {
      "needs_background": "light"
     },
     "output_type": "display_data"
    }
   ],
   "source": [
    "# check results so far\n",
    "ax1 = plt.subplot(211)\n",
    "ecg.plot()\n",
    "plt.vlines(ibi.get_times(), np.min(ecg), np.max(ecg))\n",
    "\n",
    "plt.subplot(212, sharex = ax1)\n",
    "ibi.plot('o-')\n",
    "plt.vlines(ibi.get_times(), np.min(ibi), np.max(ibi))\n",
    "plt.show()"
   ]
  },
  {
   "cell_type": "code",
   "execution_count": 21,
   "metadata": {},
   "outputs": [],
   "source": [
    "### physiological indicators "
   ]
  },
  {
   "cell_type": "code",
   "execution_count": 22,
   "metadata": {},
   "outputs": [
    {
     "data": {
      "image/png": "[encoded data removed]",
      "text/plain": [
       "<Figure size 432x288 with 2 Axes>"
      ]
     },
     "metadata": {
      "needs_background": "light"
     },
     "output_type": "display_data"
    }
   ],
   "source": [
    "# check label\n",
    "ax1 = plt.subplot(211)\n",
    "ibi.plot('.-')\n",
    "\n",
    "plt.subplot(212, sharex = ax1)\n",
    "label.plot('.-')\n",
    "plt.show()"
   ]
  },
  {
   "cell_type": "code",
   "execution_count": 23,
   "metadata": {},
   "outputs": [],
   "source": [
    "# define a list of indicators we want to compute\n",
    "hrv_indicators = [ph.Mean(name='RRmean'), ph.StDev(name='RRstd'), ph.RMSSD(name='rmsSD')]"
   ]
  },
  {
   "cell_type": "code",
   "execution_count": 24,
   "metadata": {},
   "outputs": [],
   "source": [
    "#fixed length windowing\n",
    "fixed_length = ph.FixedSegments(step = 60, width = 60, labels = label)\n",
    "\n",
    "indicators, col_names = ph.fmap(fixed_length, hrv_indicators, ibi)"
   ]
  },
  {
   "cell_type": "code",
   "execution_count": 25,
   "metadata": {},
   "outputs": [],
   "source": [
    "# extract column with the labels for each window\n",
    "label_w = indicators[:, np.where(col_names == 'label')[0]]\n",
    "\n",
    "# extract column with the RRmean values computed from each window\n",
    "rrmean_w = indicators[:, np.where(col_names == 'RRmean')[0]]\n",
    "\n",
    "rrmean_image1 = rrmean_w[np.where(label_w==1)[0]].ravel()\n",
    "rrmean_image2 = rrmean_w[np.where(label_w==2)[0]].ravel()"
   ]
  },
  {
   "cell_type": "code",
   "execution_count": 26,
   "metadata": {},
   "outputs": [
    {
     "data": {
      "text/plain": [
       "{'whiskers': [<matplotlib.lines.Line2D at 0x1c1ba4d9d0>,\n",
       "  <matplotlib.lines.Line2D at 0x1c1b856b90>,\n",
       "  <matplotlib.lines.Line2D at 0x1c1c44d290>,\n",
       "  <matplotlib.lines.Line2D at 0x1c1ba4df10>],\n",
       " 'caps': [<matplotlib.lines.Line2D at 0x1c1b8563d0>,\n",
       "  <matplotlib.lines.Line2D at 0x1c1b856110>,\n",
       "  <matplotlib.lines.Line2D at 0x1c1b89b990>,\n",
       "  <matplotlib.lines.Line2D at 0x1c1b89b110>],\n",
       " 'boxes': [<matplotlib.lines.Line2D at 0x1c1ba4d1d0>,\n",
       "  <matplotlib.lines.Line2D at 0x1c1c02ecd0>],\n",
       " 'medians': [<matplotlib.lines.Line2D at 0x1c1c02e450>,\n",
       "  <matplotlib.lines.Line2D at 0x1c1b88c650>],\n",
       " 'fliers': [<matplotlib.lines.Line2D at 0x1c1c02ea90>,\n",
       "  <matplotlib.lines.Line2D at 0x1c1c02e550>],\n",
       " 'means': []}"
      ]
     },
     "execution_count": 26,
     "metadata": {},
     "output_type": "execute_result"
    },
    {
     "data": {
      "image/png": "[encoded data removed]",
      "text/plain": [
       "<Figure size 432x288 with 1 Axes>"
      ]
     },
     "metadata": {
      "needs_background": "light"
     },
     "output_type": "display_data"
    }
   ],
   "source": [
    "## create a box and whisker plot to compare the distibution of the RRmean indicator\n",
    "plt.boxplot([rrmean_image1, rrmean_image2],\n",
    "            labels=['First 10 Minutes', 'recording time'])"
   ]
  },
  {
   "cell_type": "code",
   "execution_count": 27,
   "metadata": {},
   "outputs": [
    {
     "name": "stdout",
     "output_type": "stream",
     "text": [
      "[IBI_VLF_Pow, IBI_LF_Pow, IBI_HF_Pow, IBI_Total_Pow]\n",
      "{'freq_min': 1e-05, 'freq_max': 0.04, 'method': 'ar', 'interp_freq': 4, 'name': 'IBI_VLF_Pow'}\n"
     ]
    }
   ],
   "source": [
    "HRV_FD = ph.preset_hrv_fd() #frequency domain HRV indicators\n",
    "print(HRV_FD)\n",
    "\n",
    "print(HRV_FD[0].get())"
   ]
  },
  {
   "cell_type": "code",
   "execution_count": 28,
   "metadata": {},
   "outputs": [],
   "source": [
    "FD_HRV_ind, col_names = ph.fmap(fixed_length, ph.preset_hrv_fd(), ibi.resample(4))"
   ]
  },
  {
   "cell_type": "code",
   "execution_count": 29,
   "metadata": {},
   "outputs": [
    {
     "data": {
      "text/html": [
       "<div>\n",
       "<style scoped>\n",
       "    .dataframe tbody tr th:only-of-type {\n",
       "        vertical-align: middle;\n",
       "    }\n",
       "\n",
       "    .dataframe tbody tr th {\n",
       "        vertical-align: top;\n",
       "    }\n",
       "\n",
       "    .dataframe thead th {\n",
       "        text-align: right;\n",
       "    }\n",
       "</style>\n",
       "<table border=\"1\" class=\"dataframe\">\n",
       "  <thead>\n",
       "    <tr style=\"text-align: right;\">\n",
       "      <th></th>\n",
       "      <th>begin</th>\n",
       "      <th>end</th>\n",
       "      <th>label</th>\n",
       "      <th>IBI_VLF_Pow</th>\n",
       "      <th>IBI_LF_Pow</th>\n",
       "      <th>IBI_HF_Pow</th>\n",
       "      <th>IBI_Total_Pow</th>\n",
       "    </tr>\n",
       "  </thead>\n",
       "  <tbody>\n",
       "    <tr>\n",
       "      <td>0</td>\n",
       "      <td>1.228516</td>\n",
       "      <td>61.228516</td>\n",
       "      <td>1.0</td>\n",
       "      <td>127.403287</td>\n",
       "      <td>382.820125</td>\n",
       "      <td>668.692866</td>\n",
       "      <td>1873.958286</td>\n",
       "    </tr>\n",
       "    <tr>\n",
       "      <td>1</td>\n",
       "      <td>61.228516</td>\n",
       "      <td>121.228516</td>\n",
       "      <td>1.0</td>\n",
       "      <td>254.776660</td>\n",
       "      <td>692.555621</td>\n",
       "      <td>712.660354</td>\n",
       "      <td>2402.182183</td>\n",
       "    </tr>\n",
       "    <tr>\n",
       "      <td>2</td>\n",
       "      <td>121.228516</td>\n",
       "      <td>181.228516</td>\n",
       "      <td>1.0</td>\n",
       "      <td>234.787783</td>\n",
       "      <td>572.454152</td>\n",
       "      <td>927.885579</td>\n",
       "      <td>2407.459983</td>\n",
       "    </tr>\n",
       "    <tr>\n",
       "      <td>3</td>\n",
       "      <td>181.228516</td>\n",
       "      <td>241.228516</td>\n",
       "      <td>1.0</td>\n",
       "      <td>105.156959</td>\n",
       "      <td>387.745708</td>\n",
       "      <td>842.785678</td>\n",
       "      <td>2062.959046</td>\n",
       "    </tr>\n",
       "    <tr>\n",
       "      <td>4</td>\n",
       "      <td>241.228516</td>\n",
       "      <td>301.228516</td>\n",
       "      <td>1.0</td>\n",
       "      <td>216.943787</td>\n",
       "      <td>557.604169</td>\n",
       "      <td>892.216506</td>\n",
       "      <td>2385.471798</td>\n",
       "    </tr>\n",
       "    <tr>\n",
       "      <td>5</td>\n",
       "      <td>301.228516</td>\n",
       "      <td>361.228516</td>\n",
       "      <td>1.0</td>\n",
       "      <td>189.055247</td>\n",
       "      <td>635.044790</td>\n",
       "      <td>688.958390</td>\n",
       "      <td>2224.434169</td>\n",
       "    </tr>\n",
       "    <tr>\n",
       "      <td>6</td>\n",
       "      <td>361.228516</td>\n",
       "      <td>421.228516</td>\n",
       "      <td>1.0</td>\n",
       "      <td>169.760158</td>\n",
       "      <td>550.597957</td>\n",
       "      <td>979.519616</td>\n",
       "      <td>2417.651634</td>\n",
       "    </tr>\n",
       "    <tr>\n",
       "      <td>7</td>\n",
       "      <td>421.228516</td>\n",
       "      <td>481.228516</td>\n",
       "      <td>1.0</td>\n",
       "      <td>330.396690</td>\n",
       "      <td>870.139961</td>\n",
       "      <td>970.443672</td>\n",
       "      <td>2889.550276</td>\n",
       "    </tr>\n",
       "    <tr>\n",
       "      <td>8</td>\n",
       "      <td>481.228516</td>\n",
       "      <td>541.228516</td>\n",
       "      <td>1.0</td>\n",
       "      <td>413.406452</td>\n",
       "      <td>975.654337</td>\n",
       "      <td>963.281616</td>\n",
       "      <td>3042.416100</td>\n",
       "    </tr>\n",
       "    <tr>\n",
       "      <td>9</td>\n",
       "      <td>601.228516</td>\n",
       "      <td>661.228516</td>\n",
       "      <td>2.0</td>\n",
       "      <td>464.128972</td>\n",
       "      <td>1223.799960</td>\n",
       "      <td>1103.410251</td>\n",
       "      <td>3421.356894</td>\n",
       "    </tr>\n",
       "    <tr>\n",
       "      <td>10</td>\n",
       "      <td>661.228516</td>\n",
       "      <td>721.228516</td>\n",
       "      <td>2.0</td>\n",
       "      <td>448.917609</td>\n",
       "      <td>959.905586</td>\n",
       "      <td>1085.651522</td>\n",
       "      <td>3126.954772</td>\n",
       "    </tr>\n",
       "    <tr>\n",
       "      <td>11</td>\n",
       "      <td>721.228516</td>\n",
       "      <td>781.228516</td>\n",
       "      <td>2.0</td>\n",
       "      <td>481.263106</td>\n",
       "      <td>775.013944</td>\n",
       "      <td>847.773470</td>\n",
       "      <td>2677.990291</td>\n",
       "    </tr>\n",
       "    <tr>\n",
       "      <td>12</td>\n",
       "      <td>781.228516</td>\n",
       "      <td>841.228516</td>\n",
       "      <td>2.0</td>\n",
       "      <td>319.565829</td>\n",
       "      <td>810.358894</td>\n",
       "      <td>928.094727</td>\n",
       "      <td>2768.219016</td>\n",
       "    </tr>\n",
       "    <tr>\n",
       "      <td>13</td>\n",
       "      <td>841.228516</td>\n",
       "      <td>901.228516</td>\n",
       "      <td>2.0</td>\n",
       "      <td>234.290834</td>\n",
       "      <td>698.504608</td>\n",
       "      <td>859.468855</td>\n",
       "      <td>2508.216314</td>\n",
       "    </tr>\n",
       "    <tr>\n",
       "      <td>14</td>\n",
       "      <td>901.228516</td>\n",
       "      <td>961.228516</td>\n",
       "      <td>2.0</td>\n",
       "      <td>165.050752</td>\n",
       "      <td>533.079327</td>\n",
       "      <td>627.093990</td>\n",
       "      <td>2031.359536</td>\n",
       "    </tr>\n",
       "    <tr>\n",
       "      <td>15</td>\n",
       "      <td>961.228516</td>\n",
       "      <td>1021.228516</td>\n",
       "      <td>2.0</td>\n",
       "      <td>253.388485</td>\n",
       "      <td>848.891146</td>\n",
       "      <td>943.169410</td>\n",
       "      <td>2800.798036</td>\n",
       "    </tr>\n",
       "    <tr>\n",
       "      <td>16</td>\n",
       "      <td>1021.228516</td>\n",
       "      <td>1081.228516</td>\n",
       "      <td>2.0</td>\n",
       "      <td>242.105254</td>\n",
       "      <td>912.004693</td>\n",
       "      <td>1060.356296</td>\n",
       "      <td>2933.928031</td>\n",
       "    </tr>\n",
       "    <tr>\n",
       "      <td>17</td>\n",
       "      <td>1081.228516</td>\n",
       "      <td>1141.228516</td>\n",
       "      <td>2.0</td>\n",
       "      <td>156.438314</td>\n",
       "      <td>438.715905</td>\n",
       "      <td>602.489618</td>\n",
       "      <td>1904.253955</td>\n",
       "    </tr>\n",
       "    <tr>\n",
       "      <td>18</td>\n",
       "      <td>1141.228516</td>\n",
       "      <td>1201.228516</td>\n",
       "      <td>2.0</td>\n",
       "      <td>265.864613</td>\n",
       "      <td>619.512616</td>\n",
       "      <td>829.853008</td>\n",
       "      <td>2409.874221</td>\n",
       "    </tr>\n",
       "    <tr>\n",
       "      <td>19</td>\n",
       "      <td>1201.228516</td>\n",
       "      <td>1261.228516</td>\n",
       "      <td>2.0</td>\n",
       "      <td>311.603391</td>\n",
       "      <td>801.088937</td>\n",
       "      <td>896.375102</td>\n",
       "      <td>2653.282088</td>\n",
       "    </tr>\n",
       "    <tr>\n",
       "      <td>20</td>\n",
       "      <td>1261.228516</td>\n",
       "      <td>1321.228516</td>\n",
       "      <td>2.0</td>\n",
       "      <td>139.912134</td>\n",
       "      <td>495.951872</td>\n",
       "      <td>707.432436</td>\n",
       "      <td>2048.759349</td>\n",
       "    </tr>\n",
       "    <tr>\n",
       "      <td>21</td>\n",
       "      <td>1321.228516</td>\n",
       "      <td>1381.228516</td>\n",
       "      <td>2.0</td>\n",
       "      <td>263.734652</td>\n",
       "      <td>542.555704</td>\n",
       "      <td>728.412243</td>\n",
       "      <td>2198.441555</td>\n",
       "    </tr>\n",
       "    <tr>\n",
       "      <td>22</td>\n",
       "      <td>1381.228516</td>\n",
       "      <td>1441.228516</td>\n",
       "      <td>2.0</td>\n",
       "      <td>833.325374</td>\n",
       "      <td>811.922091</td>\n",
       "      <td>786.427928</td>\n",
       "      <td>3089.315476</td>\n",
       "    </tr>\n",
       "    <tr>\n",
       "      <td>23</td>\n",
       "      <td>1441.228516</td>\n",
       "      <td>1501.228516</td>\n",
       "      <td>2.0</td>\n",
       "      <td>111.965099</td>\n",
       "      <td>306.411756</td>\n",
       "      <td>808.916948</td>\n",
       "      <td>2005.269390</td>\n",
       "    </tr>\n",
       "    <tr>\n",
       "      <td>24</td>\n",
       "      <td>1501.228516</td>\n",
       "      <td>1561.228516</td>\n",
       "      <td>2.0</td>\n",
       "      <td>319.538880</td>\n",
       "      <td>815.930215</td>\n",
       "      <td>953.088516</td>\n",
       "      <td>2759.394998</td>\n",
       "    </tr>\n",
       "    <tr>\n",
       "      <td>25</td>\n",
       "      <td>1561.228516</td>\n",
       "      <td>1621.228516</td>\n",
       "      <td>2.0</td>\n",
       "      <td>144.474519</td>\n",
       "      <td>450.205009</td>\n",
       "      <td>558.758753</td>\n",
       "      <td>1808.753835</td>\n",
       "    </tr>\n",
       "    <tr>\n",
       "      <td>26</td>\n",
       "      <td>1621.228516</td>\n",
       "      <td>1681.228516</td>\n",
       "      <td>2.0</td>\n",
       "      <td>98.361061</td>\n",
       "      <td>379.021921</td>\n",
       "      <td>539.734003</td>\n",
       "      <td>1702.706201</td>\n",
       "    </tr>\n",
       "    <tr>\n",
       "      <td>27</td>\n",
       "      <td>1681.228516</td>\n",
       "      <td>1741.228516</td>\n",
       "      <td>2.0</td>\n",
       "      <td>283.840380</td>\n",
       "      <td>704.467055</td>\n",
       "      <td>732.988840</td>\n",
       "      <td>2375.888721</td>\n",
       "    </tr>\n",
       "    <tr>\n",
       "      <td>28</td>\n",
       "      <td>1741.228516</td>\n",
       "      <td>1801.228516</td>\n",
       "      <td>2.0</td>\n",
       "      <td>248.346431</td>\n",
       "      <td>697.356461</td>\n",
       "      <td>813.112112</td>\n",
       "      <td>2447.248598</td>\n",
       "    </tr>\n",
       "    <tr>\n",
       "      <td>29</td>\n",
       "      <td>1801.228516</td>\n",
       "      <td>1861.228516</td>\n",
       "      <td>2.0</td>\n",
       "      <td>374.272865</td>\n",
       "      <td>733.936736</td>\n",
       "      <td>879.329846</td>\n",
       "      <td>2722.929127</td>\n",
       "    </tr>\n",
       "    <tr>\n",
       "      <td>30</td>\n",
       "      <td>1861.228516</td>\n",
       "      <td>1921.228516</td>\n",
       "      <td>2.0</td>\n",
       "      <td>136.783292</td>\n",
       "      <td>528.659311</td>\n",
       "      <td>1056.166845</td>\n",
       "      <td>2437.590242</td>\n",
       "    </tr>\n",
       "    <tr>\n",
       "      <td>31</td>\n",
       "      <td>1921.228516</td>\n",
       "      <td>1981.228516</td>\n",
       "      <td>2.0</td>\n",
       "      <td>91.132357</td>\n",
       "      <td>344.577409</td>\n",
       "      <td>959.249837</td>\n",
       "      <td>2055.828838</td>\n",
       "    </tr>\n",
       "    <tr>\n",
       "      <td>32</td>\n",
       "      <td>1981.228516</td>\n",
       "      <td>2041.228516</td>\n",
       "      <td>2.0</td>\n",
       "      <td>233.508056</td>\n",
       "      <td>621.778151</td>\n",
       "      <td>895.624241</td>\n",
       "      <td>2421.895419</td>\n",
       "    </tr>\n",
       "    <tr>\n",
       "      <td>33</td>\n",
       "      <td>2041.228516</td>\n",
       "      <td>2101.228516</td>\n",
       "      <td>2.0</td>\n",
       "      <td>232.484568</td>\n",
       "      <td>548.071194</td>\n",
       "      <td>755.449828</td>\n",
       "      <td>2212.737400</td>\n",
       "    </tr>\n",
       "    <tr>\n",
       "      <td>34</td>\n",
       "      <td>2101.228516</td>\n",
       "      <td>2161.228516</td>\n",
       "      <td>2.0</td>\n",
       "      <td>128.523913</td>\n",
       "      <td>434.314715</td>\n",
       "      <td>756.261095</td>\n",
       "      <td>1976.832950</td>\n",
       "    </tr>\n",
       "    <tr>\n",
       "      <td>35</td>\n",
       "      <td>2161.228516</td>\n",
       "      <td>2221.228516</td>\n",
       "      <td>2.0</td>\n",
       "      <td>313.301097</td>\n",
       "      <td>724.581972</td>\n",
       "      <td>736.490188</td>\n",
       "      <td>2467.965253</td>\n",
       "    </tr>\n",
       "    <tr>\n",
       "      <td>36</td>\n",
       "      <td>2221.228516</td>\n",
       "      <td>2281.228516</td>\n",
       "      <td>2.0</td>\n",
       "      <td>144.960223</td>\n",
       "      <td>457.602425</td>\n",
       "      <td>676.110116</td>\n",
       "      <td>1937.228699</td>\n",
       "    </tr>\n",
       "    <tr>\n",
       "      <td>37</td>\n",
       "      <td>2281.228516</td>\n",
       "      <td>2341.228516</td>\n",
       "      <td>2.0</td>\n",
       "      <td>131.036643</td>\n",
       "      <td>329.636579</td>\n",
       "      <td>613.972178</td>\n",
       "      <td>1819.956237</td>\n",
       "    </tr>\n",
       "    <tr>\n",
       "      <td>38</td>\n",
       "      <td>2341.228516</td>\n",
       "      <td>2401.228516</td>\n",
       "      <td>2.0</td>\n",
       "      <td>225.636189</td>\n",
       "      <td>736.458884</td>\n",
       "      <td>917.625261</td>\n",
       "      <td>2514.931093</td>\n",
       "    </tr>\n",
       "    <tr>\n",
       "      <td>39</td>\n",
       "      <td>2401.228516</td>\n",
       "      <td>2461.228516</td>\n",
       "      <td>2.0</td>\n",
       "      <td>120.509003</td>\n",
       "      <td>359.911341</td>\n",
       "      <td>663.754855</td>\n",
       "      <td>1881.646216</td>\n",
       "    </tr>\n",
       "    <tr>\n",
       "      <td>40</td>\n",
       "      <td>2461.228516</td>\n",
       "      <td>2521.228516</td>\n",
       "      <td>2.0</td>\n",
       "      <td>119.958561</td>\n",
       "      <td>388.410514</td>\n",
       "      <td>838.936016</td>\n",
       "      <td>2110.022672</td>\n",
       "    </tr>\n",
       "    <tr>\n",
       "      <td>41</td>\n",
       "      <td>2521.228516</td>\n",
       "      <td>2581.228516</td>\n",
       "      <td>2.0</td>\n",
       "      <td>205.720614</td>\n",
       "      <td>607.116455</td>\n",
       "      <td>986.531905</td>\n",
       "      <td>2481.437292</td>\n",
       "    </tr>\n",
       "    <tr>\n",
       "      <td>42</td>\n",
       "      <td>2581.228516</td>\n",
       "      <td>2641.228516</td>\n",
       "      <td>2.0</td>\n",
       "      <td>290.591768</td>\n",
       "      <td>576.053163</td>\n",
       "      <td>751.721165</td>\n",
       "      <td>2290.000875</td>\n",
       "    </tr>\n",
       "    <tr>\n",
       "      <td>43</td>\n",
       "      <td>2641.228516</td>\n",
       "      <td>2701.228516</td>\n",
       "      <td>2.0</td>\n",
       "      <td>132.187074</td>\n",
       "      <td>503.378410</td>\n",
       "      <td>792.972196</td>\n",
       "      <td>2054.426078</td>\n",
       "    </tr>\n",
       "    <tr>\n",
       "      <td>44</td>\n",
       "      <td>2701.228516</td>\n",
       "      <td>2761.228516</td>\n",
       "      <td>2.0</td>\n",
       "      <td>441.553753</td>\n",
       "      <td>958.620593</td>\n",
       "      <td>762.515692</td>\n",
       "      <td>2816.539528</td>\n",
       "    </tr>\n",
       "    <tr>\n",
       "      <td>45</td>\n",
       "      <td>2761.228516</td>\n",
       "      <td>2821.228516</td>\n",
       "      <td>2.0</td>\n",
       "      <td>248.369740</td>\n",
       "      <td>630.937572</td>\n",
       "      <td>732.185780</td>\n",
       "      <td>2305.824015</td>\n",
       "    </tr>\n",
       "    <tr>\n",
       "      <td>46</td>\n",
       "      <td>2821.228516</td>\n",
       "      <td>2881.228516</td>\n",
       "      <td>2.0</td>\n",
       "      <td>192.054207</td>\n",
       "      <td>629.824936</td>\n",
       "      <td>695.448377</td>\n",
       "      <td>2164.643233</td>\n",
       "    </tr>\n",
       "    <tr>\n",
       "      <td>47</td>\n",
       "      <td>2881.228516</td>\n",
       "      <td>2941.228516</td>\n",
       "      <td>2.0</td>\n",
       "      <td>425.538357</td>\n",
       "      <td>1024.629354</td>\n",
       "      <td>1007.523194</td>\n",
       "      <td>3180.637836</td>\n",
       "    </tr>\n",
       "    <tr>\n",
       "      <td>48</td>\n",
       "      <td>2941.228516</td>\n",
       "      <td>3001.228516</td>\n",
       "      <td>2.0</td>\n",
       "      <td>122.949609</td>\n",
       "      <td>342.944183</td>\n",
       "      <td>603.158900</td>\n",
       "      <td>1777.837988</td>\n",
       "    </tr>\n",
       "    <tr>\n",
       "      <td>49</td>\n",
       "      <td>3001.228516</td>\n",
       "      <td>3061.228516</td>\n",
       "      <td>2.0</td>\n",
       "      <td>221.240690</td>\n",
       "      <td>655.766110</td>\n",
       "      <td>745.900797</td>\n",
       "      <td>2286.306298</td>\n",
       "    </tr>\n",
       "    <tr>\n",
       "      <td>50</td>\n",
       "      <td>3061.228516</td>\n",
       "      <td>3121.228516</td>\n",
       "      <td>2.0</td>\n",
       "      <td>192.567259</td>\n",
       "      <td>464.785766</td>\n",
       "      <td>679.073270</td>\n",
       "      <td>2030.542846</td>\n",
       "    </tr>\n",
       "    <tr>\n",
       "      <td>51</td>\n",
       "      <td>3121.228516</td>\n",
       "      <td>3181.228516</td>\n",
       "      <td>2.0</td>\n",
       "      <td>219.531676</td>\n",
       "      <td>578.443384</td>\n",
       "      <td>601.921299</td>\n",
       "      <td>2105.656334</td>\n",
       "    </tr>\n",
       "    <tr>\n",
       "      <td>52</td>\n",
       "      <td>3181.228516</td>\n",
       "      <td>3241.228516</td>\n",
       "      <td>2.0</td>\n",
       "      <td>160.727458</td>\n",
       "      <td>492.045375</td>\n",
       "      <td>784.980037</td>\n",
       "      <td>2120.173737</td>\n",
       "    </tr>\n",
       "    <tr>\n",
       "      <td>53</td>\n",
       "      <td>3241.228516</td>\n",
       "      <td>3301.228516</td>\n",
       "      <td>2.0</td>\n",
       "      <td>319.565134</td>\n",
       "      <td>575.183507</td>\n",
       "      <td>769.428487</td>\n",
       "      <td>2354.395204</td>\n",
       "    </tr>\n",
       "    <tr>\n",
       "      <td>54</td>\n",
       "      <td>3301.228516</td>\n",
       "      <td>3361.228516</td>\n",
       "      <td>2.0</td>\n",
       "      <td>240.513165</td>\n",
       "      <td>735.819052</td>\n",
       "      <td>1076.166365</td>\n",
       "      <td>2773.703064</td>\n",
       "    </tr>\n",
       "    <tr>\n",
       "      <td>55</td>\n",
       "      <td>3361.228516</td>\n",
       "      <td>3421.228516</td>\n",
       "      <td>2.0</td>\n",
       "      <td>201.340357</td>\n",
       "      <td>556.342097</td>\n",
       "      <td>837.525444</td>\n",
       "      <td>2303.139017</td>\n",
       "    </tr>\n",
       "    <tr>\n",
       "      <td>56</td>\n",
       "      <td>3421.228516</td>\n",
       "      <td>3481.228516</td>\n",
       "      <td>2.0</td>\n",
       "      <td>224.049876</td>\n",
       "      <td>460.353499</td>\n",
       "      <td>906.250656</td>\n",
       "      <td>2281.276286</td>\n",
       "    </tr>\n",
       "  </tbody>\n",
       "</table>\n",
       "</div>"
      ],
      "text/plain": [
       "          begin          end  label  IBI_VLF_Pow   IBI_LF_Pow   IBI_HF_Pow  \\\n",
       "0      1.228516    61.228516    1.0   127.403287   382.820125   668.692866   \n",
       "1     61.228516   121.228516    1.0   254.776660   692.555621   712.660354   \n",
       "2    121.228516   181.228516    1.0   234.787783   572.454152   927.885579   \n",
       "3    181.228516   241.228516    1.0   105.156959   387.745708   842.785678   \n",
       "4    241.228516   301.228516    1.0   216.943787   557.604169   892.216506   \n",
       "5    301.228516   361.228516    1.0   189.055247   635.044790   688.958390   \n",
       "6    361.228516   421.228516    1.0   169.760158   550.597957   979.519616   \n",
       "7    421.228516   481.228516    1.0   330.396690   870.139961   970.443672   \n",
       "8    481.228516   541.228516    1.0   413.406452   975.654337   963.281616   \n",
       "9    601.228516   661.228516    2.0   464.128972  1223.799960  1103.410251   \n",
       "10   661.228516   721.228516    2.0   448.917609   959.905586  1085.651522   \n",
       "11   721.228516   781.228516    2.0   481.263106   775.013944   847.773470   \n",
       "12   781.228516   841.228516    2.0   319.565829   810.358894   928.094727   \n",
       "13   841.228516   901.228516    2.0   234.290834   698.504608   859.468855   \n",
       "14   901.228516   961.228516    2.0   165.050752   533.079327   627.093990   \n",
       "15   961.228516  1021.228516    2.0   253.388485   848.891146   943.169410   \n",
       "16  1021.228516  1081.228516    2.0   242.105254   912.004693  1060.356296   \n",
       "17  1081.228516  1141.228516    2.0   156.438314   438.715905   602.489618   \n",
       "18  1141.228516  1201.228516    2.0   265.864613   619.512616   829.853008   \n",
       "19  1201.228516  1261.228516    2.0   311.603391   801.088937   896.375102   \n",
       "20  1261.228516  1321.228516    2.0   139.912134   495.951872   707.432436   \n",
       "21  1321.228516  1381.228516    2.0   263.734652   542.555704   728.412243   \n",
       "22  1381.228516  1441.228516    2.0   833.325374   811.922091   786.427928   \n",
       "23  1441.228516  1501.228516    2.0   111.965099   306.411756   808.916948   \n",
       "24  1501.228516  1561.228516    2.0   319.538880   815.930215   953.088516   \n",
       "25  1561.228516  1621.228516    2.0   144.474519   450.205009   558.758753   \n",
       "26  1621.228516  1681.228516    2.0    98.361061   379.021921   539.734003   \n",
       "27  1681.228516  1741.228516    2.0   283.840380   704.467055   732.988840   \n",
       "28  1741.228516  1801.228516    2.0   248.346431   697.356461   813.112112   \n",
       "29  1801.228516  1861.228516    2.0   374.272865   733.936736   879.329846   \n",
       "30  1861.228516  1921.228516    2.0   136.783292   528.659311  1056.166845   \n",
       "31  1921.228516  1981.228516    2.0    91.132357   344.577409   959.249837   \n",
       "32  1981.228516  2041.228516    2.0   233.508056   621.778151   895.624241   \n",
       "33  2041.228516  2101.228516    2.0   232.484568   548.071194   755.449828   \n",
       "34  2101.228516  2161.228516    2.0   128.523913   434.314715   756.261095   \n",
       "35  2161.228516  2221.228516    2.0   313.301097   724.581972   736.490188   \n",
       "36  2221.228516  2281.228516    2.0   144.960223   457.602425   676.110116   \n",
       "37  2281.228516  2341.228516    2.0   131.036643   329.636579   613.972178   \n",
       "38  2341.228516  2401.228516    2.0   225.636189   736.458884   917.625261   \n",
       "39  2401.228516  2461.228516    2.0   120.509003   359.911341   663.754855   \n",
       "40  2461.228516  2521.228516    2.0   119.958561   388.410514   838.936016   \n",
       "41  2521.228516  2581.228516    2.0   205.720614   607.116455   986.531905   \n",
       "42  2581.228516  2641.228516    2.0   290.591768   576.053163   751.721165   \n",
       "43  2641.228516  2701.228516    2.0   132.187074   503.378410   792.972196   \n",
       "44  2701.228516  2761.228516    2.0   441.553753   958.620593   762.515692   \n",
       "45  2761.228516  2821.228516    2.0   248.369740   630.937572   732.185780   \n",
       "46  2821.228516  2881.228516    2.0   192.054207   629.824936   695.448377   \n",
       "47  2881.228516  2941.228516    2.0   425.538357  1024.629354  1007.523194   \n",
       "48  2941.228516  3001.228516    2.0   122.949609   342.944183   603.158900   \n",
       "49  3001.228516  3061.228516    2.0   221.240690   655.766110   745.900797   \n",
       "50  3061.228516  3121.228516    2.0   192.567259   464.785766   679.073270   \n",
       "51  3121.228516  3181.228516    2.0   219.531676   578.443384   601.921299   \n",
       "52  3181.228516  3241.228516    2.0   160.727458   492.045375   784.980037   \n",
       "53  3241.228516  3301.228516    2.0   319.565134   575.183507   769.428487   \n",
       "54  3301.228516  3361.228516    2.0   240.513165   735.819052  1076.166365   \n",
       "55  3361.228516  3421.228516    2.0   201.340357   556.342097   837.525444   \n",
       "56  3421.228516  3481.228516    2.0   224.049876   460.353499   906.250656   \n",
       "\n",
       "    IBI_Total_Pow  \n",
       "0     1873.958286  \n",
       "1     2402.182183  \n",
       "2     2407.459983  \n",
       "3     2062.959046  \n",
       "4     2385.471798  \n",
       "5     2224.434169  \n",
       "6     2417.651634  \n",
       "7     2889.550276  \n",
       "8     3042.416100  \n",
       "9     3421.356894  \n",
       "10    3126.954772  \n",
       "11    2677.990291  \n",
       "12    2768.219016  \n",
       "13    2508.216314  \n",
       "14    2031.359536  \n",
       "15    2800.798036  \n",
       "16    2933.928031  \n",
       "17    1904.253955  \n",
       "18    2409.874221  \n",
       "19    2653.282088  \n",
       "20    2048.759349  \n",
       "21    2198.441555  \n",
       "22    3089.315476  \n",
       "23    2005.269390  \n",
       "24    2759.394998  \n",
       "25    1808.753835  \n",
       "26    1702.706201  \n",
       "27    2375.888721  \n",
       "28    2447.248598  \n",
       "29    2722.929127  \n",
       "30    2437.590242  \n",
       "31    2055.828838  \n",
       "32    2421.895419  \n",
       "33    2212.737400  \n",
       "34    1976.832950  \n",
       "35    2467.965253  \n",
       "36    1937.228699  \n",
       "37    1819.956237  \n",
       "38    2514.931093  \n",
       "39    1881.646216  \n",
       "40    2110.022672  \n",
       "41    2481.437292  \n",
       "42    2290.000875  \n",
       "43    2054.426078  \n",
       "44    2816.539528  \n",
       "45    2305.824015  \n",
       "46    2164.643233  \n",
       "47    3180.637836  \n",
       "48    1777.837988  \n",
       "49    2286.306298  \n",
       "50    2030.542846  \n",
       "51    2105.656334  \n",
       "52    2120.173737  \n",
       "53    2354.395204  \n",
       "54    2773.703064  \n",
       "55    2303.139017  \n",
       "56    2281.276286  "
      ]
     },
     "execution_count": 29,
     "metadata": {},
     "output_type": "execute_result"
    }
   ],
   "source": [
    "import pandas as pd\n",
    "\n",
    "# create a pandas dataframe\n",
    "FD_HRV_pp37_df = pd.DataFrame(FD_HRV_ind, columns=col_names)\n",
    "\n",
    "FD_HRV_pp37_df"
   ]
  },
  {
   "cell_type": "code",
   "execution_count": 30,
   "metadata": {},
   "outputs": [],
   "source": [
    "#save data \n",
    "FD_HRV_pp37_df.to_csv('FD_HRV_pp37.csv')"
   ]
  },
  {
   "cell_type": "code",
   "execution_count": null,
   "metadata": {},
   "outputs": [],
   "source": []
  }
 ],
 "metadata": {
  "kernelspec": {
   "display_name": "Python 3",
   "language": "python",
   "name": "python3"
  },
  "language_info": {
   "codemirror_mode": {
    "name": "ipython",
    "version": 3
   },
   "file_extension": ".py",
   "mimetype": "text/x-python",
   "name": "python",
   "nbconvert_exporter": "python",
   "pygments_lexer": "ipython3",
   "version": "3.7.4"
  }
 },
 "nbformat": 4,
 "nbformat_minor": 2
}
