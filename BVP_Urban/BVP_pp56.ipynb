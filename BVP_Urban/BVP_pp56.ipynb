{
 "cells": [
  {
   "cell_type": "code",
   "execution_count": 4,
   "metadata": {},
   "outputs": [],
   "source": [
    "# import libraries\n",
    "import numpy as np\n",
    "import matplotlib.pyplot as plt\n",
    "import pandas as pd \n",
    "\n",
    "%matplotlib inline "
   ]
  },
  {
   "cell_type": "code",
   "execution_count": 5,
   "metadata": {},
   "outputs": [
    {
     "name": "stdout",
     "output_type": "stream",
     "text": [
      "Please cite:\n",
      "Bizzego et al. (2019) 'pyphysio: A physiological signal processing library for data science approaches in physiology', SoftwareX\n"
     ]
    }
   ],
   "source": [
    "# import all pyphysio classes and methods\n",
    "import pyphysio as ph"
   ]
  },
  {
   "cell_type": "code",
   "execution_count": 6,
   "metadata": {},
   "outputs": [],
   "source": [
    "# import data and creating a signal\n",
    "df_BVP = pd.read_csv('BVP_pp56.csv', header=None)\n"
   ]
  },
  {
   "cell_type": "code",
   "execution_count": 7,
   "metadata": {},
   "outputs": [
    {
     "name": "stdout",
     "output_type": "stream",
     "text": [
      "0    174671\n",
      "dtype: int64\n"
     ]
    }
   ],
   "source": [
    "#count rows \n",
    "n_of_rows = df_BVP.count()\n",
    "print(n_of_rows)"
   ]
  },
  {
   "cell_type": "code",
   "execution_count": 8,
   "metadata": {},
   "outputs": [
    {
     "name": "stdout",
     "output_type": "stream",
     "text": [
      "0    174671\n",
      "dtype: int64\n",
      "0    2729.234375\n",
      "dtype: float64\n",
      "0    45.48724\n",
      "dtype: float64\n"
     ]
    }
   ],
   "source": [
    "#count n of rows to get time of recording (s) \n",
    "n_of_rows = df_BVP.count()\n",
    "print(n_of_rows)\n",
    "#walk time in seconds \n",
    "walk_time_seconds = n_of_rows/64\n",
    "print(walk_time_seconds)\n",
    "#walk time in minutes\n",
    "walk_time_minutes = walk_time_seconds/60\n",
    "print(walk_time_minutes)\n"
   ]
  },
  {
   "cell_type": "code",
   "execution_count": 9,
   "metadata": {},
   "outputs": [],
   "source": [
    "#create BVP signal \n",
    "fsamp = 64  #64 Hz \n",
    "t_start = 0\n",
    "\n",
    "ecg = ph.EvenlySignal(values = df_BVP, sampling_freq = fsamp, signal_type = 'ecg')"
   ]
  },
  {
   "cell_type": "code",
   "execution_count": 10,
   "metadata": {},
   "outputs": [
    {
     "name": "stdout",
     "output_type": "stream",
     "text": [
      "0\n"
     ]
    }
   ],
   "source": [
    "print(ecg.get_start_time())"
   ]
  },
  {
   "cell_type": "code",
   "execution_count": 11,
   "metadata": {},
   "outputs": [
    {
     "data": {
      "text/plain": [
       "[<matplotlib.lines.Line2D at 0x7f9fc65f9a50>]"
      ]
     },
     "execution_count": 11,
     "metadata": {},
     "output_type": "execute_result"
    },
    {
     "data": {
      "image/png": "[encoded data removed]",
      "text/plain": [
       "<Figure size 432x288 with 1 Axes>"
      ]
     },
     "metadata": {
      "needs_background": "light"
     },
     "output_type": "display_data"
    }
   ],
   "source": [
    "ecg.plot()"
   ]
  },
  {
   "cell_type": "code",
   "execution_count": 12,
   "metadata": {},
   "outputs": [],
   "source": [
    "ibi = ph.BeatFromECG()(ecg)"
   ]
  },
  {
   "cell_type": "code",
   "execution_count": 13,
   "metadata": {},
   "outputs": [
    {
     "data": {
      "text/plain": [
       "2729.234375"
      ]
     },
     "execution_count": 13,
     "metadata": {},
     "output_type": "execute_result"
    }
   ],
   "source": [
    "ibi.get_duration() #seconds "
   ]
  },
  {
   "cell_type": "code",
   "execution_count": 15,
   "metadata": {},
   "outputs": [],
   "source": [
    "# create label\n",
    "label = np.zeros(2729)\n",
    "label[0:600] =1\n",
    "label[600:2729] = 2\n",
    "\n",
    "label = ph.EvenlySignal(label, sampling_freq = 1, signal_type = 'label') \n",
    "#sampling_freq here is not intended as real sampfeq, only the distance between one point and the other (e.g. 10 = 10 units between 'begin' & 'end')"
   ]
  },
  {
   "cell_type": "code",
   "execution_count": 28,
   "metadata": {},
   "outputs": [],
   "source": [
    "# (optional) IIR filtering : remove high frequency noise\n",
    "#ecg = ph.IIRFilter(fp=45, fs = 50, ftype='ellip')(ecg)"
   ]
  },
  {
   "cell_type": "code",
   "execution_count": 16,
   "metadata": {},
   "outputs": [],
   "source": [
    "# normalization : normalize data\n",
    "ecg = ph.Normalize(norm_method='standard')(ecg)"
   ]
  },
  {
   "cell_type": "code",
   "execution_count": 17,
   "metadata": {},
   "outputs": [],
   "source": [
    "# resampling : increase the sampling frequency by cubic interpolation\n",
    "ecg = ecg.resample(fout=4096, kind='cubic')\n",
    "fsamp = 4096"
   ]
  },
  {
   "cell_type": "code",
   "execution_count": 18,
   "metadata": {},
   "outputs": [
    {
     "data": {
      "text/plain": [
       "[<matplotlib.lines.Line2D at 0x7f9fc8704150>]"
      ]
     },
     "execution_count": 18,
     "metadata": {},
     "output_type": "execute_result"
    },
    {
     "data": {
      "image/png": "[encoded data removed]",
      "text/plain": [
       "<Figure size 432x288 with 1 Axes>"
      ]
     },
     "metadata": {
      "needs_background": "light"
     },
     "output_type": "display_data"
    }
   ],
   "source": [
    "ecg.plot()"
   ]
  },
  {
   "cell_type": "code",
   "execution_count": 19,
   "metadata": {},
   "outputs": [],
   "source": [
    "ibi = ph.BeatFromECG()(ecg)"
   ]
  },
  {
   "cell_type": "code",
   "execution_count": 20,
   "metadata": {},
   "outputs": [
    {
     "data": {
      "text/plain": [
       "2729.234375"
      ]
     },
     "execution_count": 20,
     "metadata": {},
     "output_type": "execute_result"
    }
   ],
   "source": [
    "ibi.get_duration()\n"
   ]
  },
  {
   "cell_type": "code",
   "execution_count": 21,
   "metadata": {
    "scrolled": true
   },
   "outputs": [
    {
     "data": {
      "image/png": "[encoded data removed]",
      "text/plain": [
       "<Figure size 432x288 with 2 Axes>"
      ]
     },
     "metadata": {
      "needs_background": "light"
     },
     "output_type": "display_data"
    }
   ],
   "source": [
    "# check results so far\n",
    "ax1 = plt.subplot(211)\n",
    "ecg.plot()\n",
    "plt.vlines(ibi.get_times(), np.min(ecg), np.max(ecg))\n",
    "\n",
    "plt.subplot(212, sharex = ax1)\n",
    "ibi.plot('o-')\n",
    "plt.vlines(ibi.get_times(), np.min(ibi), np.max(ibi))\n",
    "plt.show()"
   ]
  },
  {
   "cell_type": "code",
   "execution_count": 40,
   "metadata": {},
   "outputs": [],
   "source": [
    "### physiological indicators "
   ]
  },
  {
   "cell_type": "code",
   "execution_count": 22,
   "metadata": {},
   "outputs": [
    {
     "data": {
      "image/png": "[encoded data removed]",
      "text/plain": [
       "<Figure size 432x288 with 2 Axes>"
      ]
     },
     "metadata": {
      "needs_background": "light"
     },
     "output_type": "display_data"
    }
   ],
   "source": [
    "# check label\n",
    "ax1 = plt.subplot(211)\n",
    "ibi.plot('.-')\n",
    "\n",
    "plt.subplot(212, sharex = ax1)\n",
    "label.plot('.-')\n",
    "plt.show()"
   ]
  },
  {
   "cell_type": "code",
   "execution_count": 23,
   "metadata": {},
   "outputs": [],
   "source": [
    "# define a list of indicators we want to compute\n",
    "hrv_indicators = [ph.Mean(name='RRmean'), ph.StDev(name='RRstd'), ph.RMSSD(name='rmsSD')]"
   ]
  },
  {
   "cell_type": "code",
   "execution_count": 24,
   "metadata": {},
   "outputs": [],
   "source": [
    "#fixed length windowing\n",
    "fixed_length = ph.FixedSegments(step = 60, width = 60, labels = label)\n",
    "\n",
    "indicators, col_names = ph.fmap(fixed_length, hrv_indicators, ibi)"
   ]
  },
  {
   "cell_type": "code",
   "execution_count": 25,
   "metadata": {},
   "outputs": [],
   "source": [
    "# extract column with the labels for each window\n",
    "label_w = indicators[:, np.where(col_names == 'label')[0]]\n",
    "\n",
    "# extract column with the RRmean values computed from each window\n",
    "rrmean_w = indicators[:, np.where(col_names == 'RRmean')[0]]\n",
    "\n",
    "rrmean_image1 = rrmean_w[np.where(label_w==1)[0]].ravel()\n",
    "rrmean_image2 = rrmean_w[np.where(label_w==2)[0]].ravel()"
   ]
  },
  {
   "cell_type": "code",
   "execution_count": 26,
   "metadata": {},
   "outputs": [
    {
     "data": {
      "text/plain": [
       "{'whiskers': [<matplotlib.lines.Line2D at 0x7f9f3ac278d0>,\n",
       "  <matplotlib.lines.Line2D at 0x7f9f3ac27e50>,\n",
       "  <matplotlib.lines.Line2D at 0x7f9f3ac36d50>,\n",
       "  <matplotlib.lines.Line2D at 0x7f9f3ac2dcd0>],\n",
       " 'caps': [<matplotlib.lines.Line2D at 0x7f9f3a9fac10>,\n",
       "  <matplotlib.lines.Line2D at 0x7f9f3ac2d890>,\n",
       "  <matplotlib.lines.Line2D at 0x7f9f3ac3f750>,\n",
       "  <matplotlib.lines.Line2D at 0x7f9f3ac3fc50>],\n",
       " 'boxes': [<matplotlib.lines.Line2D at 0x7f9f3a9fabd0>,\n",
       "  <matplotlib.lines.Line2D at 0x7f9f3ac36790>],\n",
       " 'medians': [<matplotlib.lines.Line2D at 0x7f9f3ac2ddd0>,\n",
       "  <matplotlib.lines.Line2D at 0x7f9f3ac2dd90>],\n",
       " 'fliers': [<matplotlib.lines.Line2D at 0x7f9f3ac27810>,\n",
       "  <matplotlib.lines.Line2D at 0x7f9f3ac47690>],\n",
       " 'means': []}"
      ]
     },
     "execution_count": 26,
     "metadata": {},
     "output_type": "execute_result"
    },
    {
     "data": {
      "image/png": "[encoded data removed]",
      "text/plain": [
       "<Figure size 432x288 with 1 Axes>"
      ]
     },
     "metadata": {
      "needs_background": "light"
     },
     "output_type": "display_data"
    }
   ],
   "source": [
    "## create a box and whisker plot to compare the distibution of the RRmean indicator\n",
    "plt.boxplot([rrmean_image1, rrmean_image2],\n",
    "            labels=['First 10 Minutes', 'recording time'])"
   ]
  },
  {
   "cell_type": "code",
   "execution_count": 27,
   "metadata": {},
   "outputs": [
    {
     "name": "stdout",
     "output_type": "stream",
     "text": [
      "[IBI_VLF_Pow, IBI_LF_Pow, IBI_HF_Pow, IBI_Total_Pow]\n",
      "{'freq_min': 1e-05, 'freq_max': 0.04, 'method': 'ar', 'interp_freq': 4, 'name': 'IBI_VLF_Pow'}\n"
     ]
    }
   ],
   "source": [
    "HRV_FD = ph.preset_hrv_fd() #frequency domain HRV indicators\n",
    "print(HRV_FD)\n",
    "\n",
    "print(HRV_FD[0].get())"
   ]
  },
  {
   "cell_type": "code",
   "execution_count": 28,
   "metadata": {},
   "outputs": [],
   "source": [
    "FD_HRV_ind, col_names = ph.fmap(fixed_length, ph.preset_hrv_fd(), ibi.resample(4))"
   ]
  },
  {
   "cell_type": "code",
   "execution_count": 29,
   "metadata": {},
   "outputs": [
    {
     "data": {
      "text/html": [
       "<div>\n",
       "<style scoped>\n",
       "    .dataframe tbody tr th:only-of-type {\n",
       "        vertical-align: middle;\n",
       "    }\n",
       "\n",
       "    .dataframe tbody tr th {\n",
       "        vertical-align: top;\n",
       "    }\n",
       "\n",
       "    .dataframe thead th {\n",
       "        text-align: right;\n",
       "    }\n",
       "</style>\n",
       "<table border=\"1\" class=\"dataframe\">\n",
       "  <thead>\n",
       "    <tr style=\"text-align: right;\">\n",
       "      <th></th>\n",
       "      <th>begin</th>\n",
       "      <th>end</th>\n",
       "      <th>label</th>\n",
       "      <th>IBI_VLF_Pow</th>\n",
       "      <th>IBI_LF_Pow</th>\n",
       "      <th>IBI_HF_Pow</th>\n",
       "      <th>IBI_Total_Pow</th>\n",
       "    </tr>\n",
       "  </thead>\n",
       "  <tbody>\n",
       "    <tr>\n",
       "      <td>0</td>\n",
       "      <td>1.26001</td>\n",
       "      <td>61.26001</td>\n",
       "      <td>1.0</td>\n",
       "      <td>229.612209</td>\n",
       "      <td>569.601993</td>\n",
       "      <td>765.491220</td>\n",
       "      <td>2192.793963</td>\n",
       "    </tr>\n",
       "    <tr>\n",
       "      <td>1</td>\n",
       "      <td>61.26001</td>\n",
       "      <td>121.26001</td>\n",
       "      <td>1.0</td>\n",
       "      <td>228.369435</td>\n",
       "      <td>539.387100</td>\n",
       "      <td>761.933915</td>\n",
       "      <td>2206.809707</td>\n",
       "    </tr>\n",
       "    <tr>\n",
       "      <td>2</td>\n",
       "      <td>121.26001</td>\n",
       "      <td>181.26001</td>\n",
       "      <td>1.0</td>\n",
       "      <td>207.863788</td>\n",
       "      <td>566.989656</td>\n",
       "      <td>679.451749</td>\n",
       "      <td>2150.759348</td>\n",
       "    </tr>\n",
       "    <tr>\n",
       "      <td>3</td>\n",
       "      <td>181.26001</td>\n",
       "      <td>241.26001</td>\n",
       "      <td>1.0</td>\n",
       "      <td>341.137271</td>\n",
       "      <td>880.914626</td>\n",
       "      <td>912.947210</td>\n",
       "      <td>2742.481926</td>\n",
       "    </tr>\n",
       "    <tr>\n",
       "      <td>4</td>\n",
       "      <td>241.26001</td>\n",
       "      <td>301.26001</td>\n",
       "      <td>1.0</td>\n",
       "      <td>398.543662</td>\n",
       "      <td>864.270311</td>\n",
       "      <td>917.636933</td>\n",
       "      <td>2884.514784</td>\n",
       "    </tr>\n",
       "    <tr>\n",
       "      <td>5</td>\n",
       "      <td>301.26001</td>\n",
       "      <td>361.26001</td>\n",
       "      <td>1.0</td>\n",
       "      <td>295.015182</td>\n",
       "      <td>565.368597</td>\n",
       "      <td>832.033251</td>\n",
       "      <td>2408.277186</td>\n",
       "    </tr>\n",
       "    <tr>\n",
       "      <td>6</td>\n",
       "      <td>361.26001</td>\n",
       "      <td>421.26001</td>\n",
       "      <td>1.0</td>\n",
       "      <td>181.498882</td>\n",
       "      <td>783.806487</td>\n",
       "      <td>1431.280870</td>\n",
       "      <td>3138.169134</td>\n",
       "    </tr>\n",
       "    <tr>\n",
       "      <td>7</td>\n",
       "      <td>421.26001</td>\n",
       "      <td>481.26001</td>\n",
       "      <td>1.0</td>\n",
       "      <td>412.495210</td>\n",
       "      <td>1201.053029</td>\n",
       "      <td>953.783858</td>\n",
       "      <td>3216.826997</td>\n",
       "    </tr>\n",
       "    <tr>\n",
       "      <td>8</td>\n",
       "      <td>481.26001</td>\n",
       "      <td>541.26001</td>\n",
       "      <td>1.0</td>\n",
       "      <td>312.946871</td>\n",
       "      <td>737.438869</td>\n",
       "      <td>830.548423</td>\n",
       "      <td>2516.509481</td>\n",
       "    </tr>\n",
       "    <tr>\n",
       "      <td>9</td>\n",
       "      <td>601.26001</td>\n",
       "      <td>661.26001</td>\n",
       "      <td>2.0</td>\n",
       "      <td>189.754452</td>\n",
       "      <td>735.739155</td>\n",
       "      <td>893.733417</td>\n",
       "      <td>2605.027391</td>\n",
       "    </tr>\n",
       "    <tr>\n",
       "      <td>10</td>\n",
       "      <td>661.26001</td>\n",
       "      <td>721.26001</td>\n",
       "      <td>2.0</td>\n",
       "      <td>348.505746</td>\n",
       "      <td>790.006852</td>\n",
       "      <td>728.245905</td>\n",
       "      <td>2604.874441</td>\n",
       "    </tr>\n",
       "    <tr>\n",
       "      <td>11</td>\n",
       "      <td>721.26001</td>\n",
       "      <td>781.26001</td>\n",
       "      <td>2.0</td>\n",
       "      <td>377.375804</td>\n",
       "      <td>898.416826</td>\n",
       "      <td>866.505760</td>\n",
       "      <td>2812.342225</td>\n",
       "    </tr>\n",
       "    <tr>\n",
       "      <td>12</td>\n",
       "      <td>781.26001</td>\n",
       "      <td>841.26001</td>\n",
       "      <td>2.0</td>\n",
       "      <td>292.861524</td>\n",
       "      <td>812.845924</td>\n",
       "      <td>829.139904</td>\n",
       "      <td>2603.127794</td>\n",
       "    </tr>\n",
       "    <tr>\n",
       "      <td>13</td>\n",
       "      <td>841.26001</td>\n",
       "      <td>901.26001</td>\n",
       "      <td>2.0</td>\n",
       "      <td>190.491811</td>\n",
       "      <td>601.561529</td>\n",
       "      <td>831.356022</td>\n",
       "      <td>2269.040972</td>\n",
       "    </tr>\n",
       "    <tr>\n",
       "      <td>14</td>\n",
       "      <td>901.26001</td>\n",
       "      <td>961.26001</td>\n",
       "      <td>2.0</td>\n",
       "      <td>245.569688</td>\n",
       "      <td>902.995592</td>\n",
       "      <td>1041.698317</td>\n",
       "      <td>2852.823309</td>\n",
       "    </tr>\n",
       "    <tr>\n",
       "      <td>15</td>\n",
       "      <td>961.26001</td>\n",
       "      <td>1021.26001</td>\n",
       "      <td>2.0</td>\n",
       "      <td>426.200732</td>\n",
       "      <td>989.063753</td>\n",
       "      <td>1087.328518</td>\n",
       "      <td>3170.745796</td>\n",
       "    </tr>\n",
       "    <tr>\n",
       "      <td>16</td>\n",
       "      <td>1021.26001</td>\n",
       "      <td>1081.26001</td>\n",
       "      <td>2.0</td>\n",
       "      <td>238.679513</td>\n",
       "      <td>401.365364</td>\n",
       "      <td>605.159960</td>\n",
       "      <td>1881.080612</td>\n",
       "    </tr>\n",
       "    <tr>\n",
       "      <td>17</td>\n",
       "      <td>1081.26001</td>\n",
       "      <td>1141.26001</td>\n",
       "      <td>2.0</td>\n",
       "      <td>217.407995</td>\n",
       "      <td>624.700368</td>\n",
       "      <td>706.628564</td>\n",
       "      <td>2238.881268</td>\n",
       "    </tr>\n",
       "    <tr>\n",
       "      <td>18</td>\n",
       "      <td>1141.26001</td>\n",
       "      <td>1201.26001</td>\n",
       "      <td>2.0</td>\n",
       "      <td>295.817186</td>\n",
       "      <td>438.768909</td>\n",
       "      <td>897.160080</td>\n",
       "      <td>2290.565748</td>\n",
       "    </tr>\n",
       "    <tr>\n",
       "      <td>19</td>\n",
       "      <td>1201.26001</td>\n",
       "      <td>1261.26001</td>\n",
       "      <td>2.0</td>\n",
       "      <td>178.654669</td>\n",
       "      <td>551.495680</td>\n",
       "      <td>829.734022</td>\n",
       "      <td>2258.731708</td>\n",
       "    </tr>\n",
       "    <tr>\n",
       "      <td>20</td>\n",
       "      <td>1261.26001</td>\n",
       "      <td>1321.26001</td>\n",
       "      <td>2.0</td>\n",
       "      <td>257.984999</td>\n",
       "      <td>712.489465</td>\n",
       "      <td>975.477150</td>\n",
       "      <td>2647.826615</td>\n",
       "    </tr>\n",
       "    <tr>\n",
       "      <td>21</td>\n",
       "      <td>1321.26001</td>\n",
       "      <td>1381.26001</td>\n",
       "      <td>2.0</td>\n",
       "      <td>234.665914</td>\n",
       "      <td>746.059086</td>\n",
       "      <td>1098.626805</td>\n",
       "      <td>2768.038524</td>\n",
       "    </tr>\n",
       "    <tr>\n",
       "      <td>22</td>\n",
       "      <td>1381.26001</td>\n",
       "      <td>1441.26001</td>\n",
       "      <td>2.0</td>\n",
       "      <td>543.552760</td>\n",
       "      <td>1040.660365</td>\n",
       "      <td>891.489030</td>\n",
       "      <td>3108.215645</td>\n",
       "    </tr>\n",
       "    <tr>\n",
       "      <td>23</td>\n",
       "      <td>1441.26001</td>\n",
       "      <td>1501.26001</td>\n",
       "      <td>2.0</td>\n",
       "      <td>170.477415</td>\n",
       "      <td>600.918131</td>\n",
       "      <td>1003.227178</td>\n",
       "      <td>2534.776964</td>\n",
       "    </tr>\n",
       "    <tr>\n",
       "      <td>24</td>\n",
       "      <td>1501.26001</td>\n",
       "      <td>1561.26001</td>\n",
       "      <td>2.0</td>\n",
       "      <td>251.710369</td>\n",
       "      <td>652.810204</td>\n",
       "      <td>681.241149</td>\n",
       "      <td>2282.099434</td>\n",
       "    </tr>\n",
       "    <tr>\n",
       "      <td>25</td>\n",
       "      <td>1561.26001</td>\n",
       "      <td>1621.26001</td>\n",
       "      <td>2.0</td>\n",
       "      <td>299.798565</td>\n",
       "      <td>651.609510</td>\n",
       "      <td>848.188214</td>\n",
       "      <td>2502.444426</td>\n",
       "    </tr>\n",
       "    <tr>\n",
       "      <td>26</td>\n",
       "      <td>1621.26001</td>\n",
       "      <td>1681.26001</td>\n",
       "      <td>2.0</td>\n",
       "      <td>181.510093</td>\n",
       "      <td>376.080220</td>\n",
       "      <td>819.604065</td>\n",
       "      <td>2111.861955</td>\n",
       "    </tr>\n",
       "    <tr>\n",
       "      <td>27</td>\n",
       "      <td>1681.26001</td>\n",
       "      <td>1741.26001</td>\n",
       "      <td>2.0</td>\n",
       "      <td>256.550626</td>\n",
       "      <td>835.163130</td>\n",
       "      <td>686.516327</td>\n",
       "      <td>2382.111510</td>\n",
       "    </tr>\n",
       "    <tr>\n",
       "      <td>28</td>\n",
       "      <td>1741.26001</td>\n",
       "      <td>1801.26001</td>\n",
       "      <td>2.0</td>\n",
       "      <td>278.647155</td>\n",
       "      <td>773.254272</td>\n",
       "      <td>839.173229</td>\n",
       "      <td>2532.607510</td>\n",
       "    </tr>\n",
       "    <tr>\n",
       "      <td>29</td>\n",
       "      <td>1801.26001</td>\n",
       "      <td>1861.26001</td>\n",
       "      <td>2.0</td>\n",
       "      <td>164.045085</td>\n",
       "      <td>492.021945</td>\n",
       "      <td>746.345753</td>\n",
       "      <td>2100.241211</td>\n",
       "    </tr>\n",
       "    <tr>\n",
       "      <td>30</td>\n",
       "      <td>1861.26001</td>\n",
       "      <td>1921.26001</td>\n",
       "      <td>2.0</td>\n",
       "      <td>176.791897</td>\n",
       "      <td>697.732756</td>\n",
       "      <td>860.540815</td>\n",
       "      <td>2427.869101</td>\n",
       "    </tr>\n",
       "    <tr>\n",
       "      <td>31</td>\n",
       "      <td>1921.26001</td>\n",
       "      <td>1981.26001</td>\n",
       "      <td>2.0</td>\n",
       "      <td>306.842775</td>\n",
       "      <td>566.008609</td>\n",
       "      <td>772.980022</td>\n",
       "      <td>2406.440786</td>\n",
       "    </tr>\n",
       "    <tr>\n",
       "      <td>32</td>\n",
       "      <td>1981.26001</td>\n",
       "      <td>2041.26001</td>\n",
       "      <td>2.0</td>\n",
       "      <td>438.151838</td>\n",
       "      <td>1318.004881</td>\n",
       "      <td>1021.179982</td>\n",
       "      <td>3420.432939</td>\n",
       "    </tr>\n",
       "    <tr>\n",
       "      <td>33</td>\n",
       "      <td>2041.26001</td>\n",
       "      <td>2101.26001</td>\n",
       "      <td>2.0</td>\n",
       "      <td>344.073836</td>\n",
       "      <td>881.997978</td>\n",
       "      <td>852.501527</td>\n",
       "      <td>2740.849904</td>\n",
       "    </tr>\n",
       "    <tr>\n",
       "      <td>34</td>\n",
       "      <td>2101.26001</td>\n",
       "      <td>2161.26001</td>\n",
       "      <td>2.0</td>\n",
       "      <td>396.125902</td>\n",
       "      <td>669.251376</td>\n",
       "      <td>914.195132</td>\n",
       "      <td>2615.962811</td>\n",
       "    </tr>\n",
       "    <tr>\n",
       "      <td>35</td>\n",
       "      <td>2161.26001</td>\n",
       "      <td>2221.26001</td>\n",
       "      <td>2.0</td>\n",
       "      <td>299.768638</td>\n",
       "      <td>568.454531</td>\n",
       "      <td>882.273152</td>\n",
       "      <td>2408.203935</td>\n",
       "    </tr>\n",
       "    <tr>\n",
       "      <td>36</td>\n",
       "      <td>2221.26001</td>\n",
       "      <td>2281.26001</td>\n",
       "      <td>2.0</td>\n",
       "      <td>199.809300</td>\n",
       "      <td>612.489254</td>\n",
       "      <td>846.609127</td>\n",
       "      <td>2301.413421</td>\n",
       "    </tr>\n",
       "    <tr>\n",
       "      <td>37</td>\n",
       "      <td>2281.26001</td>\n",
       "      <td>2341.26001</td>\n",
       "      <td>2.0</td>\n",
       "      <td>179.961233</td>\n",
       "      <td>594.646452</td>\n",
       "      <td>838.488568</td>\n",
       "      <td>2307.878351</td>\n",
       "    </tr>\n",
       "    <tr>\n",
       "      <td>38</td>\n",
       "      <td>2341.26001</td>\n",
       "      <td>2401.26001</td>\n",
       "      <td>2.0</td>\n",
       "      <td>222.402267</td>\n",
       "      <td>527.848150</td>\n",
       "      <td>774.128016</td>\n",
       "      <td>2234.890653</td>\n",
       "    </tr>\n",
       "    <tr>\n",
       "      <td>39</td>\n",
       "      <td>2401.26001</td>\n",
       "      <td>2461.26001</td>\n",
       "      <td>2.0</td>\n",
       "      <td>400.312777</td>\n",
       "      <td>841.820668</td>\n",
       "      <td>789.150563</td>\n",
       "      <td>2738.211467</td>\n",
       "    </tr>\n",
       "    <tr>\n",
       "      <td>40</td>\n",
       "      <td>2461.26001</td>\n",
       "      <td>2521.26001</td>\n",
       "      <td>2.0</td>\n",
       "      <td>233.109862</td>\n",
       "      <td>526.792614</td>\n",
       "      <td>867.937781</td>\n",
       "      <td>2355.488728</td>\n",
       "    </tr>\n",
       "    <tr>\n",
       "      <td>41</td>\n",
       "      <td>2521.26001</td>\n",
       "      <td>2581.26001</td>\n",
       "      <td>2.0</td>\n",
       "      <td>234.576322</td>\n",
       "      <td>668.267772</td>\n",
       "      <td>965.472443</td>\n",
       "      <td>2540.890928</td>\n",
       "    </tr>\n",
       "    <tr>\n",
       "      <td>42</td>\n",
       "      <td>2581.26001</td>\n",
       "      <td>2641.26001</td>\n",
       "      <td>2.0</td>\n",
       "      <td>294.837811</td>\n",
       "      <td>1099.387860</td>\n",
       "      <td>1028.071098</td>\n",
       "      <td>3072.500083</td>\n",
       "    </tr>\n",
       "    <tr>\n",
       "      <td>43</td>\n",
       "      <td>2641.26001</td>\n",
       "      <td>2701.26001</td>\n",
       "      <td>2.0</td>\n",
       "      <td>397.582689</td>\n",
       "      <td>979.894773</td>\n",
       "      <td>727.132313</td>\n",
       "      <td>2750.785326</td>\n",
       "    </tr>\n",
       "  </tbody>\n",
       "</table>\n",
       "</div>"
      ],
      "text/plain": [
       "         begin         end  label  IBI_VLF_Pow   IBI_LF_Pow   IBI_HF_Pow  \\\n",
       "0      1.26001    61.26001    1.0   229.612209   569.601993   765.491220   \n",
       "1     61.26001   121.26001    1.0   228.369435   539.387100   761.933915   \n",
       "2    121.26001   181.26001    1.0   207.863788   566.989656   679.451749   \n",
       "3    181.26001   241.26001    1.0   341.137271   880.914626   912.947210   \n",
       "4    241.26001   301.26001    1.0   398.543662   864.270311   917.636933   \n",
       "5    301.26001   361.26001    1.0   295.015182   565.368597   832.033251   \n",
       "6    361.26001   421.26001    1.0   181.498882   783.806487  1431.280870   \n",
       "7    421.26001   481.26001    1.0   412.495210  1201.053029   953.783858   \n",
       "8    481.26001   541.26001    1.0   312.946871   737.438869   830.548423   \n",
       "9    601.26001   661.26001    2.0   189.754452   735.739155   893.733417   \n",
       "10   661.26001   721.26001    2.0   348.505746   790.006852   728.245905   \n",
       "11   721.26001   781.26001    2.0   377.375804   898.416826   866.505760   \n",
       "12   781.26001   841.26001    2.0   292.861524   812.845924   829.139904   \n",
       "13   841.26001   901.26001    2.0   190.491811   601.561529   831.356022   \n",
       "14   901.26001   961.26001    2.0   245.569688   902.995592  1041.698317   \n",
       "15   961.26001  1021.26001    2.0   426.200732   989.063753  1087.328518   \n",
       "16  1021.26001  1081.26001    2.0   238.679513   401.365364   605.159960   \n",
       "17  1081.26001  1141.26001    2.0   217.407995   624.700368   706.628564   \n",
       "18  1141.26001  1201.26001    2.0   295.817186   438.768909   897.160080   \n",
       "19  1201.26001  1261.26001    2.0   178.654669   551.495680   829.734022   \n",
       "20  1261.26001  1321.26001    2.0   257.984999   712.489465   975.477150   \n",
       "21  1321.26001  1381.26001    2.0   234.665914   746.059086  1098.626805   \n",
       "22  1381.26001  1441.26001    2.0   543.552760  1040.660365   891.489030   \n",
       "23  1441.26001  1501.26001    2.0   170.477415   600.918131  1003.227178   \n",
       "24  1501.26001  1561.26001    2.0   251.710369   652.810204   681.241149   \n",
       "25  1561.26001  1621.26001    2.0   299.798565   651.609510   848.188214   \n",
       "26  1621.26001  1681.26001    2.0   181.510093   376.080220   819.604065   \n",
       "27  1681.26001  1741.26001    2.0   256.550626   835.163130   686.516327   \n",
       "28  1741.26001  1801.26001    2.0   278.647155   773.254272   839.173229   \n",
       "29  1801.26001  1861.26001    2.0   164.045085   492.021945   746.345753   \n",
       "30  1861.26001  1921.26001    2.0   176.791897   697.732756   860.540815   \n",
       "31  1921.26001  1981.26001    2.0   306.842775   566.008609   772.980022   \n",
       "32  1981.26001  2041.26001    2.0   438.151838  1318.004881  1021.179982   \n",
       "33  2041.26001  2101.26001    2.0   344.073836   881.997978   852.501527   \n",
       "34  2101.26001  2161.26001    2.0   396.125902   669.251376   914.195132   \n",
       "35  2161.26001  2221.26001    2.0   299.768638   568.454531   882.273152   \n",
       "36  2221.26001  2281.26001    2.0   199.809300   612.489254   846.609127   \n",
       "37  2281.26001  2341.26001    2.0   179.961233   594.646452   838.488568   \n",
       "38  2341.26001  2401.26001    2.0   222.402267   527.848150   774.128016   \n",
       "39  2401.26001  2461.26001    2.0   400.312777   841.820668   789.150563   \n",
       "40  2461.26001  2521.26001    2.0   233.109862   526.792614   867.937781   \n",
       "41  2521.26001  2581.26001    2.0   234.576322   668.267772   965.472443   \n",
       "42  2581.26001  2641.26001    2.0   294.837811  1099.387860  1028.071098   \n",
       "43  2641.26001  2701.26001    2.0   397.582689   979.894773   727.132313   \n",
       "\n",
       "    IBI_Total_Pow  \n",
       "0     2192.793963  \n",
       "1     2206.809707  \n",
       "2     2150.759348  \n",
       "3     2742.481926  \n",
       "4     2884.514784  \n",
       "5     2408.277186  \n",
       "6     3138.169134  \n",
       "7     3216.826997  \n",
       "8     2516.509481  \n",
       "9     2605.027391  \n",
       "10    2604.874441  \n",
       "11    2812.342225  \n",
       "12    2603.127794  \n",
       "13    2269.040972  \n",
       "14    2852.823309  \n",
       "15    3170.745796  \n",
       "16    1881.080612  \n",
       "17    2238.881268  \n",
       "18    2290.565748  \n",
       "19    2258.731708  \n",
       "20    2647.826615  \n",
       "21    2768.038524  \n",
       "22    3108.215645  \n",
       "23    2534.776964  \n",
       "24    2282.099434  \n",
       "25    2502.444426  \n",
       "26    2111.861955  \n",
       "27    2382.111510  \n",
       "28    2532.607510  \n",
       "29    2100.241211  \n",
       "30    2427.869101  \n",
       "31    2406.440786  \n",
       "32    3420.432939  \n",
       "33    2740.849904  \n",
       "34    2615.962811  \n",
       "35    2408.203935  \n",
       "36    2301.413421  \n",
       "37    2307.878351  \n",
       "38    2234.890653  \n",
       "39    2738.211467  \n",
       "40    2355.488728  \n",
       "41    2540.890928  \n",
       "42    3072.500083  \n",
       "43    2750.785326  "
      ]
     },
     "execution_count": 29,
     "metadata": {},
     "output_type": "execute_result"
    }
   ],
   "source": [
    "import pandas as pd\n",
    "\n",
    "# create a pandas dataframe\n",
    "FD_HRV_pp57_df = pd.DataFrame(FD_HRV_ind, columns=col_names)\n",
    "\n",
    "FD_HRV_pp57_df"
   ]
  },
  {
   "cell_type": "code",
   "execution_count": 30,
   "metadata": {},
   "outputs": [],
   "source": [
    "#save data \n",
    "FD_HRV_pp57_df.to_csv('FD_HRV_pp56.csv')"
   ]
  }
 ],
 "metadata": {
  "kernelspec": {
   "display_name": "Python 3",
   "language": "python",
   "name": "python3"
  },
  "language_info": {
   "codemirror_mode": {
    "name": "ipython",
    "version": 3
   },
   "file_extension": ".py",
   "mimetype": "text/x-python",
   "name": "python",
   "nbconvert_exporter": "python",
   "pygments_lexer": "ipython3",
   "version": "3.7.4"
  }
 },
 "nbformat": 4,
 "nbformat_minor": 2
}
