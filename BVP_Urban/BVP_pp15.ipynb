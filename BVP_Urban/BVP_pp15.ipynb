{
 "cells": [
  {
   "cell_type": "code",
   "execution_count": 1,
   "metadata": {},
   "outputs": [],
   "source": [
    "# import libraries\n",
    "import numpy as np\n",
    "import matplotlib.pyplot as plt\n",
    "import pandas as pd \n",
    "\n",
    "%matplotlib inline "
   ]
  },
  {
   "cell_type": "code",
   "execution_count": 2,
   "metadata": {},
   "outputs": [
    {
     "name": "stdout",
     "output_type": "stream",
     "text": [
      "Please cite:\n",
      "Bizzego et al. (2019) 'pyphysio: A physiological signal processing library for data science approaches in physiology', SoftwareX\n"
     ]
    }
   ],
   "source": [
    "# import all pyphysio classes and methods\n",
    "import pyphysio as ph"
   ]
  },
  {
   "cell_type": "code",
   "execution_count": 3,
   "metadata": {},
   "outputs": [],
   "source": [
    "# import data and creating a signal\n",
    "df_BVP = pd.read_csv('BVP_pp15.csv', header=None)"
   ]
  },
  {
   "cell_type": "code",
   "execution_count": 4,
   "metadata": {},
   "outputs": [
    {
     "name": "stdout",
     "output_type": "stream",
     "text": [
      "0    309958\n",
      "dtype: int64\n"
     ]
    }
   ],
   "source": [
    "#count rows \n",
    "n_of_rows = df_BVP.count()\n",
    "print(n_of_rows)"
   ]
  },
  {
   "cell_type": "code",
   "execution_count": 5,
   "metadata": {},
   "outputs": [
    {
     "name": "stdout",
     "output_type": "stream",
     "text": [
      "218880\n"
     ]
    }
   ],
   "source": [
    "#actual recording time 57 mins = 3420s\n",
    "#rows based on seconds \n",
    "n_of_rows_keep = 3420*64\n",
    "print(n_of_rows_keep)"
   ]
  },
  {
   "cell_type": "code",
   "execution_count": 6,
   "metadata": {},
   "outputs": [
    {
     "name": "stdout",
     "output_type": "stream",
     "text": [
      "           0\n",
      "0       0.00\n",
      "1       0.00\n",
      "2       0.00\n",
      "3       0.00\n",
      "4       0.00\n",
      "...      ...\n",
      "218875 -2.92\n",
      "218876 -2.92\n",
      "218877 -2.93\n",
      "218878 -2.70\n",
      "218879 -1.94\n",
      "\n",
      "[218880 rows x 1 columns]\n"
     ]
    }
   ],
   "source": [
    "#using pandas to drop all the rows / seconds after 3420s \n",
    "df_BVP = df_BVP.drop(df_BVP.index[218880:1309958])\n",
    "print(df_BVP)"
   ]
  },
  {
   "cell_type": "code",
   "execution_count": 7,
   "metadata": {},
   "outputs": [],
   "source": [
    "#create BVP signal \n",
    "fsamp = 64  #64 Hz \n",
    "t_start = 0\n",
    "\n",
    "ecg = ph.EvenlySignal(values = df_BVP, sampling_freq = fsamp, signal_type = 'ecg')"
   ]
  },
  {
   "cell_type": "code",
   "execution_count": 8,
   "metadata": {},
   "outputs": [
    {
     "name": "stdout",
     "output_type": "stream",
     "text": [
      "0\n"
     ]
    }
   ],
   "source": [
    "print(ecg.get_start_time())"
   ]
  },
  {
   "cell_type": "code",
   "execution_count": 9,
   "metadata": {},
   "outputs": [
    {
     "data": {
      "text/plain": [
       "[<matplotlib.lines.Line2D at 0x1c1ed716d0>]"
      ]
     },
     "execution_count": 9,
     "metadata": {},
     "output_type": "execute_result"
    },
    {
     "data": {
      "image/png": "[encoded data removed]",
      "text/plain": [
       "<Figure size 432x288 with 1 Axes>"
      ]
     },
     "metadata": {
      "needs_background": "light"
     },
     "output_type": "display_data"
    }
   ],
   "source": [
    "ecg.plot()"
   ]
  },
  {
   "cell_type": "code",
   "execution_count": 10,
   "metadata": {},
   "outputs": [],
   "source": [
    "ibi = ph.BeatFromECG()(ecg)"
   ]
  },
  {
   "cell_type": "code",
   "execution_count": 11,
   "metadata": {},
   "outputs": [
    {
     "data": {
      "text/plain": [
       "3420.0"
      ]
     },
     "execution_count": 11,
     "metadata": {},
     "output_type": "execute_result"
    }
   ],
   "source": [
    "ibi.get_duration() #seconds "
   ]
  },
  {
   "cell_type": "code",
   "execution_count": 12,
   "metadata": {},
   "outputs": [],
   "source": [
    "# create label\n",
    "label = np.zeros(3420)\n",
    "label[0:600] = 1\n",
    "label[600:3420] = 2\n",
    "\n",
    "label = ph.EvenlySignal(label, sampling_freq = 1, signal_type = 'label') \n",
    "#sampling_freq here is not intended as real sampfeq, only the distance between one point and the other (e.g. 10 = 10 units between 'begin' & 'end')"
   ]
  },
  {
   "cell_type": "code",
   "execution_count": 13,
   "metadata": {},
   "outputs": [],
   "source": [
    "# (optional) IIR filtering : remove high frequency noise\n",
    "#ecg = ph.IIRFilter(fp=45, fs = 50, ftype='ellip')(ecg)"
   ]
  },
  {
   "cell_type": "code",
   "execution_count": 14,
   "metadata": {},
   "outputs": [],
   "source": [
    "# normalization : normalize data\n",
    "ecg = ph.Normalize(norm_method='standard')(ecg)"
   ]
  },
  {
   "cell_type": "code",
   "execution_count": 15,
   "metadata": {},
   "outputs": [],
   "source": [
    "# resampling : increase the sampling frequency by cubic interpolation\n",
    "ecg = ecg.resample(fout=4096, kind='cubic')\n",
    "fsamp = 4096"
   ]
  },
  {
   "cell_type": "code",
   "execution_count": 16,
   "metadata": {},
   "outputs": [
    {
     "data": {
      "text/plain": [
       "[<matplotlib.lines.Line2D at 0x1c20292190>]"
      ]
     },
     "execution_count": 16,
     "metadata": {},
     "output_type": "execute_result"
    },
    {
     "data": {
      "image/png": "[encoded data removed]",
      "text/plain": [
       "<Figure size 432x288 with 1 Axes>"
      ]
     },
     "metadata": {
      "needs_background": "light"
     },
     "output_type": "display_data"
    }
   ],
   "source": [
    "ecg.plot()"
   ]
  },
  {
   "cell_type": "code",
   "execution_count": 17,
   "metadata": {},
   "outputs": [],
   "source": [
    "ibi = ph.BeatFromECG()(ecg)"
   ]
  },
  {
   "cell_type": "code",
   "execution_count": 18,
   "metadata": {},
   "outputs": [
    {
     "data": {
      "text/plain": [
       "3420.0"
      ]
     },
     "execution_count": 18,
     "metadata": {},
     "output_type": "execute_result"
    }
   ],
   "source": [
    "ibi.get_duration()\n"
   ]
  },
  {
   "cell_type": "code",
   "execution_count": 19,
   "metadata": {
    "scrolled": true
   },
   "outputs": [
    {
     "data": {
      "image/png": "[encoded data removed]",
      "text/plain": [
       "<Figure size 432x288 with 2 Axes>"
      ]
     },
     "metadata": {
      "needs_background": "light"
     },
     "output_type": "display_data"
    }
   ],
   "source": [
    "# check results so far\n",
    "ax1 = plt.subplot(211)\n",
    "ecg.plot()\n",
    "plt.vlines(ibi.get_times(), np.min(ecg), np.max(ecg))\n",
    "\n",
    "plt.subplot(212, sharex = ax1)\n",
    "ibi.plot('o-')\n",
    "plt.vlines(ibi.get_times(), np.min(ibi), np.max(ibi))\n",
    "plt.show()"
   ]
  },
  {
   "cell_type": "code",
   "execution_count": 20,
   "metadata": {},
   "outputs": [],
   "source": [
    "### physiological indicators "
   ]
  },
  {
   "cell_type": "code",
   "execution_count": 21,
   "metadata": {},
   "outputs": [
    {
     "data": {
      "image/png": "[encoded data removed]",
      "text/plain": [
       "<Figure size 432x288 with 2 Axes>"
      ]
     },
     "metadata": {
      "needs_background": "light"
     },
     "output_type": "display_data"
    }
   ],
   "source": [
    "# check label\n",
    "ax1 = plt.subplot(211)\n",
    "ibi.plot('.-')\n",
    "\n",
    "plt.subplot(212, sharex = ax1)\n",
    "label.plot('.-')\n",
    "plt.show()"
   ]
  },
  {
   "cell_type": "code",
   "execution_count": 22,
   "metadata": {},
   "outputs": [],
   "source": [
    "# define a list of indicators we want to compute\n",
    "hrv_indicators = [ph.Mean(name='RRmean'), ph.StDev(name='RRstd'), ph.RMSSD(name='rmsSD')]"
   ]
  },
  {
   "cell_type": "code",
   "execution_count": 23,
   "metadata": {},
   "outputs": [],
   "source": [
    "#fixed length windowing\n",
    "fixed_length = ph.FixedSegments(step = 60, width = 60, labels = label)\n",
    "\n",
    "indicators, col_names = ph.fmap(fixed_length, hrv_indicators, ibi)"
   ]
  },
  {
   "cell_type": "code",
   "execution_count": 24,
   "metadata": {},
   "outputs": [],
   "source": [
    "# extract column with the labels for each window\n",
    "label_w = indicators[:, np.where(col_names == 'label')[0]]\n",
    "\n",
    "# extract column with the RRmean values computed from each window\n",
    "rrmean_w = indicators[:, np.where(col_names == 'RRmean')[0]]\n",
    "\n",
    "rrmean_image1 = rrmean_w[np.where(label_w==1)[0]].ravel()\n",
    "rrmean_image2 = rrmean_w[np.where(label_w==2)[0]].ravel()"
   ]
  },
  {
   "cell_type": "code",
   "execution_count": 25,
   "metadata": {},
   "outputs": [
    {
     "data": {
      "text/plain": [
       "{'whiskers': [<matplotlib.lines.Line2D at 0x1c1ef3f390>,\n",
       "  <matplotlib.lines.Line2D at 0x1c1f1a8290>,\n",
       "  <matplotlib.lines.Line2D at 0x1c1f282e50>,\n",
       "  <matplotlib.lines.Line2D at 0x1c1f7d9090>],\n",
       " 'caps': [<matplotlib.lines.Line2D at 0x1c1f28bed0>,\n",
       "  <matplotlib.lines.Line2D at 0x1c1f28b210>,\n",
       "  <matplotlib.lines.Line2D at 0x1c211d28d0>,\n",
       "  <matplotlib.lines.Line2D at 0x1c1eeebad0>],\n",
       " 'boxes': [<matplotlib.lines.Line2D at 0x1c1f1a8b90>,\n",
       "  <matplotlib.lines.Line2D at 0x1c211d2490>],\n",
       " 'medians': [<matplotlib.lines.Line2D at 0x1c1ef3fb50>,\n",
       "  <matplotlib.lines.Line2D at 0x1c1eeeb210>],\n",
       " 'fliers': [<matplotlib.lines.Line2D at 0x1c1f28b1d0>,\n",
       "  <matplotlib.lines.Line2D at 0x1c1f282c90>],\n",
       " 'means': []}"
      ]
     },
     "execution_count": 25,
     "metadata": {},
     "output_type": "execute_result"
    },
    {
     "data": {
      "image/png": "[encoded data removed]",
      "text/plain": [
       "<Figure size 432x288 with 1 Axes>"
      ]
     },
     "metadata": {
      "needs_background": "light"
     },
     "output_type": "display_data"
    }
   ],
   "source": [
    "## create a box and whisker plot to compare the distibution of the RRmean indicator\n",
    "plt.boxplot([rrmean_image1, rrmean_image2],\n",
    "            labels=['First 10 Minutes', 'recording time'])"
   ]
  },
  {
   "cell_type": "code",
   "execution_count": 26,
   "metadata": {},
   "outputs": [
    {
     "name": "stdout",
     "output_type": "stream",
     "text": [
      "[IBI_VLF_Pow, IBI_LF_Pow, IBI_HF_Pow, IBI_Total_Pow]\n",
      "{'freq_min': 1e-05, 'freq_max': 0.04, 'method': 'ar', 'interp_freq': 4, 'name': 'IBI_VLF_Pow'}\n"
     ]
    }
   ],
   "source": [
    "HRV_FD = ph.preset_hrv_fd() #frequency domain HRV indicators\n",
    "print(HRV_FD)\n",
    "\n",
    "print(HRV_FD[0].get())"
   ]
  },
  {
   "cell_type": "code",
   "execution_count": 27,
   "metadata": {},
   "outputs": [],
   "source": [
    "FD_HRV_ind, col_names = ph.fmap(fixed_length, ph.preset_hrv_fd(), ibi.resample(4))"
   ]
  },
  {
   "cell_type": "code",
   "execution_count": 28,
   "metadata": {},
   "outputs": [
    {
     "data": {
      "text/html": [
       "<div>\n",
       "<style scoped>\n",
       "    .dataframe tbody tr th:only-of-type {\n",
       "        vertical-align: middle;\n",
       "    }\n",
       "\n",
       "    .dataframe tbody tr th {\n",
       "        vertical-align: top;\n",
       "    }\n",
       "\n",
       "    .dataframe thead th {\n",
       "        text-align: right;\n",
       "    }\n",
       "</style>\n",
       "<table border=\"1\" class=\"dataframe\">\n",
       "  <thead>\n",
       "    <tr style=\"text-align: right;\">\n",
       "      <th></th>\n",
       "      <th>begin</th>\n",
       "      <th>end</th>\n",
       "      <th>label</th>\n",
       "      <th>IBI_VLF_Pow</th>\n",
       "      <th>IBI_LF_Pow</th>\n",
       "      <th>IBI_HF_Pow</th>\n",
       "      <th>IBI_Total_Pow</th>\n",
       "    </tr>\n",
       "  </thead>\n",
       "  <tbody>\n",
       "    <tr>\n",
       "      <td>0</td>\n",
       "      <td>1.231934</td>\n",
       "      <td>61.231934</td>\n",
       "      <td>1.0</td>\n",
       "      <td>206.626330</td>\n",
       "      <td>491.635495</td>\n",
       "      <td>842.109020</td>\n",
       "      <td>2259.995540</td>\n",
       "    </tr>\n",
       "    <tr>\n",
       "      <td>1</td>\n",
       "      <td>61.231934</td>\n",
       "      <td>121.231934</td>\n",
       "      <td>1.0</td>\n",
       "      <td>133.077345</td>\n",
       "      <td>426.699290</td>\n",
       "      <td>771.384786</td>\n",
       "      <td>2091.179090</td>\n",
       "    </tr>\n",
       "    <tr>\n",
       "      <td>2</td>\n",
       "      <td>121.231934</td>\n",
       "      <td>181.231934</td>\n",
       "      <td>1.0</td>\n",
       "      <td>298.725087</td>\n",
       "      <td>735.736639</td>\n",
       "      <td>743.645239</td>\n",
       "      <td>2436.284760</td>\n",
       "    </tr>\n",
       "    <tr>\n",
       "      <td>3</td>\n",
       "      <td>181.231934</td>\n",
       "      <td>241.231934</td>\n",
       "      <td>1.0</td>\n",
       "      <td>82.081657</td>\n",
       "      <td>381.646467</td>\n",
       "      <td>785.411620</td>\n",
       "      <td>1981.175781</td>\n",
       "    </tr>\n",
       "    <tr>\n",
       "      <td>4</td>\n",
       "      <td>241.231934</td>\n",
       "      <td>301.231934</td>\n",
       "      <td>1.0</td>\n",
       "      <td>121.838651</td>\n",
       "      <td>400.231975</td>\n",
       "      <td>735.589758</td>\n",
       "      <td>2062.175849</td>\n",
       "    </tr>\n",
       "    <tr>\n",
       "      <td>5</td>\n",
       "      <td>301.231934</td>\n",
       "      <td>361.231934</td>\n",
       "      <td>1.0</td>\n",
       "      <td>155.943627</td>\n",
       "      <td>311.345897</td>\n",
       "      <td>776.118800</td>\n",
       "      <td>2022.288084</td>\n",
       "    </tr>\n",
       "    <tr>\n",
       "      <td>6</td>\n",
       "      <td>361.231934</td>\n",
       "      <td>421.231934</td>\n",
       "      <td>1.0</td>\n",
       "      <td>201.574866</td>\n",
       "      <td>524.627513</td>\n",
       "      <td>824.722388</td>\n",
       "      <td>2346.379039</td>\n",
       "    </tr>\n",
       "    <tr>\n",
       "      <td>7</td>\n",
       "      <td>421.231934</td>\n",
       "      <td>481.231934</td>\n",
       "      <td>1.0</td>\n",
       "      <td>294.227749</td>\n",
       "      <td>727.387616</td>\n",
       "      <td>794.135862</td>\n",
       "      <td>2512.663912</td>\n",
       "    </tr>\n",
       "    <tr>\n",
       "      <td>8</td>\n",
       "      <td>481.231934</td>\n",
       "      <td>541.231934</td>\n",
       "      <td>1.0</td>\n",
       "      <td>172.775483</td>\n",
       "      <td>507.453017</td>\n",
       "      <td>791.952385</td>\n",
       "      <td>2235.572808</td>\n",
       "    </tr>\n",
       "    <tr>\n",
       "      <td>9</td>\n",
       "      <td>601.231934</td>\n",
       "      <td>661.231934</td>\n",
       "      <td>2.0</td>\n",
       "      <td>263.270625</td>\n",
       "      <td>444.188310</td>\n",
       "      <td>739.530684</td>\n",
       "      <td>2142.804003</td>\n",
       "    </tr>\n",
       "    <tr>\n",
       "      <td>10</td>\n",
       "      <td>661.231934</td>\n",
       "      <td>721.231934</td>\n",
       "      <td>2.0</td>\n",
       "      <td>151.132617</td>\n",
       "      <td>763.217906</td>\n",
       "      <td>920.344749</td>\n",
       "      <td>2593.795381</td>\n",
       "    </tr>\n",
       "    <tr>\n",
       "      <td>11</td>\n",
       "      <td>721.231934</td>\n",
       "      <td>781.231934</td>\n",
       "      <td>2.0</td>\n",
       "      <td>484.842246</td>\n",
       "      <td>1399.618864</td>\n",
       "      <td>987.917503</td>\n",
       "      <td>3516.331815</td>\n",
       "    </tr>\n",
       "    <tr>\n",
       "      <td>12</td>\n",
       "      <td>781.231934</td>\n",
       "      <td>841.231934</td>\n",
       "      <td>2.0</td>\n",
       "      <td>130.332368</td>\n",
       "      <td>223.797841</td>\n",
       "      <td>576.597198</td>\n",
       "      <td>1688.919231</td>\n",
       "    </tr>\n",
       "    <tr>\n",
       "      <td>13</td>\n",
       "      <td>841.231934</td>\n",
       "      <td>901.231934</td>\n",
       "      <td>2.0</td>\n",
       "      <td>61.750403</td>\n",
       "      <td>214.102773</td>\n",
       "      <td>567.510599</td>\n",
       "      <td>1571.976589</td>\n",
       "    </tr>\n",
       "    <tr>\n",
       "      <td>14</td>\n",
       "      <td>901.231934</td>\n",
       "      <td>961.231934</td>\n",
       "      <td>2.0</td>\n",
       "      <td>307.008469</td>\n",
       "      <td>669.979485</td>\n",
       "      <td>919.092134</td>\n",
       "      <td>2546.129651</td>\n",
       "    </tr>\n",
       "    <tr>\n",
       "      <td>15</td>\n",
       "      <td>961.231934</td>\n",
       "      <td>1021.231934</td>\n",
       "      <td>2.0</td>\n",
       "      <td>178.564270</td>\n",
       "      <td>546.399933</td>\n",
       "      <td>888.194068</td>\n",
       "      <td>2274.369517</td>\n",
       "    </tr>\n",
       "    <tr>\n",
       "      <td>16</td>\n",
       "      <td>1021.231934</td>\n",
       "      <td>1081.231934</td>\n",
       "      <td>2.0</td>\n",
       "      <td>689.190364</td>\n",
       "      <td>894.695257</td>\n",
       "      <td>936.016462</td>\n",
       "      <td>3234.866933</td>\n",
       "    </tr>\n",
       "    <tr>\n",
       "      <td>17</td>\n",
       "      <td>1081.231934</td>\n",
       "      <td>1141.231934</td>\n",
       "      <td>2.0</td>\n",
       "      <td>219.100366</td>\n",
       "      <td>502.926216</td>\n",
       "      <td>582.630177</td>\n",
       "      <td>1932.584569</td>\n",
       "    </tr>\n",
       "    <tr>\n",
       "      <td>18</td>\n",
       "      <td>1141.231934</td>\n",
       "      <td>1201.231934</td>\n",
       "      <td>2.0</td>\n",
       "      <td>185.873811</td>\n",
       "      <td>346.531724</td>\n",
       "      <td>452.460186</td>\n",
       "      <td>1661.555029</td>\n",
       "    </tr>\n",
       "    <tr>\n",
       "      <td>19</td>\n",
       "      <td>1201.231934</td>\n",
       "      <td>1261.231934</td>\n",
       "      <td>2.0</td>\n",
       "      <td>201.775153</td>\n",
       "      <td>524.192967</td>\n",
       "      <td>743.902018</td>\n",
       "      <td>2220.506852</td>\n",
       "    </tr>\n",
       "    <tr>\n",
       "      <td>20</td>\n",
       "      <td>1261.231934</td>\n",
       "      <td>1321.231934</td>\n",
       "      <td>2.0</td>\n",
       "      <td>235.465087</td>\n",
       "      <td>863.750696</td>\n",
       "      <td>921.211538</td>\n",
       "      <td>2730.274050</td>\n",
       "    </tr>\n",
       "    <tr>\n",
       "      <td>21</td>\n",
       "      <td>1321.231934</td>\n",
       "      <td>1381.231934</td>\n",
       "      <td>2.0</td>\n",
       "      <td>191.243971</td>\n",
       "      <td>755.773243</td>\n",
       "      <td>1126.409109</td>\n",
       "      <td>2867.264376</td>\n",
       "    </tr>\n",
       "    <tr>\n",
       "      <td>22</td>\n",
       "      <td>1381.231934</td>\n",
       "      <td>1441.231934</td>\n",
       "      <td>2.0</td>\n",
       "      <td>268.935151</td>\n",
       "      <td>727.688680</td>\n",
       "      <td>759.069528</td>\n",
       "      <td>2462.892516</td>\n",
       "    </tr>\n",
       "    <tr>\n",
       "      <td>23</td>\n",
       "      <td>1441.231934</td>\n",
       "      <td>1501.231934</td>\n",
       "      <td>2.0</td>\n",
       "      <td>278.487839</td>\n",
       "      <td>804.760227</td>\n",
       "      <td>822.717609</td>\n",
       "      <td>2537.472720</td>\n",
       "    </tr>\n",
       "    <tr>\n",
       "      <td>24</td>\n",
       "      <td>1501.231934</td>\n",
       "      <td>1561.231934</td>\n",
       "      <td>2.0</td>\n",
       "      <td>349.266882</td>\n",
       "      <td>630.556629</td>\n",
       "      <td>984.068728</td>\n",
       "      <td>2638.843127</td>\n",
       "    </tr>\n",
       "    <tr>\n",
       "      <td>25</td>\n",
       "      <td>1561.231934</td>\n",
       "      <td>1621.231934</td>\n",
       "      <td>2.0</td>\n",
       "      <td>419.275422</td>\n",
       "      <td>944.401170</td>\n",
       "      <td>773.885837</td>\n",
       "      <td>2810.644028</td>\n",
       "    </tr>\n",
       "    <tr>\n",
       "      <td>26</td>\n",
       "      <td>1621.231934</td>\n",
       "      <td>1681.231934</td>\n",
       "      <td>2.0</td>\n",
       "      <td>247.674614</td>\n",
       "      <td>799.494502</td>\n",
       "      <td>645.441017</td>\n",
       "      <td>2458.893715</td>\n",
       "    </tr>\n",
       "    <tr>\n",
       "      <td>27</td>\n",
       "      <td>1681.231934</td>\n",
       "      <td>1741.231934</td>\n",
       "      <td>2.0</td>\n",
       "      <td>222.693352</td>\n",
       "      <td>688.802468</td>\n",
       "      <td>895.682151</td>\n",
       "      <td>2526.546072</td>\n",
       "    </tr>\n",
       "    <tr>\n",
       "      <td>28</td>\n",
       "      <td>1741.231934</td>\n",
       "      <td>1801.231934</td>\n",
       "      <td>2.0</td>\n",
       "      <td>506.137056</td>\n",
       "      <td>741.646297</td>\n",
       "      <td>658.601476</td>\n",
       "      <td>2622.945349</td>\n",
       "    </tr>\n",
       "    <tr>\n",
       "      <td>29</td>\n",
       "      <td>1801.231934</td>\n",
       "      <td>1861.231934</td>\n",
       "      <td>2.0</td>\n",
       "      <td>299.173960</td>\n",
       "      <td>590.654024</td>\n",
       "      <td>598.853850</td>\n",
       "      <td>2192.262140</td>\n",
       "    </tr>\n",
       "    <tr>\n",
       "      <td>30</td>\n",
       "      <td>1861.231934</td>\n",
       "      <td>1921.231934</td>\n",
       "      <td>2.0</td>\n",
       "      <td>174.904078</td>\n",
       "      <td>587.855762</td>\n",
       "      <td>662.569781</td>\n",
       "      <td>2119.104769</td>\n",
       "    </tr>\n",
       "    <tr>\n",
       "      <td>31</td>\n",
       "      <td>1921.231934</td>\n",
       "      <td>1981.231934</td>\n",
       "      <td>2.0</td>\n",
       "      <td>92.057792</td>\n",
       "      <td>380.270557</td>\n",
       "      <td>802.085842</td>\n",
       "      <td>2059.597349</td>\n",
       "    </tr>\n",
       "    <tr>\n",
       "      <td>32</td>\n",
       "      <td>1981.231934</td>\n",
       "      <td>2041.231934</td>\n",
       "      <td>2.0</td>\n",
       "      <td>165.946349</td>\n",
       "      <td>413.545569</td>\n",
       "      <td>698.639819</td>\n",
       "      <td>2049.706388</td>\n",
       "    </tr>\n",
       "    <tr>\n",
       "      <td>33</td>\n",
       "      <td>2041.231934</td>\n",
       "      <td>2101.231934</td>\n",
       "      <td>2.0</td>\n",
       "      <td>345.170743</td>\n",
       "      <td>946.404540</td>\n",
       "      <td>1013.956258</td>\n",
       "      <td>3058.980299</td>\n",
       "    </tr>\n",
       "    <tr>\n",
       "      <td>34</td>\n",
       "      <td>2101.231934</td>\n",
       "      <td>2161.231934</td>\n",
       "      <td>2.0</td>\n",
       "      <td>62.511566</td>\n",
       "      <td>230.103828</td>\n",
       "      <td>621.659384</td>\n",
       "      <td>1775.046656</td>\n",
       "    </tr>\n",
       "    <tr>\n",
       "      <td>35</td>\n",
       "      <td>2161.231934</td>\n",
       "      <td>2221.231934</td>\n",
       "      <td>2.0</td>\n",
       "      <td>82.502643</td>\n",
       "      <td>324.356336</td>\n",
       "      <td>578.474032</td>\n",
       "      <td>1887.711338</td>\n",
       "    </tr>\n",
       "    <tr>\n",
       "      <td>36</td>\n",
       "      <td>2221.231934</td>\n",
       "      <td>2281.231934</td>\n",
       "      <td>2.0</td>\n",
       "      <td>152.245609</td>\n",
       "      <td>529.400565</td>\n",
       "      <td>899.091795</td>\n",
       "      <td>2320.139461</td>\n",
       "    </tr>\n",
       "    <tr>\n",
       "      <td>37</td>\n",
       "      <td>2281.231934</td>\n",
       "      <td>2341.231934</td>\n",
       "      <td>2.0</td>\n",
       "      <td>143.077634</td>\n",
       "      <td>389.309856</td>\n",
       "      <td>824.709751</td>\n",
       "      <td>2128.449943</td>\n",
       "    </tr>\n",
       "    <tr>\n",
       "      <td>38</td>\n",
       "      <td>2341.231934</td>\n",
       "      <td>2401.231934</td>\n",
       "      <td>2.0</td>\n",
       "      <td>356.786317</td>\n",
       "      <td>879.040402</td>\n",
       "      <td>944.380164</td>\n",
       "      <td>2856.787246</td>\n",
       "    </tr>\n",
       "    <tr>\n",
       "      <td>39</td>\n",
       "      <td>2401.231934</td>\n",
       "      <td>2461.231934</td>\n",
       "      <td>2.0</td>\n",
       "      <td>172.009517</td>\n",
       "      <td>442.251822</td>\n",
       "      <td>964.707630</td>\n",
       "      <td>2318.405531</td>\n",
       "    </tr>\n",
       "    <tr>\n",
       "      <td>40</td>\n",
       "      <td>2461.231934</td>\n",
       "      <td>2521.231934</td>\n",
       "      <td>2.0</td>\n",
       "      <td>144.900364</td>\n",
       "      <td>369.156407</td>\n",
       "      <td>750.934560</td>\n",
       "      <td>2069.240044</td>\n",
       "    </tr>\n",
       "    <tr>\n",
       "      <td>41</td>\n",
       "      <td>2521.231934</td>\n",
       "      <td>2581.231934</td>\n",
       "      <td>2.0</td>\n",
       "      <td>137.469872</td>\n",
       "      <td>508.999329</td>\n",
       "      <td>831.842649</td>\n",
       "      <td>2224.598420</td>\n",
       "    </tr>\n",
       "    <tr>\n",
       "      <td>42</td>\n",
       "      <td>2581.231934</td>\n",
       "      <td>2641.231934</td>\n",
       "      <td>2.0</td>\n",
       "      <td>105.948169</td>\n",
       "      <td>343.671208</td>\n",
       "      <td>733.067650</td>\n",
       "      <td>2018.493897</td>\n",
       "    </tr>\n",
       "    <tr>\n",
       "      <td>43</td>\n",
       "      <td>2641.231934</td>\n",
       "      <td>2701.231934</td>\n",
       "      <td>2.0</td>\n",
       "      <td>119.457794</td>\n",
       "      <td>386.596563</td>\n",
       "      <td>822.678013</td>\n",
       "      <td>2080.595922</td>\n",
       "    </tr>\n",
       "    <tr>\n",
       "      <td>44</td>\n",
       "      <td>2701.231934</td>\n",
       "      <td>2761.231934</td>\n",
       "      <td>2.0</td>\n",
       "      <td>173.688740</td>\n",
       "      <td>541.119538</td>\n",
       "      <td>818.845393</td>\n",
       "      <td>2327.278892</td>\n",
       "    </tr>\n",
       "    <tr>\n",
       "      <td>45</td>\n",
       "      <td>2761.231934</td>\n",
       "      <td>2821.231934</td>\n",
       "      <td>2.0</td>\n",
       "      <td>244.369717</td>\n",
       "      <td>612.201057</td>\n",
       "      <td>935.759834</td>\n",
       "      <td>2501.952203</td>\n",
       "    </tr>\n",
       "    <tr>\n",
       "      <td>46</td>\n",
       "      <td>2821.231934</td>\n",
       "      <td>2881.231934</td>\n",
       "      <td>2.0</td>\n",
       "      <td>383.509697</td>\n",
       "      <td>1042.461075</td>\n",
       "      <td>878.757817</td>\n",
       "      <td>2982.203569</td>\n",
       "    </tr>\n",
       "    <tr>\n",
       "      <td>47</td>\n",
       "      <td>2881.231934</td>\n",
       "      <td>2941.231934</td>\n",
       "      <td>2.0</td>\n",
       "      <td>208.244216</td>\n",
       "      <td>574.734927</td>\n",
       "      <td>807.972385</td>\n",
       "      <td>2308.462282</td>\n",
       "    </tr>\n",
       "    <tr>\n",
       "      <td>48</td>\n",
       "      <td>2941.231934</td>\n",
       "      <td>3001.231934</td>\n",
       "      <td>2.0</td>\n",
       "      <td>119.370572</td>\n",
       "      <td>413.519463</td>\n",
       "      <td>1012.405919</td>\n",
       "      <td>2364.036550</td>\n",
       "    </tr>\n",
       "    <tr>\n",
       "      <td>49</td>\n",
       "      <td>3001.231934</td>\n",
       "      <td>3061.231934</td>\n",
       "      <td>2.0</td>\n",
       "      <td>250.200753</td>\n",
       "      <td>674.852657</td>\n",
       "      <td>1014.912471</td>\n",
       "      <td>2635.342440</td>\n",
       "    </tr>\n",
       "    <tr>\n",
       "      <td>50</td>\n",
       "      <td>3061.231934</td>\n",
       "      <td>3121.231934</td>\n",
       "      <td>2.0</td>\n",
       "      <td>88.306056</td>\n",
       "      <td>300.050070</td>\n",
       "      <td>848.790037</td>\n",
       "      <td>2008.312297</td>\n",
       "    </tr>\n",
       "    <tr>\n",
       "      <td>51</td>\n",
       "      <td>3121.231934</td>\n",
       "      <td>3181.231934</td>\n",
       "      <td>2.0</td>\n",
       "      <td>223.072778</td>\n",
       "      <td>596.724493</td>\n",
       "      <td>740.756606</td>\n",
       "      <td>2270.182989</td>\n",
       "    </tr>\n",
       "    <tr>\n",
       "      <td>52</td>\n",
       "      <td>3181.231934</td>\n",
       "      <td>3241.231934</td>\n",
       "      <td>2.0</td>\n",
       "      <td>181.216299</td>\n",
       "      <td>501.469460</td>\n",
       "      <td>850.296704</td>\n",
       "      <td>2249.809877</td>\n",
       "    </tr>\n",
       "    <tr>\n",
       "      <td>53</td>\n",
       "      <td>3241.231934</td>\n",
       "      <td>3301.231934</td>\n",
       "      <td>2.0</td>\n",
       "      <td>175.078467</td>\n",
       "      <td>422.785987</td>\n",
       "      <td>643.546078</td>\n",
       "      <td>2041.383839</td>\n",
       "    </tr>\n",
       "    <tr>\n",
       "      <td>54</td>\n",
       "      <td>3301.231934</td>\n",
       "      <td>3361.231934</td>\n",
       "      <td>2.0</td>\n",
       "      <td>359.152817</td>\n",
       "      <td>676.769864</td>\n",
       "      <td>800.948223</td>\n",
       "      <td>2491.926715</td>\n",
       "    </tr>\n",
       "  </tbody>\n",
       "</table>\n",
       "</div>"
      ],
      "text/plain": [
       "          begin          end  label  IBI_VLF_Pow   IBI_LF_Pow   IBI_HF_Pow  \\\n",
       "0      1.231934    61.231934    1.0   206.626330   491.635495   842.109020   \n",
       "1     61.231934   121.231934    1.0   133.077345   426.699290   771.384786   \n",
       "2    121.231934   181.231934    1.0   298.725087   735.736639   743.645239   \n",
       "3    181.231934   241.231934    1.0    82.081657   381.646467   785.411620   \n",
       "4    241.231934   301.231934    1.0   121.838651   400.231975   735.589758   \n",
       "5    301.231934   361.231934    1.0   155.943627   311.345897   776.118800   \n",
       "6    361.231934   421.231934    1.0   201.574866   524.627513   824.722388   \n",
       "7    421.231934   481.231934    1.0   294.227749   727.387616   794.135862   \n",
       "8    481.231934   541.231934    1.0   172.775483   507.453017   791.952385   \n",
       "9    601.231934   661.231934    2.0   263.270625   444.188310   739.530684   \n",
       "10   661.231934   721.231934    2.0   151.132617   763.217906   920.344749   \n",
       "11   721.231934   781.231934    2.0   484.842246  1399.618864   987.917503   \n",
       "12   781.231934   841.231934    2.0   130.332368   223.797841   576.597198   \n",
       "13   841.231934   901.231934    2.0    61.750403   214.102773   567.510599   \n",
       "14   901.231934   961.231934    2.0   307.008469   669.979485   919.092134   \n",
       "15   961.231934  1021.231934    2.0   178.564270   546.399933   888.194068   \n",
       "16  1021.231934  1081.231934    2.0   689.190364   894.695257   936.016462   \n",
       "17  1081.231934  1141.231934    2.0   219.100366   502.926216   582.630177   \n",
       "18  1141.231934  1201.231934    2.0   185.873811   346.531724   452.460186   \n",
       "19  1201.231934  1261.231934    2.0   201.775153   524.192967   743.902018   \n",
       "20  1261.231934  1321.231934    2.0   235.465087   863.750696   921.211538   \n",
       "21  1321.231934  1381.231934    2.0   191.243971   755.773243  1126.409109   \n",
       "22  1381.231934  1441.231934    2.0   268.935151   727.688680   759.069528   \n",
       "23  1441.231934  1501.231934    2.0   278.487839   804.760227   822.717609   \n",
       "24  1501.231934  1561.231934    2.0   349.266882   630.556629   984.068728   \n",
       "25  1561.231934  1621.231934    2.0   419.275422   944.401170   773.885837   \n",
       "26  1621.231934  1681.231934    2.0   247.674614   799.494502   645.441017   \n",
       "27  1681.231934  1741.231934    2.0   222.693352   688.802468   895.682151   \n",
       "28  1741.231934  1801.231934    2.0   506.137056   741.646297   658.601476   \n",
       "29  1801.231934  1861.231934    2.0   299.173960   590.654024   598.853850   \n",
       "30  1861.231934  1921.231934    2.0   174.904078   587.855762   662.569781   \n",
       "31  1921.231934  1981.231934    2.0    92.057792   380.270557   802.085842   \n",
       "32  1981.231934  2041.231934    2.0   165.946349   413.545569   698.639819   \n",
       "33  2041.231934  2101.231934    2.0   345.170743   946.404540  1013.956258   \n",
       "34  2101.231934  2161.231934    2.0    62.511566   230.103828   621.659384   \n",
       "35  2161.231934  2221.231934    2.0    82.502643   324.356336   578.474032   \n",
       "36  2221.231934  2281.231934    2.0   152.245609   529.400565   899.091795   \n",
       "37  2281.231934  2341.231934    2.0   143.077634   389.309856   824.709751   \n",
       "38  2341.231934  2401.231934    2.0   356.786317   879.040402   944.380164   \n",
       "39  2401.231934  2461.231934    2.0   172.009517   442.251822   964.707630   \n",
       "40  2461.231934  2521.231934    2.0   144.900364   369.156407   750.934560   \n",
       "41  2521.231934  2581.231934    2.0   137.469872   508.999329   831.842649   \n",
       "42  2581.231934  2641.231934    2.0   105.948169   343.671208   733.067650   \n",
       "43  2641.231934  2701.231934    2.0   119.457794   386.596563   822.678013   \n",
       "44  2701.231934  2761.231934    2.0   173.688740   541.119538   818.845393   \n",
       "45  2761.231934  2821.231934    2.0   244.369717   612.201057   935.759834   \n",
       "46  2821.231934  2881.231934    2.0   383.509697  1042.461075   878.757817   \n",
       "47  2881.231934  2941.231934    2.0   208.244216   574.734927   807.972385   \n",
       "48  2941.231934  3001.231934    2.0   119.370572   413.519463  1012.405919   \n",
       "49  3001.231934  3061.231934    2.0   250.200753   674.852657  1014.912471   \n",
       "50  3061.231934  3121.231934    2.0    88.306056   300.050070   848.790037   \n",
       "51  3121.231934  3181.231934    2.0   223.072778   596.724493   740.756606   \n",
       "52  3181.231934  3241.231934    2.0   181.216299   501.469460   850.296704   \n",
       "53  3241.231934  3301.231934    2.0   175.078467   422.785987   643.546078   \n",
       "54  3301.231934  3361.231934    2.0   359.152817   676.769864   800.948223   \n",
       "\n",
       "    IBI_Total_Pow  \n",
       "0     2259.995540  \n",
       "1     2091.179090  \n",
       "2     2436.284760  \n",
       "3     1981.175781  \n",
       "4     2062.175849  \n",
       "5     2022.288084  \n",
       "6     2346.379039  \n",
       "7     2512.663912  \n",
       "8     2235.572808  \n",
       "9     2142.804003  \n",
       "10    2593.795381  \n",
       "11    3516.331815  \n",
       "12    1688.919231  \n",
       "13    1571.976589  \n",
       "14    2546.129651  \n",
       "15    2274.369517  \n",
       "16    3234.866933  \n",
       "17    1932.584569  \n",
       "18    1661.555029  \n",
       "19    2220.506852  \n",
       "20    2730.274050  \n",
       "21    2867.264376  \n",
       "22    2462.892516  \n",
       "23    2537.472720  \n",
       "24    2638.843127  \n",
       "25    2810.644028  \n",
       "26    2458.893715  \n",
       "27    2526.546072  \n",
       "28    2622.945349  \n",
       "29    2192.262140  \n",
       "30    2119.104769  \n",
       "31    2059.597349  \n",
       "32    2049.706388  \n",
       "33    3058.980299  \n",
       "34    1775.046656  \n",
       "35    1887.711338  \n",
       "36    2320.139461  \n",
       "37    2128.449943  \n",
       "38    2856.787246  \n",
       "39    2318.405531  \n",
       "40    2069.240044  \n",
       "41    2224.598420  \n",
       "42    2018.493897  \n",
       "43    2080.595922  \n",
       "44    2327.278892  \n",
       "45    2501.952203  \n",
       "46    2982.203569  \n",
       "47    2308.462282  \n",
       "48    2364.036550  \n",
       "49    2635.342440  \n",
       "50    2008.312297  \n",
       "51    2270.182989  \n",
       "52    2249.809877  \n",
       "53    2041.383839  \n",
       "54    2491.926715  "
      ]
     },
     "execution_count": 28,
     "metadata": {},
     "output_type": "execute_result"
    }
   ],
   "source": [
    "import pandas as pd\n",
    "\n",
    "# create a pandas dataframe\n",
    "FD_HRV_pp15_df = pd.DataFrame(FD_HRV_ind, columns=col_names)\n",
    "\n",
    "FD_HRV_pp15_df"
   ]
  },
  {
   "cell_type": "code",
   "execution_count": 29,
   "metadata": {},
   "outputs": [],
   "source": [
    "#save data \n",
    "FD_HRV_pp15_df.to_csv('FD_HRV_pp15.csv')"
   ]
  },
  {
   "cell_type": "code",
   "execution_count": null,
   "metadata": {},
   "outputs": [],
   "source": []
  }
 ],
 "metadata": {
  "kernelspec": {
   "display_name": "Python 3",
   "language": "python",
   "name": "python3"
  },
  "language_info": {
   "codemirror_mode": {
    "name": "ipython",
    "version": 3
   },
   "file_extension": ".py",
   "mimetype": "text/x-python",
   "name": "python",
   "nbconvert_exporter": "python",
   "pygments_lexer": "ipython3",
   "version": "3.7.4"
  }
 },
 "nbformat": 4,
 "nbformat_minor": 2
}
