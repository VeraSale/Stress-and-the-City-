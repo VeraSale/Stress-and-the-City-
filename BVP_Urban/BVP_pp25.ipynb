{
 "cells": [
  {
   "cell_type": "code",
   "execution_count": 1,
   "metadata": {},
   "outputs": [],
   "source": [
    "# import libraries\n",
    "import numpy as np\n",
    "import matplotlib.pyplot as plt\n",
    "import pandas as pd \n",
    "\n",
    "%matplotlib inline "
   ]
  },
  {
   "cell_type": "code",
   "execution_count": 2,
   "metadata": {},
   "outputs": [
    {
     "name": "stdout",
     "output_type": "stream",
     "text": [
      "Please cite:\n",
      "Bizzego et al. (2019) 'pyphysio: A physiological signal processing library for data science approaches in physiology', SoftwareX\n"
     ]
    }
   ],
   "source": [
    "# import all pyphysio classes and methods\n",
    "import pyphysio as ph"
   ]
  },
  {
   "cell_type": "code",
   "execution_count": 3,
   "metadata": {},
   "outputs": [],
   "source": [
    "# import data and creating a signal\n",
    "df_BVP = pd.read_csv('BVP_pp25.csv', header=None)\n"
   ]
  },
  {
   "cell_type": "code",
   "execution_count": 4,
   "metadata": {},
   "outputs": [
    {
     "name": "stdout",
     "output_type": "stream",
     "text": [
      "0    1048574\n",
      "dtype: int64\n"
     ]
    }
   ],
   "source": [
    "#count rows \n",
    "n_of_rows = df_BVP.count()\n",
    "print(n_of_rows)"
   ]
  },
  {
   "cell_type": "code",
   "execution_count": 5,
   "metadata": {},
   "outputs": [
    {
     "name": "stdout",
     "output_type": "stream",
     "text": [
      "218880\n"
     ]
    }
   ],
   "source": [
    "#actual recording time 57 mins = 3420s\n",
    "#3420*64=n_rows\n",
    "n_of_rows_keep = 3420*64\n",
    "print(n_of_rows_keep)"
   ]
  },
  {
   "cell_type": "code",
   "execution_count": 6,
   "metadata": {},
   "outputs": [
    {
     "name": "stdout",
     "output_type": "stream",
     "text": [
      "            0\n",
      "0        0.00\n",
      "1        0.00\n",
      "2        0.00\n",
      "3        0.00\n",
      "4        0.00\n",
      "...       ...\n",
      "218875  12.12\n",
      "218876  12.49\n",
      "218877  12.19\n",
      "218878  10.99\n",
      "218879   8.79\n",
      "\n",
      "[218880 rows x 1 columns]\n"
     ]
    }
   ],
   "source": [
    "#using pandas to drop all the rows / seconds after 3540s \n",
    "#[n_of_rows_keep:n_of_rows]\n",
    "df_BVP = df_BVP.drop(df_BVP.index[218880:1048574])\n",
    "print(df_BVP)"
   ]
  },
  {
   "cell_type": "code",
   "execution_count": 7,
   "metadata": {},
   "outputs": [
    {
     "name": "stdout",
     "output_type": "stream",
     "text": [
      "0    218880\n",
      "dtype: int64\n",
      "0    3420.0\n",
      "dtype: float64\n",
      "0    57.0\n",
      "dtype: float64\n"
     ]
    }
   ],
   "source": [
    "#count n of rows to get time of recording (s) \n",
    "n_of_rows = df_BVP.count()\n",
    "print(n_of_rows)\n",
    "#walk time in seconds \n",
    "walk_time_seconds = n_of_rows/64\n",
    "print(walk_time_seconds)\n",
    "#walk time in minutes\n",
    "walk_time_minutes = walk_time_seconds/60\n",
    "print(walk_time_minutes)\n"
   ]
  },
  {
   "cell_type": "code",
   "execution_count": 8,
   "metadata": {},
   "outputs": [],
   "source": [
    "#create BVP signal \n",
    "fsamp = 64  #64 Hz \n",
    "t_start = 0\n",
    "\n",
    "ecg = ph.EvenlySignal(values = df_BVP, sampling_freq = fsamp, signal_type = 'ecg')"
   ]
  },
  {
   "cell_type": "code",
   "execution_count": 9,
   "metadata": {},
   "outputs": [
    {
     "name": "stdout",
     "output_type": "stream",
     "text": [
      "0\n"
     ]
    }
   ],
   "source": [
    "print(ecg.get_start_time())"
   ]
  },
  {
   "cell_type": "code",
   "execution_count": 10,
   "metadata": {},
   "outputs": [
    {
     "data": {
      "text/plain": [
       "[<matplotlib.lines.Line2D at 0x10b3aa450>]"
      ]
     },
     "execution_count": 10,
     "metadata": {},
     "output_type": "execute_result"
    },
    {
     "data": {
      "image/png": "[encoded data removed]",
      "text/plain": [
       "<Figure size 432x288 with 1 Axes>"
      ]
     },
     "metadata": {
      "needs_background": "light"
     },
     "output_type": "display_data"
    }
   ],
   "source": [
    "ecg.plot()"
   ]
  },
  {
   "cell_type": "code",
   "execution_count": 11,
   "metadata": {},
   "outputs": [],
   "source": [
    "ibi = ph.BeatFromECG()(ecg)"
   ]
  },
  {
   "cell_type": "code",
   "execution_count": 12,
   "metadata": {},
   "outputs": [
    {
     "data": {
      "text/plain": [
       "3420.0"
      ]
     },
     "execution_count": 12,
     "metadata": {},
     "output_type": "execute_result"
    }
   ],
   "source": [
    "ibi.get_duration() #seconds "
   ]
  },
  {
   "cell_type": "code",
   "execution_count": 13,
   "metadata": {},
   "outputs": [],
   "source": [
    "# create label\n",
    "label = np.zeros(3420)\n",
    "label[0:600] =1\n",
    "label[600:3420] = 2\n",
    "\n",
    "label = ph.EvenlySignal(label, sampling_freq = 1, signal_type = 'label') \n",
    "#sampling_freq here is not intended as real sampfeq, only the distance between one point and the other (e.g. 10 = 10 units between 'begin' & 'end')"
   ]
  },
  {
   "cell_type": "code",
   "execution_count": 14,
   "metadata": {},
   "outputs": [],
   "source": [
    "# (optional) IIR filtering : remove high frequency noise\n",
    "#ecg = ph.IIRFilter(fp=45, fs = 50, ftype='ellip')(ecg)"
   ]
  },
  {
   "cell_type": "code",
   "execution_count": 15,
   "metadata": {},
   "outputs": [],
   "source": [
    "# normalization : normalize data\n",
    "ecg = ph.Normalize(norm_method='standard')(ecg)"
   ]
  },
  {
   "cell_type": "code",
   "execution_count": 16,
   "metadata": {},
   "outputs": [],
   "source": [
    "# resampling : increase the sampling frequency by cubic interpolation\n",
    "ecg = ecg.resample(fout=4096, kind='cubic')\n",
    "fsamp = 4096"
   ]
  },
  {
   "cell_type": "code",
   "execution_count": 17,
   "metadata": {},
   "outputs": [
    {
     "data": {
      "text/plain": [
       "[<matplotlib.lines.Line2D at 0x10b369390>]"
      ]
     },
     "execution_count": 17,
     "metadata": {},
     "output_type": "execute_result"
    },
    {
     "data": {
      "image/png": "[encoded data removed]",
      "text/plain": [
       "<Figure size 432x288 with 1 Axes>"
      ]
     },
     "metadata": {
      "needs_background": "light"
     },
     "output_type": "display_data"
    }
   ],
   "source": [
    "ecg.plot()"
   ]
  },
  {
   "cell_type": "code",
   "execution_count": 28,
   "metadata": {},
   "outputs": [],
   "source": [
    "ibi = ph.BeatFromECG()(ecg)"
   ]
  },
  {
   "cell_type": "code",
   "execution_count": 29,
   "metadata": {},
   "outputs": [
    {
     "data": {
      "text/plain": [
       "3420.0"
      ]
     },
     "execution_count": 29,
     "metadata": {},
     "output_type": "execute_result"
    }
   ],
   "source": [
    "ibi.get_duration()\n"
   ]
  },
  {
   "cell_type": "code",
   "execution_count": 30,
   "metadata": {
    "scrolled": true
   },
   "outputs": [
    {
     "data": {
      "image/png": "[encoded data removed]",
      "text/plain": [
       "<Figure size 432x288 with 2 Axes>"
      ]
     },
     "metadata": {
      "needs_background": "light"
     },
     "output_type": "display_data"
    }
   ],
   "source": [
    "# check results so far\n",
    "ax1 = plt.subplot(211)\n",
    "ecg.plot()\n",
    "plt.vlines(ibi.get_times(), np.min(ecg), np.max(ecg))\n",
    "\n",
    "plt.subplot(212, sharex = ax1)\n",
    "ibi.plot('o-')\n",
    "plt.vlines(ibi.get_times(), np.min(ibi), np.max(ibi))\n",
    "plt.show()"
   ]
  },
  {
   "cell_type": "code",
   "execution_count": 31,
   "metadata": {},
   "outputs": [],
   "source": [
    "### physiological indicators "
   ]
  },
  {
   "cell_type": "code",
   "execution_count": 32,
   "metadata": {},
   "outputs": [
    {
     "data": {
      "image/png": "[encoded data removed]",
      "text/plain": [
       "<Figure size 432x288 with 2 Axes>"
      ]
     },
     "metadata": {
      "needs_background": "light"
     },
     "output_type": "display_data"
    }
   ],
   "source": [
    "# check label\n",
    "ax1 = plt.subplot(211)\n",
    "ibi.plot('.-')\n",
    "\n",
    "plt.subplot(212, sharex = ax1)\n",
    "label.plot('.-')\n",
    "plt.show()"
   ]
  },
  {
   "cell_type": "code",
   "execution_count": 33,
   "metadata": {},
   "outputs": [],
   "source": [
    "# define a list of indicators we want to compute\n",
    "hrv_indicators = [ph.Mean(name='RRmean'), ph.StDev(name='RRstd'), ph.RMSSD(name='rmsSD')]"
   ]
  },
  {
   "cell_type": "code",
   "execution_count": 34,
   "metadata": {},
   "outputs": [],
   "source": [
    "#fixed length windowing\n",
    "fixed_length = ph.FixedSegments(step = 60, width = 60, labels = label)\n",
    "\n",
    "indicators, col_names = ph.fmap(fixed_length, hrv_indicators, ibi)"
   ]
  },
  {
   "cell_type": "code",
   "execution_count": 35,
   "metadata": {},
   "outputs": [],
   "source": [
    "# extract column with the labels for each window\n",
    "label_w = indicators[:, np.where(col_names == 'label')[0]]\n",
    "\n",
    "# extract column with the RRmean values computed from each window\n",
    "rrmean_w = indicators[:, np.where(col_names == 'RRmean')[0]]\n",
    "\n",
    "rrmean_image1 = rrmean_w[np.where(label_w==1)[0]].ravel()\n",
    "rrmean_image2 = rrmean_w[np.where(label_w==2)[0]].ravel()"
   ]
  },
  {
   "cell_type": "code",
   "execution_count": 36,
   "metadata": {},
   "outputs": [
    {
     "data": {
      "text/plain": [
       "{'whiskers': [<matplotlib.lines.Line2D at 0x1c1df73290>,\n",
       "  <matplotlib.lines.Line2D at 0x1c1df834d0>,\n",
       "  <matplotlib.lines.Line2D at 0x1c1df83f50>,\n",
       "  <matplotlib.lines.Line2D at 0x1c1df8aed0>],\n",
       " 'caps': [<matplotlib.lines.Line2D at 0x1c1df839d0>,\n",
       "  <matplotlib.lines.Line2D at 0x1c1df83ed0>,\n",
       "  <matplotlib.lines.Line2D at 0x1c1df8fd90>,\n",
       "  <matplotlib.lines.Line2D at 0x1c1df8a410>],\n",
       " 'boxes': [<matplotlib.lines.Line2D at 0x1c1df7c2d0>,\n",
       "  <matplotlib.lines.Line2D at 0x1c1df8ae10>],\n",
       " 'medians': [<matplotlib.lines.Line2D at 0x1c1df6aed0>,\n",
       "  <matplotlib.lines.Line2D at 0x1c1df9b7d0>],\n",
       " 'fliers': [<matplotlib.lines.Line2D at 0x1c1df8a950>,\n",
       "  <matplotlib.lines.Line2D at 0x1c1df9bcd0>],\n",
       " 'means': []}"
      ]
     },
     "execution_count": 36,
     "metadata": {},
     "output_type": "execute_result"
    },
    {
     "data": {
      "image/png": "[encoded data removed]",
      "text/plain": [
       "<Figure size 432x288 with 1 Axes>"
      ]
     },
     "metadata": {
      "needs_background": "light"
     },
     "output_type": "display_data"
    }
   ],
   "source": [
    "## create a box and whisker plot to compare the distibution of the RRmean indicator\n",
    "plt.boxplot([rrmean_image1, rrmean_image2],\n",
    "            labels=['First 10 Minutes', 'recording time'])"
   ]
  },
  {
   "cell_type": "code",
   "execution_count": null,
   "metadata": {},
   "outputs": [],
   "source": [
    "HRV_FD = ph.preset_hrv_fd() #frequency domain HRV indicators\n",
    "print(HRV_FD)\n",
    "\n",
    "print(HRV_FD[0].get())"
   ]
  },
  {
   "cell_type": "code",
   "execution_count": null,
   "metadata": {},
   "outputs": [],
   "source": [
    "FD_HRV_ind, col_names = ph.fmap(fixed_length, ph.preset_hrv_fd(), ibi.resample(4))"
   ]
  },
  {
   "cell_type": "code",
   "execution_count": 41,
   "metadata": {},
   "outputs": [
    {
     "data": {
      "text/html": [
       "<div>\n",
       "<style scoped>\n",
       "    .dataframe tbody tr th:only-of-type {\n",
       "        vertical-align: middle;\n",
       "    }\n",
       "\n",
       "    .dataframe tbody tr th {\n",
       "        vertical-align: top;\n",
       "    }\n",
       "\n",
       "    .dataframe thead th {\n",
       "        text-align: right;\n",
       "    }\n",
       "</style>\n",
       "<table border=\"1\" class=\"dataframe\">\n",
       "  <thead>\n",
       "    <tr style=\"text-align: right;\">\n",
       "      <th></th>\n",
       "      <th>begin</th>\n",
       "      <th>end</th>\n",
       "      <th>label</th>\n",
       "      <th>IBI_VLF_Pow</th>\n",
       "      <th>IBI_LF_Pow</th>\n",
       "      <th>IBI_HF_Pow</th>\n",
       "      <th>IBI_Total_Pow</th>\n",
       "    </tr>\n",
       "  </thead>\n",
       "  <tbody>\n",
       "    <tr>\n",
       "      <td>0</td>\n",
       "      <td>1.232666</td>\n",
       "      <td>61.232666</td>\n",
       "      <td>1.0</td>\n",
       "      <td>291.620808</td>\n",
       "      <td>686.493723</td>\n",
       "      <td>823.955587</td>\n",
       "      <td>2449.331096</td>\n",
       "    </tr>\n",
       "    <tr>\n",
       "      <td>1</td>\n",
       "      <td>61.232666</td>\n",
       "      <td>121.232666</td>\n",
       "      <td>1.0</td>\n",
       "      <td>351.652573</td>\n",
       "      <td>912.999101</td>\n",
       "      <td>767.834083</td>\n",
       "      <td>2706.081314</td>\n",
       "    </tr>\n",
       "    <tr>\n",
       "      <td>2</td>\n",
       "      <td>121.232666</td>\n",
       "      <td>181.232666</td>\n",
       "      <td>1.0</td>\n",
       "      <td>184.972007</td>\n",
       "      <td>534.563945</td>\n",
       "      <td>949.576460</td>\n",
       "      <td>2370.964757</td>\n",
       "    </tr>\n",
       "    <tr>\n",
       "      <td>3</td>\n",
       "      <td>181.232666</td>\n",
       "      <td>241.232666</td>\n",
       "      <td>1.0</td>\n",
       "      <td>224.289673</td>\n",
       "      <td>594.966041</td>\n",
       "      <td>840.715609</td>\n",
       "      <td>2426.202868</td>\n",
       "    </tr>\n",
       "    <tr>\n",
       "      <td>4</td>\n",
       "      <td>241.232666</td>\n",
       "      <td>301.232666</td>\n",
       "      <td>1.0</td>\n",
       "      <td>411.024072</td>\n",
       "      <td>781.963391</td>\n",
       "      <td>998.731495</td>\n",
       "      <td>2866.758203</td>\n",
       "    </tr>\n",
       "    <tr>\n",
       "      <td>5</td>\n",
       "      <td>301.232666</td>\n",
       "      <td>361.232666</td>\n",
       "      <td>1.0</td>\n",
       "      <td>211.928467</td>\n",
       "      <td>597.607113</td>\n",
       "      <td>708.929580</td>\n",
       "      <td>2284.529184</td>\n",
       "    </tr>\n",
       "    <tr>\n",
       "      <td>6</td>\n",
       "      <td>361.232666</td>\n",
       "      <td>421.232666</td>\n",
       "      <td>1.0</td>\n",
       "      <td>158.248513</td>\n",
       "      <td>410.523458</td>\n",
       "      <td>810.132061</td>\n",
       "      <td>2130.612320</td>\n",
       "    </tr>\n",
       "    <tr>\n",
       "      <td>7</td>\n",
       "      <td>421.232666</td>\n",
       "      <td>481.232666</td>\n",
       "      <td>1.0</td>\n",
       "      <td>309.051221</td>\n",
       "      <td>632.212128</td>\n",
       "      <td>822.355090</td>\n",
       "      <td>2453.244798</td>\n",
       "    </tr>\n",
       "    <tr>\n",
       "      <td>8</td>\n",
       "      <td>481.232666</td>\n",
       "      <td>541.232666</td>\n",
       "      <td>1.0</td>\n",
       "      <td>114.454117</td>\n",
       "      <td>346.923822</td>\n",
       "      <td>574.298221</td>\n",
       "      <td>1678.395130</td>\n",
       "    </tr>\n",
       "    <tr>\n",
       "      <td>9</td>\n",
       "      <td>601.232666</td>\n",
       "      <td>661.232666</td>\n",
       "      <td>2.0</td>\n",
       "      <td>236.692940</td>\n",
       "      <td>663.148721</td>\n",
       "      <td>811.792947</td>\n",
       "      <td>2340.203351</td>\n",
       "    </tr>\n",
       "    <tr>\n",
       "      <td>10</td>\n",
       "      <td>661.232666</td>\n",
       "      <td>721.232666</td>\n",
       "      <td>2.0</td>\n",
       "      <td>115.003469</td>\n",
       "      <td>404.366886</td>\n",
       "      <td>739.320537</td>\n",
       "      <td>1964.212250</td>\n",
       "    </tr>\n",
       "    <tr>\n",
       "      <td>11</td>\n",
       "      <td>721.232666</td>\n",
       "      <td>781.232666</td>\n",
       "      <td>2.0</td>\n",
       "      <td>182.797946</td>\n",
       "      <td>378.169597</td>\n",
       "      <td>612.485253</td>\n",
       "      <td>1966.517211</td>\n",
       "    </tr>\n",
       "    <tr>\n",
       "      <td>12</td>\n",
       "      <td>781.232666</td>\n",
       "      <td>841.232666</td>\n",
       "      <td>2.0</td>\n",
       "      <td>336.558729</td>\n",
       "      <td>637.788294</td>\n",
       "      <td>544.170856</td>\n",
       "      <td>2182.872101</td>\n",
       "    </tr>\n",
       "    <tr>\n",
       "      <td>13</td>\n",
       "      <td>841.232666</td>\n",
       "      <td>901.232666</td>\n",
       "      <td>2.0</td>\n",
       "      <td>278.544864</td>\n",
       "      <td>886.841390</td>\n",
       "      <td>745.960483</td>\n",
       "      <td>2557.680189</td>\n",
       "    </tr>\n",
       "    <tr>\n",
       "      <td>14</td>\n",
       "      <td>901.232666</td>\n",
       "      <td>961.232666</td>\n",
       "      <td>2.0</td>\n",
       "      <td>620.837232</td>\n",
       "      <td>874.076554</td>\n",
       "      <td>765.948820</td>\n",
       "      <td>2892.504249</td>\n",
       "    </tr>\n",
       "    <tr>\n",
       "      <td>15</td>\n",
       "      <td>961.232666</td>\n",
       "      <td>1021.232666</td>\n",
       "      <td>2.0</td>\n",
       "      <td>184.691335</td>\n",
       "      <td>574.200335</td>\n",
       "      <td>928.727765</td>\n",
       "      <td>2399.513804</td>\n",
       "    </tr>\n",
       "    <tr>\n",
       "      <td>16</td>\n",
       "      <td>1021.232666</td>\n",
       "      <td>1081.232666</td>\n",
       "      <td>2.0</td>\n",
       "      <td>338.411779</td>\n",
       "      <td>687.059208</td>\n",
       "      <td>873.207169</td>\n",
       "      <td>2508.647495</td>\n",
       "    </tr>\n",
       "    <tr>\n",
       "      <td>17</td>\n",
       "      <td>1081.232666</td>\n",
       "      <td>1141.232666</td>\n",
       "      <td>2.0</td>\n",
       "      <td>98.483278</td>\n",
       "      <td>388.501275</td>\n",
       "      <td>834.225441</td>\n",
       "      <td>2044.059423</td>\n",
       "    </tr>\n",
       "    <tr>\n",
       "      <td>18</td>\n",
       "      <td>1141.232666</td>\n",
       "      <td>1201.232666</td>\n",
       "      <td>2.0</td>\n",
       "      <td>106.017990</td>\n",
       "      <td>326.850907</td>\n",
       "      <td>556.279183</td>\n",
       "      <td>1725.645252</td>\n",
       "    </tr>\n",
       "    <tr>\n",
       "      <td>19</td>\n",
       "      <td>1201.232666</td>\n",
       "      <td>1261.232666</td>\n",
       "      <td>2.0</td>\n",
       "      <td>288.211224</td>\n",
       "      <td>800.313956</td>\n",
       "      <td>924.624686</td>\n",
       "      <td>2673.727213</td>\n",
       "    </tr>\n",
       "    <tr>\n",
       "      <td>20</td>\n",
       "      <td>1261.232666</td>\n",
       "      <td>1321.232666</td>\n",
       "      <td>2.0</td>\n",
       "      <td>183.739326</td>\n",
       "      <td>585.097268</td>\n",
       "      <td>705.029005</td>\n",
       "      <td>2113.327512</td>\n",
       "    </tr>\n",
       "    <tr>\n",
       "      <td>21</td>\n",
       "      <td>1321.232666</td>\n",
       "      <td>1381.232666</td>\n",
       "      <td>2.0</td>\n",
       "      <td>185.928048</td>\n",
       "      <td>481.389330</td>\n",
       "      <td>783.035817</td>\n",
       "      <td>2164.773037</td>\n",
       "    </tr>\n",
       "    <tr>\n",
       "      <td>22</td>\n",
       "      <td>1381.232666</td>\n",
       "      <td>1441.232666</td>\n",
       "      <td>2.0</td>\n",
       "      <td>276.217358</td>\n",
       "      <td>560.704132</td>\n",
       "      <td>712.621421</td>\n",
       "      <td>2271.514610</td>\n",
       "    </tr>\n",
       "    <tr>\n",
       "      <td>23</td>\n",
       "      <td>1441.232666</td>\n",
       "      <td>1501.232666</td>\n",
       "      <td>2.0</td>\n",
       "      <td>337.836075</td>\n",
       "      <td>526.581317</td>\n",
       "      <td>710.740077</td>\n",
       "      <td>2314.309496</td>\n",
       "    </tr>\n",
       "    <tr>\n",
       "      <td>24</td>\n",
       "      <td>1501.232666</td>\n",
       "      <td>1561.232666</td>\n",
       "      <td>2.0</td>\n",
       "      <td>306.649417</td>\n",
       "      <td>809.918844</td>\n",
       "      <td>713.670838</td>\n",
       "      <td>2502.316380</td>\n",
       "    </tr>\n",
       "    <tr>\n",
       "      <td>25</td>\n",
       "      <td>1561.232666</td>\n",
       "      <td>1621.232666</td>\n",
       "      <td>2.0</td>\n",
       "      <td>425.817132</td>\n",
       "      <td>1310.751295</td>\n",
       "      <td>725.244128</td>\n",
       "      <td>3129.869886</td>\n",
       "    </tr>\n",
       "    <tr>\n",
       "      <td>26</td>\n",
       "      <td>1621.232666</td>\n",
       "      <td>1681.232666</td>\n",
       "      <td>2.0</td>\n",
       "      <td>323.163172</td>\n",
       "      <td>789.704105</td>\n",
       "      <td>624.310104</td>\n",
       "      <td>2444.911631</td>\n",
       "    </tr>\n",
       "    <tr>\n",
       "      <td>27</td>\n",
       "      <td>1681.232666</td>\n",
       "      <td>1741.232666</td>\n",
       "      <td>2.0</td>\n",
       "      <td>241.638670</td>\n",
       "      <td>545.910522</td>\n",
       "      <td>614.420723</td>\n",
       "      <td>2086.758949</td>\n",
       "    </tr>\n",
       "    <tr>\n",
       "      <td>28</td>\n",
       "      <td>1741.232666</td>\n",
       "      <td>1801.232666</td>\n",
       "      <td>2.0</td>\n",
       "      <td>283.776368</td>\n",
       "      <td>583.830435</td>\n",
       "      <td>964.449892</td>\n",
       "      <td>2590.586963</td>\n",
       "    </tr>\n",
       "    <tr>\n",
       "      <td>29</td>\n",
       "      <td>1801.232666</td>\n",
       "      <td>1861.232666</td>\n",
       "      <td>2.0</td>\n",
       "      <td>423.240652</td>\n",
       "      <td>1008.109068</td>\n",
       "      <td>1181.309474</td>\n",
       "      <td>3274.831692</td>\n",
       "    </tr>\n",
       "    <tr>\n",
       "      <td>30</td>\n",
       "      <td>1861.232666</td>\n",
       "      <td>1921.232666</td>\n",
       "      <td>2.0</td>\n",
       "      <td>297.612999</td>\n",
       "      <td>582.554965</td>\n",
       "      <td>789.780196</td>\n",
       "      <td>2391.834581</td>\n",
       "    </tr>\n",
       "    <tr>\n",
       "      <td>31</td>\n",
       "      <td>1921.232666</td>\n",
       "      <td>1981.232666</td>\n",
       "      <td>2.0</td>\n",
       "      <td>173.362040</td>\n",
       "      <td>642.364434</td>\n",
       "      <td>1001.386297</td>\n",
       "      <td>2503.851584</td>\n",
       "    </tr>\n",
       "    <tr>\n",
       "      <td>32</td>\n",
       "      <td>1981.232666</td>\n",
       "      <td>2041.232666</td>\n",
       "      <td>2.0</td>\n",
       "      <td>191.122378</td>\n",
       "      <td>445.163842</td>\n",
       "      <td>817.043928</td>\n",
       "      <td>2100.152787</td>\n",
       "    </tr>\n",
       "    <tr>\n",
       "      <td>33</td>\n",
       "      <td>2041.232666</td>\n",
       "      <td>2101.232666</td>\n",
       "      <td>2.0</td>\n",
       "      <td>384.863137</td>\n",
       "      <td>821.246176</td>\n",
       "      <td>1009.736624</td>\n",
       "      <td>2810.309814</td>\n",
       "    </tr>\n",
       "    <tr>\n",
       "      <td>34</td>\n",
       "      <td>2101.232666</td>\n",
       "      <td>2161.232666</td>\n",
       "      <td>2.0</td>\n",
       "      <td>371.431754</td>\n",
       "      <td>1142.513473</td>\n",
       "      <td>1363.400273</td>\n",
       "      <td>3503.434705</td>\n",
       "    </tr>\n",
       "    <tr>\n",
       "      <td>35</td>\n",
       "      <td>2161.232666</td>\n",
       "      <td>2221.232666</td>\n",
       "      <td>2.0</td>\n",
       "      <td>291.618218</td>\n",
       "      <td>802.363873</td>\n",
       "      <td>1355.114498</td>\n",
       "      <td>3104.429567</td>\n",
       "    </tr>\n",
       "    <tr>\n",
       "      <td>36</td>\n",
       "      <td>2221.232666</td>\n",
       "      <td>2281.232666</td>\n",
       "      <td>2.0</td>\n",
       "      <td>277.528583</td>\n",
       "      <td>859.476096</td>\n",
       "      <td>1019.238986</td>\n",
       "      <td>2776.731022</td>\n",
       "    </tr>\n",
       "    <tr>\n",
       "      <td>37</td>\n",
       "      <td>2281.232666</td>\n",
       "      <td>2341.232666</td>\n",
       "      <td>2.0</td>\n",
       "      <td>312.817984</td>\n",
       "      <td>752.386021</td>\n",
       "      <td>963.271480</td>\n",
       "      <td>2659.713854</td>\n",
       "    </tr>\n",
       "    <tr>\n",
       "      <td>38</td>\n",
       "      <td>2341.232666</td>\n",
       "      <td>2401.232666</td>\n",
       "      <td>2.0</td>\n",
       "      <td>244.094808</td>\n",
       "      <td>766.061179</td>\n",
       "      <td>1122.431256</td>\n",
       "      <td>2829.850497</td>\n",
       "    </tr>\n",
       "    <tr>\n",
       "      <td>39</td>\n",
       "      <td>2401.232666</td>\n",
       "      <td>2461.232666</td>\n",
       "      <td>2.0</td>\n",
       "      <td>291.583881</td>\n",
       "      <td>771.572558</td>\n",
       "      <td>1218.022363</td>\n",
       "      <td>2965.692643</td>\n",
       "    </tr>\n",
       "    <tr>\n",
       "      <td>40</td>\n",
       "      <td>2461.232666</td>\n",
       "      <td>2521.232666</td>\n",
       "      <td>2.0</td>\n",
       "      <td>163.407667</td>\n",
       "      <td>553.459040</td>\n",
       "      <td>840.362774</td>\n",
       "      <td>2300.175041</td>\n",
       "    </tr>\n",
       "    <tr>\n",
       "      <td>41</td>\n",
       "      <td>2521.232666</td>\n",
       "      <td>2581.232666</td>\n",
       "      <td>2.0</td>\n",
       "      <td>136.127266</td>\n",
       "      <td>409.360035</td>\n",
       "      <td>898.180662</td>\n",
       "      <td>2140.990621</td>\n",
       "    </tr>\n",
       "    <tr>\n",
       "      <td>42</td>\n",
       "      <td>2581.232666</td>\n",
       "      <td>2641.232666</td>\n",
       "      <td>2.0</td>\n",
       "      <td>262.062351</td>\n",
       "      <td>799.505579</td>\n",
       "      <td>1310.381912</td>\n",
       "      <td>3108.750660</td>\n",
       "    </tr>\n",
       "    <tr>\n",
       "      <td>43</td>\n",
       "      <td>2641.232666</td>\n",
       "      <td>2701.232666</td>\n",
       "      <td>2.0</td>\n",
       "      <td>656.633335</td>\n",
       "      <td>1383.805719</td>\n",
       "      <td>755.659005</td>\n",
       "      <td>3360.328162</td>\n",
       "    </tr>\n",
       "    <tr>\n",
       "      <td>44</td>\n",
       "      <td>2701.232666</td>\n",
       "      <td>2761.232666</td>\n",
       "      <td>2.0</td>\n",
       "      <td>197.721348</td>\n",
       "      <td>440.562452</td>\n",
       "      <td>734.306599</td>\n",
       "      <td>2093.888433</td>\n",
       "    </tr>\n",
       "    <tr>\n",
       "      <td>45</td>\n",
       "      <td>2761.232666</td>\n",
       "      <td>2821.232666</td>\n",
       "      <td>2.0</td>\n",
       "      <td>93.725756</td>\n",
       "      <td>340.577538</td>\n",
       "      <td>793.111395</td>\n",
       "      <td>1975.844116</td>\n",
       "    </tr>\n",
       "    <tr>\n",
       "      <td>46</td>\n",
       "      <td>2821.232666</td>\n",
       "      <td>2881.232666</td>\n",
       "      <td>2.0</td>\n",
       "      <td>286.251846</td>\n",
       "      <td>817.897958</td>\n",
       "      <td>1023.469417</td>\n",
       "      <td>2842.713794</td>\n",
       "    </tr>\n",
       "    <tr>\n",
       "      <td>47</td>\n",
       "      <td>2881.232666</td>\n",
       "      <td>2941.232666</td>\n",
       "      <td>2.0</td>\n",
       "      <td>577.946625</td>\n",
       "      <td>750.121508</td>\n",
       "      <td>977.225835</td>\n",
       "      <td>2962.637602</td>\n",
       "    </tr>\n",
       "    <tr>\n",
       "      <td>48</td>\n",
       "      <td>2941.232666</td>\n",
       "      <td>3001.232666</td>\n",
       "      <td>2.0</td>\n",
       "      <td>418.989356</td>\n",
       "      <td>857.480766</td>\n",
       "      <td>825.970969</td>\n",
       "      <td>2714.358338</td>\n",
       "    </tr>\n",
       "    <tr>\n",
       "      <td>49</td>\n",
       "      <td>3001.232666</td>\n",
       "      <td>3061.232666</td>\n",
       "      <td>2.0</td>\n",
       "      <td>91.988052</td>\n",
       "      <td>326.333591</td>\n",
       "      <td>873.121401</td>\n",
       "      <td>2127.281109</td>\n",
       "    </tr>\n",
       "    <tr>\n",
       "      <td>50</td>\n",
       "      <td>3061.232666</td>\n",
       "      <td>3121.232666</td>\n",
       "      <td>2.0</td>\n",
       "      <td>364.412790</td>\n",
       "      <td>651.286714</td>\n",
       "      <td>953.841097</td>\n",
       "      <td>2664.541829</td>\n",
       "    </tr>\n",
       "    <tr>\n",
       "      <td>51</td>\n",
       "      <td>3121.232666</td>\n",
       "      <td>3181.232666</td>\n",
       "      <td>2.0</td>\n",
       "      <td>198.745864</td>\n",
       "      <td>567.126848</td>\n",
       "      <td>932.051538</td>\n",
       "      <td>2380.174426</td>\n",
       "    </tr>\n",
       "    <tr>\n",
       "      <td>52</td>\n",
       "      <td>3181.232666</td>\n",
       "      <td>3241.232666</td>\n",
       "      <td>2.0</td>\n",
       "      <td>200.432762</td>\n",
       "      <td>556.418814</td>\n",
       "      <td>890.925824</td>\n",
       "      <td>2318.659817</td>\n",
       "    </tr>\n",
       "    <tr>\n",
       "      <td>53</td>\n",
       "      <td>3241.232666</td>\n",
       "      <td>3301.232666</td>\n",
       "      <td>2.0</td>\n",
       "      <td>157.589280</td>\n",
       "      <td>267.263649</td>\n",
       "      <td>569.733744</td>\n",
       "      <td>1710.704852</td>\n",
       "    </tr>\n",
       "    <tr>\n",
       "      <td>54</td>\n",
       "      <td>3301.232666</td>\n",
       "      <td>3361.232666</td>\n",
       "      <td>2.0</td>\n",
       "      <td>345.604290</td>\n",
       "      <td>796.682111</td>\n",
       "      <td>657.889830</td>\n",
       "      <td>2451.195478</td>\n",
       "    </tr>\n",
       "  </tbody>\n",
       "</table>\n",
       "</div>"
      ],
      "text/plain": [
       "          begin          end  label  IBI_VLF_Pow   IBI_LF_Pow   IBI_HF_Pow  \\\n",
       "0      1.232666    61.232666    1.0   291.620808   686.493723   823.955587   \n",
       "1     61.232666   121.232666    1.0   351.652573   912.999101   767.834083   \n",
       "2    121.232666   181.232666    1.0   184.972007   534.563945   949.576460   \n",
       "3    181.232666   241.232666    1.0   224.289673   594.966041   840.715609   \n",
       "4    241.232666   301.232666    1.0   411.024072   781.963391   998.731495   \n",
       "5    301.232666   361.232666    1.0   211.928467   597.607113   708.929580   \n",
       "6    361.232666   421.232666    1.0   158.248513   410.523458   810.132061   \n",
       "7    421.232666   481.232666    1.0   309.051221   632.212128   822.355090   \n",
       "8    481.232666   541.232666    1.0   114.454117   346.923822   574.298221   \n",
       "9    601.232666   661.232666    2.0   236.692940   663.148721   811.792947   \n",
       "10   661.232666   721.232666    2.0   115.003469   404.366886   739.320537   \n",
       "11   721.232666   781.232666    2.0   182.797946   378.169597   612.485253   \n",
       "12   781.232666   841.232666    2.0   336.558729   637.788294   544.170856   \n",
       "13   841.232666   901.232666    2.0   278.544864   886.841390   745.960483   \n",
       "14   901.232666   961.232666    2.0   620.837232   874.076554   765.948820   \n",
       "15   961.232666  1021.232666    2.0   184.691335   574.200335   928.727765   \n",
       "16  1021.232666  1081.232666    2.0   338.411779   687.059208   873.207169   \n",
       "17  1081.232666  1141.232666    2.0    98.483278   388.501275   834.225441   \n",
       "18  1141.232666  1201.232666    2.0   106.017990   326.850907   556.279183   \n",
       "19  1201.232666  1261.232666    2.0   288.211224   800.313956   924.624686   \n",
       "20  1261.232666  1321.232666    2.0   183.739326   585.097268   705.029005   \n",
       "21  1321.232666  1381.232666    2.0   185.928048   481.389330   783.035817   \n",
       "22  1381.232666  1441.232666    2.0   276.217358   560.704132   712.621421   \n",
       "23  1441.232666  1501.232666    2.0   337.836075   526.581317   710.740077   \n",
       "24  1501.232666  1561.232666    2.0   306.649417   809.918844   713.670838   \n",
       "25  1561.232666  1621.232666    2.0   425.817132  1310.751295   725.244128   \n",
       "26  1621.232666  1681.232666    2.0   323.163172   789.704105   624.310104   \n",
       "27  1681.232666  1741.232666    2.0   241.638670   545.910522   614.420723   \n",
       "28  1741.232666  1801.232666    2.0   283.776368   583.830435   964.449892   \n",
       "29  1801.232666  1861.232666    2.0   423.240652  1008.109068  1181.309474   \n",
       "30  1861.232666  1921.232666    2.0   297.612999   582.554965   789.780196   \n",
       "31  1921.232666  1981.232666    2.0   173.362040   642.364434  1001.386297   \n",
       "32  1981.232666  2041.232666    2.0   191.122378   445.163842   817.043928   \n",
       "33  2041.232666  2101.232666    2.0   384.863137   821.246176  1009.736624   \n",
       "34  2101.232666  2161.232666    2.0   371.431754  1142.513473  1363.400273   \n",
       "35  2161.232666  2221.232666    2.0   291.618218   802.363873  1355.114498   \n",
       "36  2221.232666  2281.232666    2.0   277.528583   859.476096  1019.238986   \n",
       "37  2281.232666  2341.232666    2.0   312.817984   752.386021   963.271480   \n",
       "38  2341.232666  2401.232666    2.0   244.094808   766.061179  1122.431256   \n",
       "39  2401.232666  2461.232666    2.0   291.583881   771.572558  1218.022363   \n",
       "40  2461.232666  2521.232666    2.0   163.407667   553.459040   840.362774   \n",
       "41  2521.232666  2581.232666    2.0   136.127266   409.360035   898.180662   \n",
       "42  2581.232666  2641.232666    2.0   262.062351   799.505579  1310.381912   \n",
       "43  2641.232666  2701.232666    2.0   656.633335  1383.805719   755.659005   \n",
       "44  2701.232666  2761.232666    2.0   197.721348   440.562452   734.306599   \n",
       "45  2761.232666  2821.232666    2.0    93.725756   340.577538   793.111395   \n",
       "46  2821.232666  2881.232666    2.0   286.251846   817.897958  1023.469417   \n",
       "47  2881.232666  2941.232666    2.0   577.946625   750.121508   977.225835   \n",
       "48  2941.232666  3001.232666    2.0   418.989356   857.480766   825.970969   \n",
       "49  3001.232666  3061.232666    2.0    91.988052   326.333591   873.121401   \n",
       "50  3061.232666  3121.232666    2.0   364.412790   651.286714   953.841097   \n",
       "51  3121.232666  3181.232666    2.0   198.745864   567.126848   932.051538   \n",
       "52  3181.232666  3241.232666    2.0   200.432762   556.418814   890.925824   \n",
       "53  3241.232666  3301.232666    2.0   157.589280   267.263649   569.733744   \n",
       "54  3301.232666  3361.232666    2.0   345.604290   796.682111   657.889830   \n",
       "\n",
       "    IBI_Total_Pow  \n",
       "0     2449.331096  \n",
       "1     2706.081314  \n",
       "2     2370.964757  \n",
       "3     2426.202868  \n",
       "4     2866.758203  \n",
       "5     2284.529184  \n",
       "6     2130.612320  \n",
       "7     2453.244798  \n",
       "8     1678.395130  \n",
       "9     2340.203351  \n",
       "10    1964.212250  \n",
       "11    1966.517211  \n",
       "12    2182.872101  \n",
       "13    2557.680189  \n",
       "14    2892.504249  \n",
       "15    2399.513804  \n",
       "16    2508.647495  \n",
       "17    2044.059423  \n",
       "18    1725.645252  \n",
       "19    2673.727213  \n",
       "20    2113.327512  \n",
       "21    2164.773037  \n",
       "22    2271.514610  \n",
       "23    2314.309496  \n",
       "24    2502.316380  \n",
       "25    3129.869886  \n",
       "26    2444.911631  \n",
       "27    2086.758949  \n",
       "28    2590.586963  \n",
       "29    3274.831692  \n",
       "30    2391.834581  \n",
       "31    2503.851584  \n",
       "32    2100.152787  \n",
       "33    2810.309814  \n",
       "34    3503.434705  \n",
       "35    3104.429567  \n",
       "36    2776.731022  \n",
       "37    2659.713854  \n",
       "38    2829.850497  \n",
       "39    2965.692643  \n",
       "40    2300.175041  \n",
       "41    2140.990621  \n",
       "42    3108.750660  \n",
       "43    3360.328162  \n",
       "44    2093.888433  \n",
       "45    1975.844116  \n",
       "46    2842.713794  \n",
       "47    2962.637602  \n",
       "48    2714.358338  \n",
       "49    2127.281109  \n",
       "50    2664.541829  \n",
       "51    2380.174426  \n",
       "52    2318.659817  \n",
       "53    1710.704852  \n",
       "54    2451.195478  "
      ]
     },
     "execution_count": 41,
     "metadata": {},
     "output_type": "execute_result"
    }
   ],
   "source": [
    "import pandas as pd\n",
    "\n",
    "# create a pandas dataframe\n",
    "FD_HRV_pp25_df = pd.DataFrame(FD_HRV_ind, columns=col_names)\n",
    "\n",
    "FD_HRV_pp25_df"
   ]
  },
  {
   "cell_type": "code",
   "execution_count": 42,
   "metadata": {},
   "outputs": [],
   "source": [
    "#save data \n",
    "FD_HRV_pp25_df.to_csv('FD_HRV_pp25.csv')"
   ]
  },
  {
   "cell_type": "code",
   "execution_count": null,
   "metadata": {},
   "outputs": [],
   "source": []
  }
 ],
 "metadata": {
  "kernelspec": {
   "display_name": "Python 3",
   "language": "python",
   "name": "python3"
  },
  "language_info": {
   "codemirror_mode": {
    "name": "ipython",
    "version": 3
   },
   "file_extension": ".py",
   "mimetype": "text/x-python",
   "name": "python",
   "nbconvert_exporter": "python",
   "pygments_lexer": "ipython3",
   "version": "3.7.4"
  }
 },
 "nbformat": 4,
 "nbformat_minor": 2
}
