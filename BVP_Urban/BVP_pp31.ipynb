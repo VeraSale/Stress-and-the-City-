{
 "cells": [
  {
   "cell_type": "code",
   "execution_count": 1,
   "metadata": {},
   "outputs": [],
   "source": [
    "# import libraries\n",
    "import numpy as np\n",
    "import matplotlib.pyplot as plt\n",
    "import pandas as pd \n",
    "\n",
    "%matplotlib inline "
   ]
  },
  {
   "cell_type": "code",
   "execution_count": 2,
   "metadata": {},
   "outputs": [
    {
     "name": "stdout",
     "output_type": "stream",
     "text": [
      "Please cite:\n",
      "Bizzego et al. (2019) 'pyphysio: A physiological signal processing library for data science approaches in physiology', SoftwareX\n"
     ]
    }
   ],
   "source": [
    "# import all pyphysio classes and methods\n",
    "import pyphysio as ph"
   ]
  },
  {
   "cell_type": "code",
   "execution_count": 3,
   "metadata": {},
   "outputs": [],
   "source": [
    "# import data and creating a signal\n",
    "df_BVP = pd.read_csv('BVP_pp31.csv', header=None)\n"
   ]
  },
  {
   "cell_type": "code",
   "execution_count": 4,
   "metadata": {},
   "outputs": [
    {
     "name": "stdout",
     "output_type": "stream",
     "text": [
      "0    212707\n",
      "dtype: int64\n"
     ]
    }
   ],
   "source": [
    "#count rows \n",
    "n_of_rows = df_BVP.count()\n",
    "print(n_of_rows)"
   ]
  },
  {
   "cell_type": "code",
   "execution_count": 5,
   "metadata": {},
   "outputs": [
    {
     "name": "stdout",
     "output_type": "stream",
     "text": [
      "0    212707\n",
      "dtype: int64\n",
      "0    3323.546875\n",
      "dtype: float64\n",
      "0    55.392448\n",
      "dtype: float64\n"
     ]
    }
   ],
   "source": [
    "#count n of rows to get time of recording (s) \n",
    "n_of_rows = df_BVP.count()\n",
    "print(n_of_rows)\n",
    "#walk time in seconds \n",
    "walk_time_seconds = n_of_rows/64\n",
    "print(walk_time_seconds)\n",
    "#walk time in minutes\n",
    "walk_time_minutes = walk_time_seconds/60\n",
    "print(walk_time_minutes)\n"
   ]
  },
  {
   "cell_type": "code",
   "execution_count": 6,
   "metadata": {},
   "outputs": [],
   "source": [
    "#create BVP signal \n",
    "fsamp = 64  #64 Hz \n",
    "t_start = 0\n",
    "\n",
    "ecg = ph.EvenlySignal(values = df_BVP, sampling_freq = fsamp, signal_type = 'ecg')"
   ]
  },
  {
   "cell_type": "code",
   "execution_count": 7,
   "metadata": {},
   "outputs": [
    {
     "name": "stdout",
     "output_type": "stream",
     "text": [
      "0\n"
     ]
    }
   ],
   "source": [
    "print(ecg.get_start_time())"
   ]
  },
  {
   "cell_type": "code",
   "execution_count": 8,
   "metadata": {},
   "outputs": [
    {
     "data": {
      "text/plain": [
       "[<matplotlib.lines.Line2D at 0x1c1a1484d0>]"
      ]
     },
     "execution_count": 8,
     "metadata": {},
     "output_type": "execute_result"
    },
    {
     "data": {
      "image/png": "[encoded data removed]",
      "text/plain": [
       "<Figure size 432x288 with 1 Axes>"
      ]
     },
     "metadata": {
      "needs_background": "light"
     },
     "output_type": "display_data"
    }
   ],
   "source": [
    "ecg.plot()"
   ]
  },
  {
   "cell_type": "code",
   "execution_count": 9,
   "metadata": {},
   "outputs": [],
   "source": [
    "ibi = ph.BeatFromECG()(ecg)"
   ]
  },
  {
   "cell_type": "code",
   "execution_count": 10,
   "metadata": {},
   "outputs": [
    {
     "data": {
      "text/plain": [
       "3323.546875"
      ]
     },
     "execution_count": 10,
     "metadata": {},
     "output_type": "execute_result"
    }
   ],
   "source": [
    "ibi.get_duration() #seconds "
   ]
  },
  {
   "cell_type": "code",
   "execution_count": 11,
   "metadata": {},
   "outputs": [],
   "source": [
    "# create label\n",
    "label = np.zeros(3323)\n",
    "label[0:600] =1\n",
    "label[600:3323] = 2\n",
    "\n",
    "label = ph.EvenlySignal(label, sampling_freq = 1, signal_type = 'label') \n",
    "#sampling_freq here is not intended as real sampfeq, only the distance between one point and the other (e.g. 10 = 10 units between 'begin' & 'end')"
   ]
  },
  {
   "cell_type": "code",
   "execution_count": 12,
   "metadata": {},
   "outputs": [],
   "source": [
    "# (optional) IIR filtering : remove high frequency noise\n",
    "#ecg = ph.IIRFilter(fp=45, fs = 50, ftype='ellip')(ecg)"
   ]
  },
  {
   "cell_type": "code",
   "execution_count": 13,
   "metadata": {},
   "outputs": [],
   "source": [
    "# normalization : normalize data\n",
    "ecg = ph.Normalize(norm_method='standard')(ecg)"
   ]
  },
  {
   "cell_type": "code",
   "execution_count": 14,
   "metadata": {},
   "outputs": [],
   "source": [
    "# resampling : increase the sampling frequency by cubic interpolation\n",
    "ecg = ecg.resample(fout=4096, kind='cubic')\n",
    "fsamp = 4096"
   ]
  },
  {
   "cell_type": "code",
   "execution_count": 15,
   "metadata": {},
   "outputs": [
    {
     "data": {
      "text/plain": [
       "[<matplotlib.lines.Line2D at 0x1c1a266b90>]"
      ]
     },
     "execution_count": 15,
     "metadata": {},
     "output_type": "execute_result"
    },
    {
     "data": {
      "image/png": "[encoded data removed]",
      "text/plain": [
       "<Figure size 432x288 with 1 Axes>"
      ]
     },
     "metadata": {
      "needs_background": "light"
     },
     "output_type": "display_data"
    }
   ],
   "source": [
    "ecg.plot()"
   ]
  },
  {
   "cell_type": "code",
   "execution_count": 16,
   "metadata": {},
   "outputs": [],
   "source": [
    "ibi = ph.BeatFromECG()(ecg)"
   ]
  },
  {
   "cell_type": "code",
   "execution_count": 17,
   "metadata": {},
   "outputs": [
    {
     "data": {
      "text/plain": [
       "3323.546875"
      ]
     },
     "execution_count": 17,
     "metadata": {},
     "output_type": "execute_result"
    }
   ],
   "source": [
    "ibi.get_duration()\n"
   ]
  },
  {
   "cell_type": "code",
   "execution_count": 18,
   "metadata": {
    "scrolled": true
   },
   "outputs": [
    {
     "data": {
      "image/png": "[encoded data removed]",
      "text/plain": [
       "<Figure size 432x288 with 2 Axes>"
      ]
     },
     "metadata": {
      "needs_background": "light"
     },
     "output_type": "display_data"
    }
   ],
   "source": [
    "# check results so far\n",
    "ax1 = plt.subplot(211)\n",
    "ecg.plot()\n",
    "plt.vlines(ibi.get_times(), np.min(ecg), np.max(ecg))\n",
    "\n",
    "plt.subplot(212, sharex = ax1)\n",
    "ibi.plot('o-')\n",
    "plt.vlines(ibi.get_times(), np.min(ibi), np.max(ibi))\n",
    "plt.show()"
   ]
  },
  {
   "cell_type": "code",
   "execution_count": 19,
   "metadata": {},
   "outputs": [],
   "source": [
    "### physiological indicators "
   ]
  },
  {
   "cell_type": "code",
   "execution_count": 20,
   "metadata": {},
   "outputs": [
    {
     "data": {
      "image/png": "[encoded data removed]",
      "text/plain": [
       "<Figure size 432x288 with 2 Axes>"
      ]
     },
     "metadata": {
      "needs_background": "light"
     },
     "output_type": "display_data"
    }
   ],
   "source": [
    "# check label\n",
    "ax1 = plt.subplot(211)\n",
    "ibi.plot('.-')\n",
    "\n",
    "plt.subplot(212, sharex = ax1)\n",
    "label.plot('.-')\n",
    "plt.show()"
   ]
  },
  {
   "cell_type": "code",
   "execution_count": 21,
   "metadata": {},
   "outputs": [],
   "source": [
    "# define a list of indicators we want to compute\n",
    "hrv_indicators = [ph.Mean(name='RRmean'), ph.StDev(name='RRstd'), ph.RMSSD(name='rmsSD')]"
   ]
  },
  {
   "cell_type": "code",
   "execution_count": 22,
   "metadata": {},
   "outputs": [],
   "source": [
    "#fixed length windowing\n",
    "fixed_length = ph.FixedSegments(step = 60, width = 60, labels = label)\n",
    "\n",
    "indicators, col_names = ph.fmap(fixed_length, hrv_indicators, ibi)"
   ]
  },
  {
   "cell_type": "code",
   "execution_count": 23,
   "metadata": {},
   "outputs": [],
   "source": [
    "# extract column with the labels for each window\n",
    "label_w = indicators[:, np.where(col_names == 'label')[0]]\n",
    "\n",
    "# extract column with the RRmean values computed from each window\n",
    "rrmean_w = indicators[:, np.where(col_names == 'RRmean')[0]]\n",
    "\n",
    "rrmean_image1 = rrmean_w[np.where(label_w==1)[0]].ravel()\n",
    "rrmean_image2 = rrmean_w[np.where(label_w==2)[0]].ravel()"
   ]
  },
  {
   "cell_type": "code",
   "execution_count": 24,
   "metadata": {},
   "outputs": [
    {
     "data": {
      "text/plain": [
       "{'whiskers': [<matplotlib.lines.Line2D at 0x1c1a528c10>,\n",
       "  <matplotlib.lines.Line2D at 0x1c1a528d50>,\n",
       "  <matplotlib.lines.Line2D at 0x1c1a2afa50>,\n",
       "  <matplotlib.lines.Line2D at 0x1c1a5c37d0>],\n",
       " 'caps': [<matplotlib.lines.Line2D at 0x1c1a528450>,\n",
       "  <matplotlib.lines.Line2D at 0x1c1a530ed0>,\n",
       "  <matplotlib.lines.Line2D at 0x1c1a5c3810>,\n",
       "  <matplotlib.lines.Line2D at 0x1c1a36c190>],\n",
       " 'boxes': [<matplotlib.lines.Line2D at 0x1c1a377e10>,\n",
       "  <matplotlib.lines.Line2D at 0x1c1a5284d0>],\n",
       " 'medians': [<matplotlib.lines.Line2D at 0x1c1a5c38d0>,\n",
       "  <matplotlib.lines.Line2D at 0x1c1a36cfd0>],\n",
       " 'fliers': [<matplotlib.lines.Line2D at 0x1c1a5c3890>,\n",
       "  <matplotlib.lines.Line2D at 0x1c1a2aff90>],\n",
       " 'means': []}"
      ]
     },
     "execution_count": 24,
     "metadata": {},
     "output_type": "execute_result"
    },
    {
     "data": {
      "image/png": "[encoded data removed]",
      "text/plain": [
       "<Figure size 432x288 with 1 Axes>"
      ]
     },
     "metadata": {
      "needs_background": "light"
     },
     "output_type": "display_data"
    }
   ],
   "source": [
    "## create a box and whisker plot to compare the distibution of the RRmean indicator\n",
    "plt.boxplot([rrmean_image1, rrmean_image2],\n",
    "            labels=['First 10 Minutes', 'recording time'])"
   ]
  },
  {
   "cell_type": "code",
   "execution_count": 25,
   "metadata": {},
   "outputs": [
    {
     "name": "stdout",
     "output_type": "stream",
     "text": [
      "[IBI_VLF_Pow, IBI_LF_Pow, IBI_HF_Pow, IBI_Total_Pow]\n",
      "{'freq_min': 1e-05, 'freq_max': 0.04, 'method': 'ar', 'interp_freq': 4, 'name': 'IBI_VLF_Pow'}\n"
     ]
    }
   ],
   "source": [
    "HRV_FD = ph.preset_hrv_fd() #frequency domain HRV indicators\n",
    "print(HRV_FD)\n",
    "\n",
    "print(HRV_FD[0].get())"
   ]
  },
  {
   "cell_type": "code",
   "execution_count": 26,
   "metadata": {},
   "outputs": [],
   "source": [
    "FD_HRV_ind, col_names = ph.fmap(fixed_length, ph.preset_hrv_fd(), ibi.resample(4))"
   ]
  },
  {
   "cell_type": "code",
   "execution_count": 27,
   "metadata": {},
   "outputs": [
    {
     "data": {
      "text/html": [
       "<div>\n",
       "<style scoped>\n",
       "    .dataframe tbody tr th:only-of-type {\n",
       "        vertical-align: middle;\n",
       "    }\n",
       "\n",
       "    .dataframe tbody tr th {\n",
       "        vertical-align: top;\n",
       "    }\n",
       "\n",
       "    .dataframe thead th {\n",
       "        text-align: right;\n",
       "    }\n",
       "</style>\n",
       "<table border=\"1\" class=\"dataframe\">\n",
       "  <thead>\n",
       "    <tr style=\"text-align: right;\">\n",
       "      <th></th>\n",
       "      <th>begin</th>\n",
       "      <th>end</th>\n",
       "      <th>label</th>\n",
       "      <th>IBI_VLF_Pow</th>\n",
       "      <th>IBI_LF_Pow</th>\n",
       "      <th>IBI_HF_Pow</th>\n",
       "      <th>IBI_Total_Pow</th>\n",
       "    </tr>\n",
       "  </thead>\n",
       "  <tbody>\n",
       "    <tr>\n",
       "      <td>0</td>\n",
       "      <td>1.229248</td>\n",
       "      <td>61.229248</td>\n",
       "      <td>1.0</td>\n",
       "      <td>138.780087</td>\n",
       "      <td>373.955292</td>\n",
       "      <td>649.238757</td>\n",
       "      <td>1861.189214</td>\n",
       "    </tr>\n",
       "    <tr>\n",
       "      <td>1</td>\n",
       "      <td>61.229248</td>\n",
       "      <td>121.229248</td>\n",
       "      <td>1.0</td>\n",
       "      <td>280.750282</td>\n",
       "      <td>587.440767</td>\n",
       "      <td>593.287030</td>\n",
       "      <td>2097.671282</td>\n",
       "    </tr>\n",
       "    <tr>\n",
       "      <td>2</td>\n",
       "      <td>121.229248</td>\n",
       "      <td>181.229248</td>\n",
       "      <td>1.0</td>\n",
       "      <td>124.475386</td>\n",
       "      <td>438.885864</td>\n",
       "      <td>622.831100</td>\n",
       "      <td>1854.027998</td>\n",
       "    </tr>\n",
       "    <tr>\n",
       "      <td>3</td>\n",
       "      <td>181.229248</td>\n",
       "      <td>241.229248</td>\n",
       "      <td>1.0</td>\n",
       "      <td>320.819696</td>\n",
       "      <td>725.195622</td>\n",
       "      <td>867.600122</td>\n",
       "      <td>2557.621216</td>\n",
       "    </tr>\n",
       "    <tr>\n",
       "      <td>4</td>\n",
       "      <td>241.229248</td>\n",
       "      <td>301.229248</td>\n",
       "      <td>1.0</td>\n",
       "      <td>731.106352</td>\n",
       "      <td>884.863846</td>\n",
       "      <td>630.875914</td>\n",
       "      <td>2900.331069</td>\n",
       "    </tr>\n",
       "    <tr>\n",
       "      <td>5</td>\n",
       "      <td>301.229248</td>\n",
       "      <td>361.229248</td>\n",
       "      <td>1.0</td>\n",
       "      <td>147.587041</td>\n",
       "      <td>421.757021</td>\n",
       "      <td>685.176164</td>\n",
       "      <td>1932.328433</td>\n",
       "    </tr>\n",
       "    <tr>\n",
       "      <td>6</td>\n",
       "      <td>361.229248</td>\n",
       "      <td>421.229248</td>\n",
       "      <td>1.0</td>\n",
       "      <td>135.701811</td>\n",
       "      <td>364.961459</td>\n",
       "      <td>723.909068</td>\n",
       "      <td>1961.977696</td>\n",
       "    </tr>\n",
       "    <tr>\n",
       "      <td>7</td>\n",
       "      <td>421.229248</td>\n",
       "      <td>481.229248</td>\n",
       "      <td>1.0</td>\n",
       "      <td>218.516334</td>\n",
       "      <td>705.545285</td>\n",
       "      <td>967.439518</td>\n",
       "      <td>2603.291596</td>\n",
       "    </tr>\n",
       "    <tr>\n",
       "      <td>8</td>\n",
       "      <td>481.229248</td>\n",
       "      <td>541.229248</td>\n",
       "      <td>1.0</td>\n",
       "      <td>211.488891</td>\n",
       "      <td>491.166664</td>\n",
       "      <td>804.554670</td>\n",
       "      <td>2211.618260</td>\n",
       "    </tr>\n",
       "    <tr>\n",
       "      <td>9</td>\n",
       "      <td>601.229248</td>\n",
       "      <td>661.229248</td>\n",
       "      <td>2.0</td>\n",
       "      <td>127.222909</td>\n",
       "      <td>410.411287</td>\n",
       "      <td>525.275270</td>\n",
       "      <td>1797.082558</td>\n",
       "    </tr>\n",
       "    <tr>\n",
       "      <td>10</td>\n",
       "      <td>661.229248</td>\n",
       "      <td>721.229248</td>\n",
       "      <td>2.0</td>\n",
       "      <td>137.890227</td>\n",
       "      <td>408.697517</td>\n",
       "      <td>654.148513</td>\n",
       "      <td>1998.648098</td>\n",
       "    </tr>\n",
       "    <tr>\n",
       "      <td>11</td>\n",
       "      <td>721.229248</td>\n",
       "      <td>781.229248</td>\n",
       "      <td>2.0</td>\n",
       "      <td>427.014246</td>\n",
       "      <td>790.647027</td>\n",
       "      <td>719.001401</td>\n",
       "      <td>2590.861773</td>\n",
       "    </tr>\n",
       "    <tr>\n",
       "      <td>12</td>\n",
       "      <td>781.229248</td>\n",
       "      <td>841.229248</td>\n",
       "      <td>2.0</td>\n",
       "      <td>86.948735</td>\n",
       "      <td>310.521947</td>\n",
       "      <td>786.956613</td>\n",
       "      <td>1948.264636</td>\n",
       "    </tr>\n",
       "    <tr>\n",
       "      <td>13</td>\n",
       "      <td>841.229248</td>\n",
       "      <td>901.229248</td>\n",
       "      <td>2.0</td>\n",
       "      <td>125.217963</td>\n",
       "      <td>524.442618</td>\n",
       "      <td>840.357423</td>\n",
       "      <td>2203.245325</td>\n",
       "    </tr>\n",
       "    <tr>\n",
       "      <td>14</td>\n",
       "      <td>901.229248</td>\n",
       "      <td>961.229248</td>\n",
       "      <td>2.0</td>\n",
       "      <td>111.899022</td>\n",
       "      <td>332.443630</td>\n",
       "      <td>570.146843</td>\n",
       "      <td>1745.463930</td>\n",
       "    </tr>\n",
       "    <tr>\n",
       "      <td>15</td>\n",
       "      <td>961.229248</td>\n",
       "      <td>1021.229248</td>\n",
       "      <td>2.0</td>\n",
       "      <td>141.243631</td>\n",
       "      <td>481.263988</td>\n",
       "      <td>604.526216</td>\n",
       "      <td>1938.790513</td>\n",
       "    </tr>\n",
       "    <tr>\n",
       "      <td>16</td>\n",
       "      <td>1021.229248</td>\n",
       "      <td>1081.229248</td>\n",
       "      <td>2.0</td>\n",
       "      <td>448.243554</td>\n",
       "      <td>786.646463</td>\n",
       "      <td>810.723282</td>\n",
       "      <td>2736.519914</td>\n",
       "    </tr>\n",
       "    <tr>\n",
       "      <td>17</td>\n",
       "      <td>1081.229248</td>\n",
       "      <td>1141.229248</td>\n",
       "      <td>2.0</td>\n",
       "      <td>182.630387</td>\n",
       "      <td>552.491196</td>\n",
       "      <td>781.799986</td>\n",
       "      <td>2243.523029</td>\n",
       "    </tr>\n",
       "    <tr>\n",
       "      <td>18</td>\n",
       "      <td>1141.229248</td>\n",
       "      <td>1201.229248</td>\n",
       "      <td>2.0</td>\n",
       "      <td>222.424755</td>\n",
       "      <td>527.458248</td>\n",
       "      <td>558.405891</td>\n",
       "      <td>1990.251985</td>\n",
       "    </tr>\n",
       "    <tr>\n",
       "      <td>19</td>\n",
       "      <td>1201.229248</td>\n",
       "      <td>1261.229248</td>\n",
       "      <td>2.0</td>\n",
       "      <td>225.425705</td>\n",
       "      <td>435.199737</td>\n",
       "      <td>540.351122</td>\n",
       "      <td>1830.392036</td>\n",
       "    </tr>\n",
       "    <tr>\n",
       "      <td>20</td>\n",
       "      <td>1261.229248</td>\n",
       "      <td>1321.229248</td>\n",
       "      <td>2.0</td>\n",
       "      <td>94.173133</td>\n",
       "      <td>303.433407</td>\n",
       "      <td>590.094079</td>\n",
       "      <td>1733.884006</td>\n",
       "    </tr>\n",
       "    <tr>\n",
       "      <td>21</td>\n",
       "      <td>1321.229248</td>\n",
       "      <td>1381.229248</td>\n",
       "      <td>2.0</td>\n",
       "      <td>220.956669</td>\n",
       "      <td>352.548860</td>\n",
       "      <td>665.895173</td>\n",
       "      <td>1930.966151</td>\n",
       "    </tr>\n",
       "    <tr>\n",
       "      <td>22</td>\n",
       "      <td>1381.229248</td>\n",
       "      <td>1441.229248</td>\n",
       "      <td>2.0</td>\n",
       "      <td>112.423552</td>\n",
       "      <td>469.326945</td>\n",
       "      <td>829.073964</td>\n",
       "      <td>2144.488099</td>\n",
       "    </tr>\n",
       "    <tr>\n",
       "      <td>23</td>\n",
       "      <td>1441.229248</td>\n",
       "      <td>1501.229248</td>\n",
       "      <td>2.0</td>\n",
       "      <td>234.070146</td>\n",
       "      <td>714.515160</td>\n",
       "      <td>944.025556</td>\n",
       "      <td>2655.980228</td>\n",
       "    </tr>\n",
       "    <tr>\n",
       "      <td>24</td>\n",
       "      <td>1501.229248</td>\n",
       "      <td>1561.229248</td>\n",
       "      <td>2.0</td>\n",
       "      <td>194.815858</td>\n",
       "      <td>686.098448</td>\n",
       "      <td>959.999362</td>\n",
       "      <td>2542.314539</td>\n",
       "    </tr>\n",
       "    <tr>\n",
       "      <td>25</td>\n",
       "      <td>1561.229248</td>\n",
       "      <td>1621.229248</td>\n",
       "      <td>2.0</td>\n",
       "      <td>240.624885</td>\n",
       "      <td>458.734603</td>\n",
       "      <td>665.953288</td>\n",
       "      <td>2085.732239</td>\n",
       "    </tr>\n",
       "    <tr>\n",
       "      <td>26</td>\n",
       "      <td>1621.229248</td>\n",
       "      <td>1681.229248</td>\n",
       "      <td>2.0</td>\n",
       "      <td>142.741967</td>\n",
       "      <td>584.468202</td>\n",
       "      <td>799.771666</td>\n",
       "      <td>2136.500026</td>\n",
       "    </tr>\n",
       "    <tr>\n",
       "      <td>27</td>\n",
       "      <td>1681.229248</td>\n",
       "      <td>1741.229248</td>\n",
       "      <td>2.0</td>\n",
       "      <td>117.793654</td>\n",
       "      <td>394.786936</td>\n",
       "      <td>748.251762</td>\n",
       "      <td>1924.388964</td>\n",
       "    </tr>\n",
       "    <tr>\n",
       "      <td>28</td>\n",
       "      <td>1741.229248</td>\n",
       "      <td>1801.229248</td>\n",
       "      <td>2.0</td>\n",
       "      <td>264.046024</td>\n",
       "      <td>852.620654</td>\n",
       "      <td>821.035652</td>\n",
       "      <td>2627.700925</td>\n",
       "    </tr>\n",
       "    <tr>\n",
       "      <td>29</td>\n",
       "      <td>1801.229248</td>\n",
       "      <td>1861.229248</td>\n",
       "      <td>2.0</td>\n",
       "      <td>384.281202</td>\n",
       "      <td>579.475221</td>\n",
       "      <td>807.935696</td>\n",
       "      <td>2432.198262</td>\n",
       "    </tr>\n",
       "    <tr>\n",
       "      <td>30</td>\n",
       "      <td>1861.229248</td>\n",
       "      <td>1921.229248</td>\n",
       "      <td>2.0</td>\n",
       "      <td>124.963168</td>\n",
       "      <td>342.039687</td>\n",
       "      <td>790.868405</td>\n",
       "      <td>1995.271522</td>\n",
       "    </tr>\n",
       "    <tr>\n",
       "      <td>31</td>\n",
       "      <td>1921.229248</td>\n",
       "      <td>1981.229248</td>\n",
       "      <td>2.0</td>\n",
       "      <td>84.501991</td>\n",
       "      <td>258.597466</td>\n",
       "      <td>753.737193</td>\n",
       "      <td>1870.967338</td>\n",
       "    </tr>\n",
       "    <tr>\n",
       "      <td>32</td>\n",
       "      <td>1981.229248</td>\n",
       "      <td>2041.229248</td>\n",
       "      <td>2.0</td>\n",
       "      <td>90.082221</td>\n",
       "      <td>255.369689</td>\n",
       "      <td>525.734185</td>\n",
       "      <td>1622.044747</td>\n",
       "    </tr>\n",
       "    <tr>\n",
       "      <td>33</td>\n",
       "      <td>2041.229248</td>\n",
       "      <td>2101.229248</td>\n",
       "      <td>2.0</td>\n",
       "      <td>145.297544</td>\n",
       "      <td>366.313874</td>\n",
       "      <td>856.734067</td>\n",
       "      <td>2165.957114</td>\n",
       "    </tr>\n",
       "    <tr>\n",
       "      <td>34</td>\n",
       "      <td>2101.229248</td>\n",
       "      <td>2161.229248</td>\n",
       "      <td>2.0</td>\n",
       "      <td>113.475478</td>\n",
       "      <td>410.532592</td>\n",
       "      <td>681.698800</td>\n",
       "      <td>2007.287244</td>\n",
       "    </tr>\n",
       "    <tr>\n",
       "      <td>35</td>\n",
       "      <td>2161.229248</td>\n",
       "      <td>2221.229248</td>\n",
       "      <td>2.0</td>\n",
       "      <td>90.780582</td>\n",
       "      <td>302.994310</td>\n",
       "      <td>769.702231</td>\n",
       "      <td>1958.172119</td>\n",
       "    </tr>\n",
       "    <tr>\n",
       "      <td>36</td>\n",
       "      <td>2221.229248</td>\n",
       "      <td>2281.229248</td>\n",
       "      <td>2.0</td>\n",
       "      <td>159.019087</td>\n",
       "      <td>478.299925</td>\n",
       "      <td>777.064118</td>\n",
       "      <td>2225.282234</td>\n",
       "    </tr>\n",
       "    <tr>\n",
       "      <td>37</td>\n",
       "      <td>2281.229248</td>\n",
       "      <td>2341.229248</td>\n",
       "      <td>2.0</td>\n",
       "      <td>204.805914</td>\n",
       "      <td>647.262873</td>\n",
       "      <td>997.272028</td>\n",
       "      <td>2500.277006</td>\n",
       "    </tr>\n",
       "    <tr>\n",
       "      <td>38</td>\n",
       "      <td>2341.229248</td>\n",
       "      <td>2401.229248</td>\n",
       "      <td>2.0</td>\n",
       "      <td>246.160281</td>\n",
       "      <td>735.356636</td>\n",
       "      <td>756.934118</td>\n",
       "      <td>2419.698457</td>\n",
       "    </tr>\n",
       "    <tr>\n",
       "      <td>39</td>\n",
       "      <td>2401.229248</td>\n",
       "      <td>2461.229248</td>\n",
       "      <td>2.0</td>\n",
       "      <td>160.758472</td>\n",
       "      <td>567.095688</td>\n",
       "      <td>811.350776</td>\n",
       "      <td>2200.130939</td>\n",
       "    </tr>\n",
       "    <tr>\n",
       "      <td>40</td>\n",
       "      <td>2461.229248</td>\n",
       "      <td>2521.229248</td>\n",
       "      <td>2.0</td>\n",
       "      <td>437.237509</td>\n",
       "      <td>934.349963</td>\n",
       "      <td>1203.535108</td>\n",
       "      <td>3240.681633</td>\n",
       "    </tr>\n",
       "    <tr>\n",
       "      <td>41</td>\n",
       "      <td>2521.229248</td>\n",
       "      <td>2581.229248</td>\n",
       "      <td>2.0</td>\n",
       "      <td>132.165047</td>\n",
       "      <td>450.088044</td>\n",
       "      <td>956.510736</td>\n",
       "      <td>2291.260563</td>\n",
       "    </tr>\n",
       "    <tr>\n",
       "      <td>42</td>\n",
       "      <td>2581.229248</td>\n",
       "      <td>2641.229248</td>\n",
       "      <td>2.0</td>\n",
       "      <td>253.105195</td>\n",
       "      <td>875.944276</td>\n",
       "      <td>904.023578</td>\n",
       "      <td>2705.564634</td>\n",
       "    </tr>\n",
       "    <tr>\n",
       "      <td>43</td>\n",
       "      <td>2641.229248</td>\n",
       "      <td>2701.229248</td>\n",
       "      <td>2.0</td>\n",
       "      <td>255.103297</td>\n",
       "      <td>581.023627</td>\n",
       "      <td>948.234170</td>\n",
       "      <td>2504.492756</td>\n",
       "    </tr>\n",
       "    <tr>\n",
       "      <td>44</td>\n",
       "      <td>2701.229248</td>\n",
       "      <td>2761.229248</td>\n",
       "      <td>2.0</td>\n",
       "      <td>715.590414</td>\n",
       "      <td>1180.910469</td>\n",
       "      <td>982.167848</td>\n",
       "      <td>3539.558511</td>\n",
       "    </tr>\n",
       "    <tr>\n",
       "      <td>45</td>\n",
       "      <td>2761.229248</td>\n",
       "      <td>2821.229248</td>\n",
       "      <td>2.0</td>\n",
       "      <td>296.214453</td>\n",
       "      <td>737.212166</td>\n",
       "      <td>728.604943</td>\n",
       "      <td>2453.215098</td>\n",
       "    </tr>\n",
       "    <tr>\n",
       "      <td>46</td>\n",
       "      <td>2821.229248</td>\n",
       "      <td>2881.229248</td>\n",
       "      <td>2.0</td>\n",
       "      <td>513.241024</td>\n",
       "      <td>721.461446</td>\n",
       "      <td>722.896233</td>\n",
       "      <td>2607.608197</td>\n",
       "    </tr>\n",
       "    <tr>\n",
       "      <td>47</td>\n",
       "      <td>2881.229248</td>\n",
       "      <td>2941.229248</td>\n",
       "      <td>2.0</td>\n",
       "      <td>201.261677</td>\n",
       "      <td>487.703422</td>\n",
       "      <td>786.909919</td>\n",
       "      <td>2182.055466</td>\n",
       "    </tr>\n",
       "    <tr>\n",
       "      <td>48</td>\n",
       "      <td>2941.229248</td>\n",
       "      <td>3001.229248</td>\n",
       "      <td>2.0</td>\n",
       "      <td>240.669542</td>\n",
       "      <td>604.803365</td>\n",
       "      <td>900.658662</td>\n",
       "      <td>2438.080272</td>\n",
       "    </tr>\n",
       "    <tr>\n",
       "      <td>49</td>\n",
       "      <td>3001.229248</td>\n",
       "      <td>3061.229248</td>\n",
       "      <td>2.0</td>\n",
       "      <td>153.158814</td>\n",
       "      <td>493.339255</td>\n",
       "      <td>911.176997</td>\n",
       "      <td>2412.395468</td>\n",
       "    </tr>\n",
       "    <tr>\n",
       "      <td>50</td>\n",
       "      <td>3061.229248</td>\n",
       "      <td>3121.229248</td>\n",
       "      <td>2.0</td>\n",
       "      <td>78.877630</td>\n",
       "      <td>241.247084</td>\n",
       "      <td>729.618885</td>\n",
       "      <td>1916.617250</td>\n",
       "    </tr>\n",
       "    <tr>\n",
       "      <td>51</td>\n",
       "      <td>3121.229248</td>\n",
       "      <td>3181.229248</td>\n",
       "      <td>2.0</td>\n",
       "      <td>98.651207</td>\n",
       "      <td>276.429956</td>\n",
       "      <td>774.754484</td>\n",
       "      <td>2061.042012</td>\n",
       "    </tr>\n",
       "    <tr>\n",
       "      <td>52</td>\n",
       "      <td>3181.229248</td>\n",
       "      <td>3241.229248</td>\n",
       "      <td>2.0</td>\n",
       "      <td>178.325411</td>\n",
       "      <td>479.109771</td>\n",
       "      <td>723.838338</td>\n",
       "      <td>2168.271723</td>\n",
       "    </tr>\n",
       "    <tr>\n",
       "      <td>53</td>\n",
       "      <td>3241.229248</td>\n",
       "      <td>3301.229248</td>\n",
       "      <td>2.0</td>\n",
       "      <td>132.749708</td>\n",
       "      <td>346.402504</td>\n",
       "      <td>697.740070</td>\n",
       "      <td>1852.993130</td>\n",
       "    </tr>\n",
       "  </tbody>\n",
       "</table>\n",
       "</div>"
      ],
      "text/plain": [
       "          begin          end  label  IBI_VLF_Pow   IBI_LF_Pow   IBI_HF_Pow  \\\n",
       "0      1.229248    61.229248    1.0   138.780087   373.955292   649.238757   \n",
       "1     61.229248   121.229248    1.0   280.750282   587.440767   593.287030   \n",
       "2    121.229248   181.229248    1.0   124.475386   438.885864   622.831100   \n",
       "3    181.229248   241.229248    1.0   320.819696   725.195622   867.600122   \n",
       "4    241.229248   301.229248    1.0   731.106352   884.863846   630.875914   \n",
       "5    301.229248   361.229248    1.0   147.587041   421.757021   685.176164   \n",
       "6    361.229248   421.229248    1.0   135.701811   364.961459   723.909068   \n",
       "7    421.229248   481.229248    1.0   218.516334   705.545285   967.439518   \n",
       "8    481.229248   541.229248    1.0   211.488891   491.166664   804.554670   \n",
       "9    601.229248   661.229248    2.0   127.222909   410.411287   525.275270   \n",
       "10   661.229248   721.229248    2.0   137.890227   408.697517   654.148513   \n",
       "11   721.229248   781.229248    2.0   427.014246   790.647027   719.001401   \n",
       "12   781.229248   841.229248    2.0    86.948735   310.521947   786.956613   \n",
       "13   841.229248   901.229248    2.0   125.217963   524.442618   840.357423   \n",
       "14   901.229248   961.229248    2.0   111.899022   332.443630   570.146843   \n",
       "15   961.229248  1021.229248    2.0   141.243631   481.263988   604.526216   \n",
       "16  1021.229248  1081.229248    2.0   448.243554   786.646463   810.723282   \n",
       "17  1081.229248  1141.229248    2.0   182.630387   552.491196   781.799986   \n",
       "18  1141.229248  1201.229248    2.0   222.424755   527.458248   558.405891   \n",
       "19  1201.229248  1261.229248    2.0   225.425705   435.199737   540.351122   \n",
       "20  1261.229248  1321.229248    2.0    94.173133   303.433407   590.094079   \n",
       "21  1321.229248  1381.229248    2.0   220.956669   352.548860   665.895173   \n",
       "22  1381.229248  1441.229248    2.0   112.423552   469.326945   829.073964   \n",
       "23  1441.229248  1501.229248    2.0   234.070146   714.515160   944.025556   \n",
       "24  1501.229248  1561.229248    2.0   194.815858   686.098448   959.999362   \n",
       "25  1561.229248  1621.229248    2.0   240.624885   458.734603   665.953288   \n",
       "26  1621.229248  1681.229248    2.0   142.741967   584.468202   799.771666   \n",
       "27  1681.229248  1741.229248    2.0   117.793654   394.786936   748.251762   \n",
       "28  1741.229248  1801.229248    2.0   264.046024   852.620654   821.035652   \n",
       "29  1801.229248  1861.229248    2.0   384.281202   579.475221   807.935696   \n",
       "30  1861.229248  1921.229248    2.0   124.963168   342.039687   790.868405   \n",
       "31  1921.229248  1981.229248    2.0    84.501991   258.597466   753.737193   \n",
       "32  1981.229248  2041.229248    2.0    90.082221   255.369689   525.734185   \n",
       "33  2041.229248  2101.229248    2.0   145.297544   366.313874   856.734067   \n",
       "34  2101.229248  2161.229248    2.0   113.475478   410.532592   681.698800   \n",
       "35  2161.229248  2221.229248    2.0    90.780582   302.994310   769.702231   \n",
       "36  2221.229248  2281.229248    2.0   159.019087   478.299925   777.064118   \n",
       "37  2281.229248  2341.229248    2.0   204.805914   647.262873   997.272028   \n",
       "38  2341.229248  2401.229248    2.0   246.160281   735.356636   756.934118   \n",
       "39  2401.229248  2461.229248    2.0   160.758472   567.095688   811.350776   \n",
       "40  2461.229248  2521.229248    2.0   437.237509   934.349963  1203.535108   \n",
       "41  2521.229248  2581.229248    2.0   132.165047   450.088044   956.510736   \n",
       "42  2581.229248  2641.229248    2.0   253.105195   875.944276   904.023578   \n",
       "43  2641.229248  2701.229248    2.0   255.103297   581.023627   948.234170   \n",
       "44  2701.229248  2761.229248    2.0   715.590414  1180.910469   982.167848   \n",
       "45  2761.229248  2821.229248    2.0   296.214453   737.212166   728.604943   \n",
       "46  2821.229248  2881.229248    2.0   513.241024   721.461446   722.896233   \n",
       "47  2881.229248  2941.229248    2.0   201.261677   487.703422   786.909919   \n",
       "48  2941.229248  3001.229248    2.0   240.669542   604.803365   900.658662   \n",
       "49  3001.229248  3061.229248    2.0   153.158814   493.339255   911.176997   \n",
       "50  3061.229248  3121.229248    2.0    78.877630   241.247084   729.618885   \n",
       "51  3121.229248  3181.229248    2.0    98.651207   276.429956   774.754484   \n",
       "52  3181.229248  3241.229248    2.0   178.325411   479.109771   723.838338   \n",
       "53  3241.229248  3301.229248    2.0   132.749708   346.402504   697.740070   \n",
       "\n",
       "    IBI_Total_Pow  \n",
       "0     1861.189214  \n",
       "1     2097.671282  \n",
       "2     1854.027998  \n",
       "3     2557.621216  \n",
       "4     2900.331069  \n",
       "5     1932.328433  \n",
       "6     1961.977696  \n",
       "7     2603.291596  \n",
       "8     2211.618260  \n",
       "9     1797.082558  \n",
       "10    1998.648098  \n",
       "11    2590.861773  \n",
       "12    1948.264636  \n",
       "13    2203.245325  \n",
       "14    1745.463930  \n",
       "15    1938.790513  \n",
       "16    2736.519914  \n",
       "17    2243.523029  \n",
       "18    1990.251985  \n",
       "19    1830.392036  \n",
       "20    1733.884006  \n",
       "21    1930.966151  \n",
       "22    2144.488099  \n",
       "23    2655.980228  \n",
       "24    2542.314539  \n",
       "25    2085.732239  \n",
       "26    2136.500026  \n",
       "27    1924.388964  \n",
       "28    2627.700925  \n",
       "29    2432.198262  \n",
       "30    1995.271522  \n",
       "31    1870.967338  \n",
       "32    1622.044747  \n",
       "33    2165.957114  \n",
       "34    2007.287244  \n",
       "35    1958.172119  \n",
       "36    2225.282234  \n",
       "37    2500.277006  \n",
       "38    2419.698457  \n",
       "39    2200.130939  \n",
       "40    3240.681633  \n",
       "41    2291.260563  \n",
       "42    2705.564634  \n",
       "43    2504.492756  \n",
       "44    3539.558511  \n",
       "45    2453.215098  \n",
       "46    2607.608197  \n",
       "47    2182.055466  \n",
       "48    2438.080272  \n",
       "49    2412.395468  \n",
       "50    1916.617250  \n",
       "51    2061.042012  \n",
       "52    2168.271723  \n",
       "53    1852.993130  "
      ]
     },
     "execution_count": 27,
     "metadata": {},
     "output_type": "execute_result"
    }
   ],
   "source": [
    "import pandas as pd\n",
    "\n",
    "# create a pandas dataframe\n",
    "FD_HRV_pp31_df = pd.DataFrame(FD_HRV_ind, columns=col_names)\n",
    "\n",
    "FD_HRV_pp31_df"
   ]
  },
  {
   "cell_type": "code",
   "execution_count": 28,
   "metadata": {},
   "outputs": [],
   "source": [
    "#save data \n",
    "FD_HRV_pp31_df.to_csv('FD_HRV_pp31.csv')"
   ]
  },
  {
   "cell_type": "code",
   "execution_count": null,
   "metadata": {},
   "outputs": [],
   "source": []
  },
  {
   "cell_type": "code",
   "execution_count": null,
   "metadata": {},
   "outputs": [],
   "source": []
  }
 ],
 "metadata": {
  "kernelspec": {
   "display_name": "Python 3",
   "language": "python",
   "name": "python3"
  },
  "language_info": {
   "codemirror_mode": {
    "name": "ipython",
    "version": 3
   },
   "file_extension": ".py",
   "mimetype": "text/x-python",
   "name": "python",
   "nbconvert_exporter": "python",
   "pygments_lexer": "ipython3",
   "version": "3.7.4"
  }
 },
 "nbformat": 4,
 "nbformat_minor": 2
}
