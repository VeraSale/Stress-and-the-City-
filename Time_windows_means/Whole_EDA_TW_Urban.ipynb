{
 "cells": [
  {
   "cell_type": "code",
   "execution_count": 1,
   "metadata": {},
   "outputs": [
    {
     "data": {
      "text/plain": [
       "'/Users/verasale/iCloud Drive (Archive)/Desktop/RU2018-2020/2019-20/Major_research_project/Data_analysis/Physiological/EDA processed/EDA_urban'"
      ]
     },
     "execution_count": 1,
     "metadata": {},
     "output_type": "execute_result"
    }
   ],
   "source": [
    "import pandas as pd\n",
    "import glob as glob\n",
    "import os \n",
    "os.getcwd()"
   ]
  },
  {
   "cell_type": "code",
   "execution_count": null,
   "metadata": {},
   "outputs": [],
   "source": [
    "#divide all the urban recordings raw data (EDA) in 3 separate windows "
   ]
  },
  {
   "cell_type": "code",
   "execution_count": 2,
   "metadata": {},
   "outputs": [
    {
     "data": {
      "text/plain": [
       "0.000000    0.131763\n",
       "0.837688    5.330161\n",
       "0.000000    0.101396\n",
       "0.000000    0.827145\n",
       "0.000000    0.236890\n",
       "dtype: float64"
      ]
     },
     "execution_count": 2,
     "metadata": {},
     "output_type": "execute_result"
    }
   ],
   "source": [
    "#Time window 1\n",
    "#first 18 minutes \n",
    "dfs = []\n",
    "for fname in glob.glob('E*.csv'):\n",
    "    df = pd.read_csv(fname)\n",
    "    dfs.append(df.iloc[0:18].mean(axis=0))\n",
    "\n",
    "df_summary = pd.concat(dfs, axis=0)\n",
    "df_summary.head()"
   ]
  },
  {
   "cell_type": "code",
   "execution_count": 3,
   "metadata": {},
   "outputs": [
    {
     "name": "stderr",
     "output_type": "stream",
     "text": [
      "/opt/anaconda3/lib/python3.7/site-packages/ipykernel_launcher.py:2: FutureWarning: The signature of `Series.to_csv` was aligned to that of `DataFrame.to_csv`, and argument 'header' will change its default value from False to True: please pass an explicit value to suppress this warning.\n",
      "  \n"
     ]
    }
   ],
   "source": [
    "#save to csv \n",
    "df_summary.to_csv('TimeWindow1_wholeEDA_urban.csv')"
   ]
  },
  {
   "cell_type": "code",
   "execution_count": 4,
   "metadata": {},
   "outputs": [
    {
     "data": {
      "text/plain": [
       "0.000000     0.123318\n",
       "0.837688    11.078839\n",
       "0.000000     0.092744\n",
       "0.000000     0.851466\n",
       "0.000000     0.227166\n",
       "dtype: float64"
      ]
     },
     "execution_count": 4,
     "metadata": {},
     "output_type": "execute_result"
    }
   ],
   "source": [
    "#Time window 2\n",
    "#second 18 minutes \n",
    "dfs = []\n",
    "for fname in glob.glob('E*.csv'):\n",
    "    df = pd.read_csv(fname)\n",
    "    dfs.append(df.iloc[19:36].mean(axis=0))\n",
    "\n",
    "df_summary = pd.concat(dfs, axis=0)\n",
    "df_summary.head()\n"
   ]
  },
  {
   "cell_type": "code",
   "execution_count": 5,
   "metadata": {},
   "outputs": [
    {
     "name": "stderr",
     "output_type": "stream",
     "text": [
      "/opt/anaconda3/lib/python3.7/site-packages/ipykernel_launcher.py:2: FutureWarning: The signature of `Series.to_csv` was aligned to that of `DataFrame.to_csv`, and argument 'header' will change its default value from False to True: please pass an explicit value to suppress this warning.\n",
      "  \n"
     ]
    }
   ],
   "source": [
    "#save to csv \n",
    "df_summary.to_csv('TimeWindow2_wholeEDA_urban.csv')"
   ]
  },
  {
   "cell_type": "code",
   "execution_count": 6,
   "metadata": {},
   "outputs": [
    {
     "data": {
      "text/plain": [
       "0.000000     0.120229\n",
       "0.837688    12.312634\n",
       "0.000000     0.089730\n",
       "0.000000     0.836096\n",
       "0.000000     0.219104\n",
       "dtype: float64"
      ]
     },
     "execution_count": 6,
     "metadata": {},
     "output_type": "execute_result"
    }
   ],
   "source": [
    "#Time window 3\n",
    "#third 18 minutes \n",
    "dfs = []\n",
    "for fname in glob.glob('E*.csv'):\n",
    "    df = pd.read_csv(fname)\n",
    "    dfs.append(df.iloc[37:54].mean(axis=0))\n",
    "\n",
    "df_summary = pd.concat(dfs, axis=0)\n",
    "df_summary.head()"
   ]
  },
  {
   "cell_type": "code",
   "execution_count": 7,
   "metadata": {},
   "outputs": [
    {
     "name": "stderr",
     "output_type": "stream",
     "text": [
      "/opt/anaconda3/lib/python3.7/site-packages/ipykernel_launcher.py:2: FutureWarning: The signature of `Series.to_csv` was aligned to that of `DataFrame.to_csv`, and argument 'header' will change its default value from False to True: please pass an explicit value to suppress this warning.\n",
      "  \n"
     ]
    }
   ],
   "source": [
    "#save to csv \n",
    "df_summary.to_csv('TimeWindow3_wholeEDA_urban.csv')"
   ]
  },
  {
   "cell_type": "code",
   "execution_count": null,
   "metadata": {},
   "outputs": [],
   "source": []
  }
 ],
 "metadata": {
  "kernelspec": {
   "display_name": "Python 3",
   "language": "python",
   "name": "python3"
  },
  "language_info": {
   "codemirror_mode": {
    "name": "ipython",
    "version": 3
   },
   "file_extension": ".py",
   "mimetype": "text/x-python",
   "name": "python",
   "nbconvert_exporter": "python",
   "pygments_lexer": "ipython3",
   "version": "3.7.4"
  }
 },
 "nbformat": 4,
 "nbformat_minor": 2
}
