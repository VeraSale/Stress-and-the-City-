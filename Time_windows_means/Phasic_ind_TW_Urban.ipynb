{
 "cells": [
  {
   "cell_type": "code",
   "execution_count": 1,
   "metadata": {},
   "outputs": [
    {
     "data": {
      "text/plain": [
       "'/Users/verasale/iCloud Drive (Archive)/Desktop/RU2018-2020/2019-20/Major_research_project/Data_analysis/Physiological/EDA processed/EDA_urban/Phasic_indicators'"
      ]
     },
     "execution_count": 1,
     "metadata": {},
     "output_type": "execute_result"
    }
   ],
   "source": [
    "import pandas as pd\n",
    "import glob as glob\n",
    "import os \n",
    "os.getcwd()"
   ]
  },
  {
   "cell_type": "code",
   "execution_count": 3,
   "metadata": {},
   "outputs": [],
   "source": [
    "#here sampling is every minute (in output df from preprocessing)\n",
    "#1 minute = 1 row; 18 minutes = 18 rows "
   ]
  },
  {
   "cell_type": "code",
   "execution_count": 2,
   "metadata": {},
   "outputs": [
    {
     "data": {
      "text/plain": [
       "PhaMean       0.543521\n",
       "StDev         0.742315\n",
       "AUC          32.611250\n",
       "PeaksMean     1.086479\n",
       "DurMean       1.415344\n",
       "dtype: float64"
      ]
     },
     "execution_count": 2,
     "metadata": {},
     "output_type": "execute_result"
    }
   ],
   "source": [
    "#Time window 1\n",
    "#first 18 minutes \n",
    "dfs = []\n",
    "for fname in glob.glob('p*.csv'):\n",
    "    df = pd.read_csv(fname)\n",
    "    dfs.append(df[['PhaMean','StDev', 'AUC', 'PeaksMean','DurMean'] ].iloc[0:18].mean(axis=0))\n",
    "#pd.concat(dfs).to_csv('timewindow1.csv')\n",
    "\n",
    "df_summary = pd.concat(dfs, axis=0)\n",
    "df_summary.head()"
   ]
  },
  {
   "cell_type": "code",
   "execution_count": 3,
   "metadata": {},
   "outputs": [
    {
     "name": "stderr",
     "output_type": "stream",
     "text": [
      "/opt/anaconda3/lib/python3.7/site-packages/ipykernel_launcher.py:2: FutureWarning: The signature of `Series.to_csv` was aligned to that of `DataFrame.to_csv`, and argument 'header' will change its default value from False to True: please pass an explicit value to suppress this warning.\n",
      "  \n"
     ]
    }
   ],
   "source": [
    "#save to csv \n",
    "df_summary.to_csv('TimeWindow1_EDA_urban.csv')"
   ]
  },
  {
   "cell_type": "code",
   "execution_count": 4,
   "metadata": {},
   "outputs": [
    {
     "data": {
      "text/plain": [
       "PhaMean       0.808979\n",
       "StDev         1.049022\n",
       "AUC          48.538758\n",
       "PeaksMean     1.559944\n",
       "DurMean       1.389815\n",
       "dtype: float64"
      ]
     },
     "execution_count": 4,
     "metadata": {},
     "output_type": "execute_result"
    }
   ],
   "source": [
    "#Time window 2\n",
    "#second 18 minutes \n",
    "dfs = []\n",
    "for fname in glob.glob('p*.csv'):\n",
    "    df = pd.read_csv(fname)\n",
    "    dfs.append(df[['PhaMean','StDev', 'AUC', 'PeaksMean','DurMean'] ].iloc[19:36].mean(axis=0))\n",
    "#pd.concat(dfs).to_csv('timewindow1.csv')\n",
    "\n",
    "df_summary = pd.concat(dfs, axis=0)\n",
    "df_summary.head()\n"
   ]
  },
  {
   "cell_type": "code",
   "execution_count": 5,
   "metadata": {},
   "outputs": [
    {
     "name": "stderr",
     "output_type": "stream",
     "text": [
      "/opt/anaconda3/lib/python3.7/site-packages/ipykernel_launcher.py:2: FutureWarning: The signature of `Series.to_csv` was aligned to that of `DataFrame.to_csv`, and argument 'header' will change its default value from False to True: please pass an explicit value to suppress this warning.\n",
      "  \n"
     ]
    }
   ],
   "source": [
    "#save to csv \n",
    "df_summary.to_csv('TimeWindow2_EDA_urban.csv')"
   ]
  },
  {
   "cell_type": "code",
   "execution_count": 6,
   "metadata": {},
   "outputs": [
    {
     "data": {
      "text/plain": [
       "PhaMean       1.039804\n",
       "StDev         1.194596\n",
       "AUC          62.388246\n",
       "PeaksMean     1.992868\n",
       "DurMean       1.410123\n",
       "dtype: float64"
      ]
     },
     "execution_count": 6,
     "metadata": {},
     "output_type": "execute_result"
    }
   ],
   "source": [
    "#Time window 3\n",
    "#second 18 minutes \n",
    "dfs = []\n",
    "for fname in glob.glob('p*.csv'):\n",
    "    df = pd.read_csv(fname)\n",
    "    dfs.append(df[['PhaMean','StDev', 'AUC', 'PeaksMean','DurMean'] ].iloc[37:54].mean(axis=0))\n",
    "#pd.concat(dfs).to_csv('timewindow1.csv')\n",
    "\n",
    "df_summary = pd.concat(dfs, axis=0)\n",
    "df_summary.head()"
   ]
  },
  {
   "cell_type": "code",
   "execution_count": 7,
   "metadata": {},
   "outputs": [
    {
     "name": "stderr",
     "output_type": "stream",
     "text": [
      "/opt/anaconda3/lib/python3.7/site-packages/ipykernel_launcher.py:2: FutureWarning: The signature of `Series.to_csv` was aligned to that of `DataFrame.to_csv`, and argument 'header' will change its default value from False to True: please pass an explicit value to suppress this warning.\n",
      "  \n"
     ]
    }
   ],
   "source": [
    "#save to csv \n",
    "df_summary.to_csv('TimeWindow3_EDA_urban.csv')"
   ]
  },
  {
   "cell_type": "code",
   "execution_count": null,
   "metadata": {},
   "outputs": [],
   "source": []
  }
 ],
 "metadata": {
  "kernelspec": {
   "display_name": "Python 3",
   "language": "python",
   "name": "python3"
  },
  "language_info": {
   "codemirror_mode": {
    "name": "ipython",
    "version": 3
   },
   "file_extension": ".py",
   "mimetype": "text/x-python",
   "name": "python",
   "nbconvert_exporter": "python",
   "pygments_lexer": "ipython3",
   "version": "3.7.4"
  }
 },
 "nbformat": 4,
 "nbformat_minor": 2
}
