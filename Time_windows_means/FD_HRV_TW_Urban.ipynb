{
 "cells": [
  {
   "cell_type": "code",
   "execution_count": 8,
   "metadata": {},
   "outputs": [
    {
     "data": {
      "text/plain": [
       "'/Users/verasale/iCloud Drive (Archive)/Desktop/RU2018-2020/2019-20/Major_research_project/Data_analysis/Physiological/BVP processed /BVP_urban/FD_HRV'"
      ]
     },
     "execution_count": 8,
     "metadata": {},
     "output_type": "execute_result"
    }
   ],
   "source": [
    "import pandas as pd\n",
    "import glob as glob\n",
    "import os \n",
    "os.getcwd()"
   ]
  },
  {
   "cell_type": "code",
   "execution_count": 9,
   "metadata": {},
   "outputs": [
    {
     "data": {
      "text/plain": [
       "IBI_VLF_Pow       201.392682\n",
       "IBI_LF_Pow        557.594795\n",
       "IBI_HF_Pow        857.457445\n",
       "IBI_Total_Pow    2343.666688\n",
       "IBI_VLF_Pow       208.706563\n",
       "dtype: float64"
      ]
     },
     "execution_count": 9,
     "metadata": {},
     "output_type": "execute_result"
    }
   ],
   "source": [
    "#Time window 1\n",
    "#first 18 minutes \n",
    "dfs = []\n",
    "for fname in glob.glob('F*.csv'):\n",
    "    df = pd.read_csv(fname)\n",
    "    dfs.append(df[['IBI_VLF_Pow','IBI_LF_Pow','IBI_HF_Pow','IBI_Total_Pow'] ].iloc[0:18].mean(axis=0))\n",
    "#pd.concat(dfs).to_csv('timewindow1.csv')\n",
    "\n",
    "df_summary = pd.concat(dfs, axis=0)\n",
    "df_summary.head()"
   ]
  },
  {
   "cell_type": "code",
   "execution_count": 10,
   "metadata": {},
   "outputs": [
    {
     "name": "stderr",
     "output_type": "stream",
     "text": [
      "/opt/anaconda3/lib/python3.7/site-packages/ipykernel_launcher.py:2: FutureWarning: The signature of `Series.to_csv` was aligned to that of `DataFrame.to_csv`, and argument 'header' will change its default value from False to True: please pass an explicit value to suppress this warning.\n",
      "  \n"
     ]
    }
   ],
   "source": [
    "#save to csv \n",
    "df_summary.to_csv('TimeWindow1_HRV_urban.csv')"
   ]
  },
  {
   "cell_type": "code",
   "execution_count": 11,
   "metadata": {},
   "outputs": [
    {
     "data": {
      "text/plain": [
       "IBI_VLF_Pow       243.809652\n",
       "IBI_LF_Pow        604.300319\n",
       "IBI_HF_Pow        833.080893\n",
       "IBI_Total_Pow    2396.963719\n",
       "IBI_VLF_Pow       202.131338\n",
       "dtype: float64"
      ]
     },
     "execution_count": 11,
     "metadata": {},
     "output_type": "execute_result"
    }
   ],
   "source": [
    "#Time window 2\n",
    "#first 18 minutes \n",
    "dfs = []\n",
    "for fname in glob.glob('F*.csv'):\n",
    "    df = pd.read_csv(fname)\n",
    "    dfs.append(df[['IBI_VLF_Pow','IBI_LF_Pow','IBI_HF_Pow','IBI_Total_Pow'] ].iloc[19:36].mean(axis=0))\n",
    "#pd.concat(dfs).to_csv('timewindow1.csv')\n",
    "\n",
    "df_summary = pd.concat(dfs, axis=0)\n",
    "df_summary.head()"
   ]
  },
  {
   "cell_type": "code",
   "execution_count": 12,
   "metadata": {},
   "outputs": [
    {
     "name": "stderr",
     "output_type": "stream",
     "text": [
      "/opt/anaconda3/lib/python3.7/site-packages/ipykernel_launcher.py:2: FutureWarning: The signature of `Series.to_csv` was aligned to that of `DataFrame.to_csv`, and argument 'header' will change its default value from False to True: please pass an explicit value to suppress this warning.\n",
      "  \n"
     ]
    }
   ],
   "source": [
    "#save to csv \n",
    "df_summary.to_csv('TimeWindow2_HRV_urban.csv')"
   ]
  },
  {
   "cell_type": "code",
   "execution_count": 13,
   "metadata": {},
   "outputs": [
    {
     "data": {
      "text/plain": [
       "IBI_VLF_Pow       271.454644\n",
       "IBI_LF_Pow        653.886441\n",
       "IBI_HF_Pow        831.844342\n",
       "IBI_Total_Pow    2460.312929\n",
       "IBI_VLF_Pow       181.541874\n",
       "dtype: float64"
      ]
     },
     "execution_count": 13,
     "metadata": {},
     "output_type": "execute_result"
    }
   ],
   "source": [
    "#Time window 3\n",
    "#first 18 minutes \n",
    "dfs = []\n",
    "for fname in glob.glob('F*.csv'):\n",
    "    df = pd.read_csv(fname)\n",
    "    dfs.append(df[['IBI_VLF_Pow','IBI_LF_Pow','IBI_HF_Pow','IBI_Total_Pow'] ].iloc[37:54].mean(axis=0))\n",
    "#pd.concat(dfs).to_csv('timewindow1.csv')\n",
    "\n",
    "df_summary = pd.concat(dfs, axis=0)\n",
    "df_summary.head()"
   ]
  },
  {
   "cell_type": "code",
   "execution_count": 14,
   "metadata": {},
   "outputs": [
    {
     "name": "stderr",
     "output_type": "stream",
     "text": [
      "/opt/anaconda3/lib/python3.7/site-packages/ipykernel_launcher.py:2: FutureWarning: The signature of `Series.to_csv` was aligned to that of `DataFrame.to_csv`, and argument 'header' will change its default value from False to True: please pass an explicit value to suppress this warning.\n",
      "  \n"
     ]
    }
   ],
   "source": [
    "#save to csv \n",
    "df_summary.to_csv('TimeWindow3_HRV_urban.csv')"
   ]
  },
  {
   "cell_type": "code",
   "execution_count": null,
   "metadata": {},
   "outputs": [],
   "source": []
  }
 ],
 "metadata": {
  "kernelspec": {
   "display_name": "Python 3",
   "language": "python",
   "name": "python3"
  },
  "language_info": {
   "codemirror_mode": {
    "name": "ipython",
    "version": 3
   },
   "file_extension": ".py",
   "mimetype": "text/x-python",
   "name": "python",
   "nbconvert_exporter": "python",
   "pygments_lexer": "ipython3",
   "version": "3.7.4"
  }
 },
 "nbformat": 4,
 "nbformat_minor": 2
}
