{
 "cells": [
  {
   "cell_type": "code",
   "execution_count": 1,
   "metadata": {},
   "outputs": [],
   "source": [
    "# import libraries\n",
    "import numpy as np\n",
    "import matplotlib.pyplot as plt\n",
    "import pandas as pd \n",
    "\n",
    "%matplotlib inline "
   ]
  },
  {
   "cell_type": "code",
   "execution_count": 2,
   "metadata": {},
   "outputs": [
    {
     "name": "stdout",
     "output_type": "stream",
     "text": [
      "Please cite:\n",
      "Bizzego et al. (2019) 'pyphysio: A physiological signal processing library for data science approaches in physiology', SoftwareX\n"
     ]
    }
   ],
   "source": [
    "# import all pyphysio classes and methods\n",
    "import pyphysio as ph"
   ]
  },
  {
   "cell_type": "code",
   "execution_count": 3,
   "metadata": {},
   "outputs": [],
   "source": [
    "# import data \n",
    "df_BVP = pd.read_csv('BVP_pp4.csv', header=None)"
   ]
  },
  {
   "cell_type": "code",
   "execution_count": 6,
   "metadata": {},
   "outputs": [
    {
     "name": "stdout",
     "output_type": "stream",
     "text": [
      "0    538252\n",
      "dtype: int64\n"
     ]
    }
   ],
   "source": [
    "n_of_rows = df_BVP.count()\n",
    "print(n_of_rows)"
   ]
  },
  {
   "cell_type": "code",
   "execution_count": 7,
   "metadata": {},
   "outputs": [
    {
     "name": "stdout",
     "output_type": "stream",
     "text": [
      "218880\n"
     ]
    }
   ],
   "source": [
    "#actual recording time 57 mins = 3420s\n",
    "#3420*4=n_rows_keep\n",
    "n_of_rows_keep = 3420*64\n",
    "print(n_of_rows_keep)"
   ]
  },
  {
   "cell_type": "code",
   "execution_count": 8,
   "metadata": {},
   "outputs": [
    {
     "name": "stdout",
     "output_type": "stream",
     "text": [
      "           0\n",
      "0       0.00\n",
      "1       0.00\n",
      "2       0.00\n",
      "3       0.00\n",
      "4       0.00\n",
      "...      ...\n",
      "218875 -5.49\n",
      "218876 -6.79\n",
      "218877 -7.73\n",
      "218878 -8.37\n",
      "218879 -8.83\n",
      "\n",
      "[218880 rows x 1 columns]\n"
     ]
    }
   ],
   "source": [
    "#using pandas to drop all the rows / seconds after 3420s \n",
    "df_BVP = df_BVP.drop(df_BVP.index[218880:538252])\n",
    "\n",
    "print(df_BVP)"
   ]
  },
  {
   "cell_type": "code",
   "execution_count": 9,
   "metadata": {},
   "outputs": [
    {
     "name": "stdout",
     "output_type": "stream",
     "text": [
      "0    218880\n",
      "dtype: int64\n",
      "0    3420.0\n",
      "dtype: float64\n",
      "0    57.0\n",
      "dtype: float64\n"
     ]
    }
   ],
   "source": [
    "#recording is longer than actually is \n",
    "#count n of rows to get time of recording (s) \n",
    "n_of_rows = df_BVP.count()\n",
    "print(n_of_rows)\n",
    "#walk time in seconds \n",
    "walk_time_seconds = n_of_rows/64\n",
    "print(walk_time_seconds)\n",
    "#walk time in minutes\n",
    "walk_time_minutes = walk_time_seconds/60\n",
    "print(walk_time_minutes)"
   ]
  },
  {
   "cell_type": "code",
   "execution_count": 10,
   "metadata": {},
   "outputs": [],
   "source": [
    "#create BVP signal \n",
    "fsamp = 64  #64 Hz = 0.015625 s(p)\n",
    "ecg = ph.EvenlySignal(values = df_BVP, sampling_freq = fsamp, signal_type = 'ecg')\n",
    "tstart_df_BVP = 100 #s"
   ]
  },
  {
   "cell_type": "code",
   "execution_count": 11,
   "metadata": {},
   "outputs": [
    {
     "data": {
      "text/plain": [
       "[<matplotlib.lines.Line2D at 0x1c21010c10>]"
      ]
     },
     "execution_count": 11,
     "metadata": {},
     "output_type": "execute_result"
    },
    {
     "data": {
      "image/png": "[encoded data removed]",
      "text/plain": [
       "<Figure size 432x288 with 1 Axes>"
      ]
     },
     "metadata": {
      "needs_background": "light"
     },
     "output_type": "display_data"
    }
   ],
   "source": [
    "ecg.plot()"
   ]
  },
  {
   "cell_type": "code",
   "execution_count": 12,
   "metadata": {},
   "outputs": [],
   "source": [
    "ibi = ph.BeatFromECG()(ecg)"
   ]
  },
  {
   "cell_type": "code",
   "execution_count": 13,
   "metadata": {},
   "outputs": [
    {
     "data": {
      "text/plain": [
       "3420.0"
      ]
     },
     "execution_count": 13,
     "metadata": {},
     "output_type": "execute_result"
    }
   ],
   "source": [
    "ibi.get_duration() #"
   ]
  },
  {
   "cell_type": "code",
   "execution_count": 14,
   "metadata": {},
   "outputs": [],
   "source": [
    "# create label\n",
    "label = np.zeros(3420)\n",
    "label[0:600] = 1\n",
    "label[600:3420] = 2\n",
    "\n",
    "label = ph.EvenlySignal(label, sampling_freq = 1, signal_type = 'label') \n",
    "#sampling_freq here is not intended as real sampfeq, only the distance between one point and the other (e.g. 10 = 10 units between 'begin' & 'end')"
   ]
  },
  {
   "cell_type": "code",
   "execution_count": 15,
   "metadata": {},
   "outputs": [],
   "source": [
    "# (optional) IIR filtering : remove high frequency noise\n",
    "#ecg = ph.IIRFilter(fp=45, fs = 50, ftype='ellip')(ecg)"
   ]
  },
  {
   "cell_type": "code",
   "execution_count": 16,
   "metadata": {},
   "outputs": [],
   "source": [
    "# normalization : normalize data\n",
    "ecg = ph.Normalize(norm_method='standard')(ecg)"
   ]
  },
  {
   "cell_type": "code",
   "execution_count": 17,
   "metadata": {},
   "outputs": [],
   "source": [
    "# resampling : increase the sampling frequency by cubic interpolation\n",
    "ecg = ecg.resample(fout=4096, kind='cubic')\n",
    "fsamp = 4096"
   ]
  },
  {
   "cell_type": "code",
   "execution_count": 18,
   "metadata": {},
   "outputs": [
    {
     "data": {
      "text/plain": [
       "[<matplotlib.lines.Line2D at 0x1c2157fd50>]"
      ]
     },
     "execution_count": 18,
     "metadata": {},
     "output_type": "execute_result"
    },
    {
     "data": {
      "image/png": "[encoded data removed]",
      "text/plain": [
       "<Figure size 432x288 with 1 Axes>"
      ]
     },
     "metadata": {
      "needs_background": "light"
     },
     "output_type": "display_data"
    }
   ],
   "source": [
    "ecg.plot()"
   ]
  },
  {
   "cell_type": "code",
   "execution_count": 20,
   "metadata": {},
   "outputs": [],
   "source": [
    "ibi = ph.BeatFromECG()(ecg)"
   ]
  },
  {
   "cell_type": "code",
   "execution_count": 22,
   "metadata": {},
   "outputs": [
    {
     "data": {
      "text/plain": [
       "3420.0"
      ]
     },
     "execution_count": 22,
     "metadata": {},
     "output_type": "execute_result"
    }
   ],
   "source": [
    "ibi.get_duration()"
   ]
  },
  {
   "cell_type": "code",
   "execution_count": 23,
   "metadata": {
    "scrolled": true
   },
   "outputs": [
    {
     "data": {
      "image/png": "[encoded data removed]",
      "text/plain": [
       "<Figure size 432x288 with 2 Axes>"
      ]
     },
     "metadata": {
      "needs_background": "light"
     },
     "output_type": "display_data"
    }
   ],
   "source": [
    "# check results so far\n",
    "ax1 = plt.subplot(211)\n",
    "ecg.plot()\n",
    "plt.vlines(ibi.get_times(), np.min(ecg), np.max(ecg))\n",
    "\n",
    "plt.subplot(212, sharex = ax1)\n",
    "ibi.plot('o-')\n",
    "plt.vlines(ibi.get_times(), np.min(ibi), np.max(ibi))\n",
    "plt.show()"
   ]
  },
  {
   "cell_type": "code",
   "execution_count": 19,
   "metadata": {},
   "outputs": [],
   "source": [
    "### physiological indicators "
   ]
  },
  {
   "cell_type": "code",
   "execution_count": 24,
   "metadata": {},
   "outputs": [
    {
     "data": {
      "image/png": "[encoded data removed]",
      "text/plain": [
       "<Figure size 432x288 with 2 Axes>"
      ]
     },
     "metadata": {
      "needs_background": "light"
     },
     "output_type": "display_data"
    }
   ],
   "source": [
    "# check label\n",
    "ax1 = plt.subplot(211)\n",
    "ibi.plot('.-')\n",
    "\n",
    "plt.subplot(212, sharex = ax1)\n",
    "label.plot('.-')\n",
    "plt.show()\n"
   ]
  },
  {
   "cell_type": "code",
   "execution_count": 25,
   "metadata": {},
   "outputs": [],
   "source": [
    "# define a list of indicators we want to compute\n",
    "hrv_indicators = [ph.Mean(name='RRmean'), ph.StDev(name='RRstd'), ph.RMSSD(name='rmsSD')]"
   ]
  },
  {
   "cell_type": "code",
   "execution_count": 26,
   "metadata": {},
   "outputs": [],
   "source": [
    "#fixed length windowing\n",
    "fixed_length = ph.FixedSegments(step = 60, width = 60, labels = label)\n",
    "\n",
    "indicators, col_names = ph.fmap(fixed_length, hrv_indicators, ibi)"
   ]
  },
  {
   "cell_type": "code",
   "execution_count": 27,
   "metadata": {},
   "outputs": [],
   "source": [
    "# extract column with the labels for each window\n",
    "label_w = indicators[:, np.where(col_names == 'label')[0]]\n",
    "\n",
    "# extract column with the RRmean values computed from each window\n",
    "rrmean_w = indicators[:, np.where(col_names == 'RRmean')[0]]\n",
    "\n",
    "rrmean_image1 = rrmean_w[np.where(label_w==1)[0]].ravel()\n",
    "rrmean_image2 = rrmean_w[np.where(label_w==2)[0]].ravel()"
   ]
  },
  {
   "cell_type": "code",
   "execution_count": 28,
   "metadata": {},
   "outputs": [
    {
     "data": {
      "text/plain": [
       "{'whiskers': [<matplotlib.lines.Line2D at 0x1c1f81f950>,\n",
       "  <matplotlib.lines.Line2D at 0x1c1f81ff10>,\n",
       "  <matplotlib.lines.Line2D at 0x1c215056d0>,\n",
       "  <matplotlib.lines.Line2D at 0x1c1f1bd290>],\n",
       " 'caps': [<matplotlib.lines.Line2D at 0x1c1f2b2310>,\n",
       "  <matplotlib.lines.Line2D at 0x1c215052d0>,\n",
       "  <matplotlib.lines.Line2D at 0x1c1f7f3450>,\n",
       "  <matplotlib.lines.Line2D at 0x1c1f7f3d10>],\n",
       " 'boxes': [<matplotlib.lines.Line2D at 0x1c1f2b28d0>,\n",
       "  <matplotlib.lines.Line2D at 0x1c1f1bd310>],\n",
       " 'medians': [<matplotlib.lines.Line2D at 0x1c1f81fd50>,\n",
       "  <matplotlib.lines.Line2D at 0x1c214f63d0>],\n",
       " 'fliers': [<matplotlib.lines.Line2D at 0x1c1f1bd0d0>,\n",
       "  <matplotlib.lines.Line2D at 0x1c214f68d0>],\n",
       " 'means': []}"
      ]
     },
     "execution_count": 28,
     "metadata": {},
     "output_type": "execute_result"
    },
    {
     "data": {
      "image/png": "[encoded data removed]",
      "text/plain": [
       "<Figure size 432x288 with 1 Axes>"
      ]
     },
     "metadata": {
      "needs_background": "light"
     },
     "output_type": "display_data"
    }
   ],
   "source": [
    "## create a box and whisker plot to compare the distibution of the RRmean indicator\n",
    "plt.boxplot([rrmean_image1, rrmean_image2],\n",
    "            labels=['baseline', 'recording time'])"
   ]
  },
  {
   "cell_type": "code",
   "execution_count": 29,
   "metadata": {},
   "outputs": [
    {
     "name": "stdout",
     "output_type": "stream",
     "text": [
      "[IBI_VLF_Pow, IBI_LF_Pow, IBI_HF_Pow, IBI_Total_Pow]\n",
      "{'freq_min': 1e-05, 'freq_max': 0.04, 'method': 'ar', 'interp_freq': 4, 'name': 'IBI_VLF_Pow'}\n"
     ]
    }
   ],
   "source": [
    "HRV_FD = ph.preset_hrv_fd() #frequency domain HRV indicators\n",
    "print(HRV_FD)\n",
    "\n",
    "print(HRV_FD[0].get())"
   ]
  },
  {
   "cell_type": "code",
   "execution_count": 30,
   "metadata": {},
   "outputs": [],
   "source": [
    "FD_HRV_ind, col_names = ph.fmap(fixed_length, ph.preset_hrv_fd(), ibi.resample(4))"
   ]
  },
  {
   "cell_type": "code",
   "execution_count": 32,
   "metadata": {},
   "outputs": [
    {
     "data": {
      "text/html": [
       "<div>\n",
       "<style scoped>\n",
       "    .dataframe tbody tr th:only-of-type {\n",
       "        vertical-align: middle;\n",
       "    }\n",
       "\n",
       "    .dataframe tbody tr th {\n",
       "        vertical-align: top;\n",
       "    }\n",
       "\n",
       "    .dataframe thead th {\n",
       "        text-align: right;\n",
       "    }\n",
       "</style>\n",
       "<table border=\"1\" class=\"dataframe\">\n",
       "  <thead>\n",
       "    <tr style=\"text-align: right;\">\n",
       "      <th></th>\n",
       "      <th>begin</th>\n",
       "      <th>end</th>\n",
       "      <th>label</th>\n",
       "      <th>IBI_VLF_Pow</th>\n",
       "      <th>IBI_LF_Pow</th>\n",
       "      <th>IBI_HF_Pow</th>\n",
       "      <th>IBI_Total_Pow</th>\n",
       "    </tr>\n",
       "  </thead>\n",
       "  <tbody>\n",
       "    <tr>\n",
       "      <td>0</td>\n",
       "      <td>1.231934</td>\n",
       "      <td>61.231934</td>\n",
       "      <td>1.0</td>\n",
       "      <td>172.329128</td>\n",
       "      <td>517.368341</td>\n",
       "      <td>832.570916</td>\n",
       "      <td>2222.290881</td>\n",
       "    </tr>\n",
       "    <tr>\n",
       "      <td>1</td>\n",
       "      <td>61.231934</td>\n",
       "      <td>121.231934</td>\n",
       "      <td>1.0</td>\n",
       "      <td>166.053879</td>\n",
       "      <td>571.061760</td>\n",
       "      <td>797.579106</td>\n",
       "      <td>2222.404715</td>\n",
       "    </tr>\n",
       "    <tr>\n",
       "      <td>2</td>\n",
       "      <td>121.231934</td>\n",
       "      <td>181.231934</td>\n",
       "      <td>1.0</td>\n",
       "      <td>195.340190</td>\n",
       "      <td>449.959096</td>\n",
       "      <td>924.516545</td>\n",
       "      <td>2317.339360</td>\n",
       "    </tr>\n",
       "    <tr>\n",
       "      <td>3</td>\n",
       "      <td>181.231934</td>\n",
       "      <td>241.231934</td>\n",
       "      <td>1.0</td>\n",
       "      <td>382.923938</td>\n",
       "      <td>740.336090</td>\n",
       "      <td>867.147253</td>\n",
       "      <td>2686.296053</td>\n",
       "    </tr>\n",
       "    <tr>\n",
       "      <td>4</td>\n",
       "      <td>241.231934</td>\n",
       "      <td>301.231934</td>\n",
       "      <td>1.0</td>\n",
       "      <td>272.811671</td>\n",
       "      <td>432.771252</td>\n",
       "      <td>748.751005</td>\n",
       "      <td>2122.220770</td>\n",
       "    </tr>\n",
       "  </tbody>\n",
       "</table>\n",
       "</div>"
      ],
      "text/plain": [
       "        begin         end  label  IBI_VLF_Pow  IBI_LF_Pow  IBI_HF_Pow  \\\n",
       "0    1.231934   61.231934    1.0   172.329128  517.368341  832.570916   \n",
       "1   61.231934  121.231934    1.0   166.053879  571.061760  797.579106   \n",
       "2  121.231934  181.231934    1.0   195.340190  449.959096  924.516545   \n",
       "3  181.231934  241.231934    1.0   382.923938  740.336090  867.147253   \n",
       "4  241.231934  301.231934    1.0   272.811671  432.771252  748.751005   \n",
       "\n",
       "   IBI_Total_Pow  \n",
       "0    2222.290881  \n",
       "1    2222.404715  \n",
       "2    2317.339360  \n",
       "3    2686.296053  \n",
       "4    2122.220770  "
      ]
     },
     "execution_count": 32,
     "metadata": {},
     "output_type": "execute_result"
    }
   ],
   "source": [
    "import pandas as pd\n",
    "\n",
    "# create a pandas dataframe\n",
    "FD_HRV_pp4_df = pd.DataFrame(FD_HRV_ind, columns=col_names)\n",
    "\n",
    "FD_HRV_pp4_df.head()"
   ]
  },
  {
   "cell_type": "code",
   "execution_count": 33,
   "metadata": {},
   "outputs": [],
   "source": [
    "#save data \n",
    "FD_HRV_pp4_df.to_csv('FD_HRV_pp4.csv')"
   ]
  },
  {
   "cell_type": "code",
   "execution_count": null,
   "metadata": {},
   "outputs": [],
   "source": []
  }
 ],
 "metadata": {
  "kernelspec": {
   "display_name": "Python 3",
   "language": "python",
   "name": "python3"
  },
  "language_info": {
   "codemirror_mode": {
    "name": "ipython",
    "version": 3
   },
   "file_extension": ".py",
   "mimetype": "text/x-python",
   "name": "python",
   "nbconvert_exporter": "python",
   "pygments_lexer": "ipython3",
   "version": "3.7.4"
  }
 },
 "nbformat": 4,
 "nbformat_minor": 2
}
