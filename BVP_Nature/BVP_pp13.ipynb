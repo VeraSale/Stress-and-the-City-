{
 "cells": [
  {
   "cell_type": "code",
   "execution_count": 2,
   "metadata": {},
   "outputs": [],
   "source": [
    "# import libraries\n",
    "import numpy as np\n",
    "import matplotlib.pyplot as plt\n",
    "import pandas as pd \n",
    "\n",
    "%matplotlib inline "
   ]
  },
  {
   "cell_type": "code",
   "execution_count": 3,
   "metadata": {},
   "outputs": [
    {
     "name": "stdout",
     "output_type": "stream",
     "text": [
      "Please cite:\n",
      "Bizzego et al. (2019) 'pyphysio: A physiological signal processing library for data science approaches in physiology', SoftwareX\n"
     ]
    }
   ],
   "source": [
    "# import all pyphysio classes and methods\n",
    "import pyphysio as ph"
   ]
  },
  {
   "cell_type": "code",
   "execution_count": 4,
   "metadata": {},
   "outputs": [],
   "source": [
    "# import data \n",
    "df_BVP = pd.read_csv('BVP_pp13.csv', header=None)"
   ]
  },
  {
   "cell_type": "code",
   "execution_count": 6,
   "metadata": {},
   "outputs": [
    {
     "name": "stdout",
     "output_type": "stream",
     "text": [
      "0    285098\n",
      "dtype: int64\n"
     ]
    }
   ],
   "source": [
    "n_of_rows = df_BVP.count()\n",
    "print(n_of_rows)"
   ]
  },
  {
   "cell_type": "code",
   "execution_count": 7,
   "metadata": {},
   "outputs": [
    {
     "name": "stdout",
     "output_type": "stream",
     "text": [
      "226560\n"
     ]
    }
   ],
   "source": [
    "#actual recording time x mins = 3540s\n",
    "#3420*4=n_rows_keep\n",
    "n_of_rows_keep = 3540*64\n",
    "print(n_of_rows_keep)"
   ]
  },
  {
   "cell_type": "code",
   "execution_count": 9,
   "metadata": {},
   "outputs": [
    {
     "name": "stdout",
     "output_type": "stream",
     "text": [
      "           0\n",
      "0       0.00\n",
      "1       0.00\n",
      "2       0.00\n",
      "3       0.00\n",
      "4       0.00\n",
      "...      ...\n",
      "226555  9.13\n",
      "226556  8.76\n",
      "226557  8.60\n",
      "226558  8.69\n",
      "226559  8.82\n",
      "\n",
      "[226560 rows x 1 columns]\n"
     ]
    }
   ],
   "source": [
    "#using pandas to drop all the rows / seconds after 3420s \n",
    "df_BVP = df_BVP.drop(df_BVP.index[226560:285098])\n",
    "\n",
    "print(df_BVP)"
   ]
  },
  {
   "cell_type": "code",
   "execution_count": 10,
   "metadata": {},
   "outputs": [
    {
     "name": "stdout",
     "output_type": "stream",
     "text": [
      "0    226560\n",
      "dtype: int64\n",
      "0    3540.0\n",
      "dtype: float64\n",
      "0    59.0\n",
      "dtype: float64\n"
     ]
    }
   ],
   "source": [
    "#recording is longer than actually is (3540s) \n",
    "#count n of rows to get time of recording (s) \n",
    "n_of_rows = df_BVP.count()\n",
    "print(n_of_rows)\n",
    "#walk time in seconds \n",
    "walk_time_seconds = n_of_rows/64\n",
    "print(walk_time_seconds)\n",
    "#walk time in minutes\n",
    "walk_time_minutes = walk_time_seconds/60\n",
    "print(walk_time_minutes)"
   ]
  },
  {
   "cell_type": "code",
   "execution_count": 11,
   "metadata": {},
   "outputs": [],
   "source": [
    "#create BVP signal \n",
    "fsamp = 64  #64 Hz = 0.015625 s(p)\n",
    "ecg = ph.EvenlySignal(values = df_BVP, sampling_freq = fsamp, signal_type = 'ecg')\n",
    "tstart_df_BVP = 100 #s"
   ]
  },
  {
   "cell_type": "code",
   "execution_count": 12,
   "metadata": {},
   "outputs": [
    {
     "data": {
      "text/plain": [
       "[<matplotlib.lines.Line2D at 0x1c246d4590>]"
      ]
     },
     "execution_count": 12,
     "metadata": {},
     "output_type": "execute_result"
    },
    {
     "data": {
      "image/png": "[encoded data removed]",
      "text/plain": [
       "<Figure size 432x288 with 1 Axes>"
      ]
     },
     "metadata": {
      "needs_background": "light"
     },
     "output_type": "display_data"
    }
   ],
   "source": [
    "ecg.plot()"
   ]
  },
  {
   "cell_type": "code",
   "execution_count": 13,
   "metadata": {},
   "outputs": [],
   "source": [
    "ibi = ph.BeatFromECG()(ecg)"
   ]
  },
  {
   "cell_type": "code",
   "execution_count": 14,
   "metadata": {},
   "outputs": [
    {
     "data": {
      "text/plain": [
       "3540.0"
      ]
     },
     "execution_count": 14,
     "metadata": {},
     "output_type": "execute_result"
    }
   ],
   "source": [
    "ibi.get_duration() #"
   ]
  },
  {
   "cell_type": "code",
   "execution_count": 15,
   "metadata": {},
   "outputs": [],
   "source": [
    "# create label\n",
    "label = np.zeros(3540)\n",
    "label[0:600] = 1\n",
    "label[600:3540] = 2\n",
    "\n",
    "label = ph.EvenlySignal(label, sampling_freq = 1, signal_type = 'label') \n",
    "#sampling_freq here is not intended as real sampfeq, only the distance between one point and the other (e.g. 10 = 10 units between 'begin' & 'end')"
   ]
  },
  {
   "cell_type": "code",
   "execution_count": 16,
   "metadata": {},
   "outputs": [
    {
     "ename": "ValueError",
     "evalue": "cannot convert float NaN to integer",
     "output_type": "error",
     "traceback": [
      "\u001b[0;31m---------------------------------------------------------------------------\u001b[0m",
      "\u001b[0;31mValueError\u001b[0m                                Traceback (most recent call last)",
      "\u001b[0;32m<ipython-input-16-afa68689d233>\u001b[0m in \u001b[0;36m<module>\u001b[0;34m\u001b[0m\n\u001b[1;32m      1\u001b[0m \u001b[0;31m# (optional) IIR filtering : remove high frequency noise\u001b[0m\u001b[0;34m\u001b[0m\u001b[0;34m\u001b[0m\u001b[0;34m\u001b[0m\u001b[0m\n\u001b[0;32m----> 2\u001b[0;31m \u001b[0mecg\u001b[0m \u001b[0;34m=\u001b[0m \u001b[0mph\u001b[0m\u001b[0;34m.\u001b[0m\u001b[0mIIRFilter\u001b[0m\u001b[0;34m(\u001b[0m\u001b[0mfp\u001b[0m\u001b[0;34m=\u001b[0m\u001b[0;36m45\u001b[0m\u001b[0;34m,\u001b[0m \u001b[0mfs\u001b[0m \u001b[0;34m=\u001b[0m \u001b[0;36m50\u001b[0m\u001b[0;34m,\u001b[0m \u001b[0mftype\u001b[0m\u001b[0;34m=\u001b[0m\u001b[0;34m'ellip'\u001b[0m\u001b[0;34m)\u001b[0m\u001b[0;34m(\u001b[0m\u001b[0mecg\u001b[0m\u001b[0;34m)\u001b[0m\u001b[0;34m\u001b[0m\u001b[0;34m\u001b[0m\u001b[0m\n\u001b[0m",
      "\u001b[0;32m/opt/anaconda3/lib/python3.7/site-packages/pyphysio-2.1-py3.7.egg/pyphysio/BaseAlgorithm.py\u001b[0m in \u001b[0;36m__call__\u001b[0;34m(self, data)\u001b[0m\n\u001b[1;32m     35\u001b[0m         \u001b[0;34m@\u001b[0m\u001b[0;32mreturn\u001b[0m\u001b[0;34m:\u001b[0m \u001b[0mThe\u001b[0m \u001b[0mresult\u001b[0m\u001b[0;34m.\u001b[0m\u001b[0;34m\u001b[0m\u001b[0;34m\u001b[0m\u001b[0m\n\u001b[1;32m     36\u001b[0m         \"\"\"\n\u001b[0;32m---> 37\u001b[0;31m         \u001b[0;32mreturn\u001b[0m \u001b[0mself\u001b[0m\u001b[0;34m.\u001b[0m\u001b[0mrun\u001b[0m\u001b[0;34m(\u001b[0m\u001b[0mdata\u001b[0m\u001b[0;34m,\u001b[0m \u001b[0mself\u001b[0m\u001b[0;34m.\u001b[0m\u001b[0m_params\u001b[0m\u001b[0;34m)\u001b[0m\u001b[0;34m\u001b[0m\u001b[0;34m\u001b[0m\u001b[0m\n\u001b[0m\u001b[1;32m     38\u001b[0m \u001b[0;34m\u001b[0m\u001b[0m\n\u001b[1;32m     39\u001b[0m     \u001b[0;32mdef\u001b[0m \u001b[0m__repr__\u001b[0m\u001b[0;34m(\u001b[0m\u001b[0mself\u001b[0m\u001b[0;34m)\u001b[0m\u001b[0;34m:\u001b[0m\u001b[0;34m\u001b[0m\u001b[0;34m\u001b[0m\u001b[0m\n",
      "\u001b[0;32m/opt/anaconda3/lib/python3.7/site-packages/pyphysio-2.1-py3.7.egg/pyphysio/BaseAlgorithm.py\u001b[0m in \u001b[0;36mrun\u001b[0;34m(cls, data, params, use_cache, **kwargs)\u001b[0m\n\u001b[1;32m     81\u001b[0m         \u001b[0;32melse\u001b[0m\u001b[0;34m:\u001b[0m\u001b[0;34m\u001b[0m\u001b[0;34m\u001b[0m\u001b[0m\n\u001b[1;32m     82\u001b[0m             \u001b[0;32mif\u001b[0m \u001b[0;32mnot\u001b[0m \u001b[0mdata\u001b[0m\u001b[0;34m.\u001b[0m\u001b[0mis_multi\u001b[0m\u001b[0;34m(\u001b[0m\u001b[0;34m)\u001b[0m\u001b[0;34m:\u001b[0m\u001b[0;34m\u001b[0m\u001b[0;34m\u001b[0m\u001b[0m\n\u001b[0;32m---> 83\u001b[0;31m                 \u001b[0;32mreturn\u001b[0m \u001b[0mcls\u001b[0m\u001b[0;34m.\u001b[0m\u001b[0malgorithm\u001b[0m\u001b[0;34m(\u001b[0m\u001b[0mdata\u001b[0m\u001b[0;34m,\u001b[0m \u001b[0mkwargs\u001b[0m\u001b[0;34m)\u001b[0m\u001b[0;34m\u001b[0m\u001b[0;34m\u001b[0m\u001b[0m\n\u001b[0m\u001b[1;32m     84\u001b[0m             \u001b[0;32melse\u001b[0m\u001b[0;34m:\u001b[0m\u001b[0;34m\u001b[0m\u001b[0;34m\u001b[0m\u001b[0m\n\u001b[1;32m     85\u001b[0m                 \u001b[0mdata_values\u001b[0m \u001b[0;34m=\u001b[0m \u001b[0mdata\u001b[0m\u001b[0;34m.\u001b[0m\u001b[0mget_values\u001b[0m\u001b[0;34m(\u001b[0m\u001b[0;34m)\u001b[0m\u001b[0;34m\u001b[0m\u001b[0;34m\u001b[0m\u001b[0m\n",
      "\u001b[0;32m/opt/anaconda3/lib/python3.7/site-packages/pyphysio-2.1-py3.7.egg/pyphysio/filters/Filters.py\u001b[0m in \u001b[0;36malgorithm\u001b[0;34m(cls, signal, params)\u001b[0m\n\u001b[1;32m    120\u001b[0m         \u001b[0mws\u001b[0m \u001b[0;34m=\u001b[0m \u001b[0mfs\u001b[0m \u001b[0;34m/\u001b[0m \u001b[0mnyq\u001b[0m\u001b[0;34m\u001b[0m\u001b[0;34m\u001b[0m\u001b[0m\n\u001b[1;32m    121\u001b[0m         \u001b[0;31m# noinspection PyTupleAssignmentBalance\u001b[0m\u001b[0;34m\u001b[0m\u001b[0;34m\u001b[0m\u001b[0;34m\u001b[0m\u001b[0m\n\u001b[0;32m--> 122\u001b[0;31m         \u001b[0mb\u001b[0m\u001b[0;34m,\u001b[0m \u001b[0ma\u001b[0m \u001b[0;34m=\u001b[0m \u001b[0m_filter_design\u001b[0m\u001b[0;34m.\u001b[0m\u001b[0miirdesign\u001b[0m\u001b[0;34m(\u001b[0m\u001b[0mwp\u001b[0m\u001b[0;34m,\u001b[0m \u001b[0mws\u001b[0m\u001b[0;34m,\u001b[0m \u001b[0mloss\u001b[0m\u001b[0;34m,\u001b[0m \u001b[0matt\u001b[0m\u001b[0;34m,\u001b[0m \u001b[0mftype\u001b[0m\u001b[0;34m=\u001b[0m\u001b[0mftype\u001b[0m\u001b[0;34m,\u001b[0m \u001b[0moutput\u001b[0m\u001b[0;34m=\u001b[0m\u001b[0;34m\"ba\"\u001b[0m\u001b[0;34m)\u001b[0m\u001b[0;34m\u001b[0m\u001b[0;34m\u001b[0m\u001b[0m\n\u001b[0m\u001b[1;32m    123\u001b[0m \u001b[0;34m\u001b[0m\u001b[0m\n\u001b[1;32m    124\u001b[0m         \u001b[0msig_filtered\u001b[0m \u001b[0;34m=\u001b[0m \u001b[0msignal\u001b[0m\u001b[0;34m.\u001b[0m\u001b[0mclone_properties\u001b[0m\u001b[0;34m(\u001b[0m\u001b[0m_filtfilt\u001b[0m\u001b[0;34m(\u001b[0m\u001b[0mb\u001b[0m\u001b[0;34m,\u001b[0m \u001b[0ma\u001b[0m\u001b[0;34m,\u001b[0m \u001b[0msignal\u001b[0m\u001b[0;34m.\u001b[0m\u001b[0mget_values\u001b[0m\u001b[0;34m(\u001b[0m\u001b[0;34m)\u001b[0m\u001b[0;34m)\u001b[0m\u001b[0;34m)\u001b[0m\u001b[0;34m\u001b[0m\u001b[0;34m\u001b[0m\u001b[0m\n",
      "\u001b[0;32m/opt/anaconda3/lib/python3.7/site-packages/scipy/signal/filter_design.py\u001b[0m in \u001b[0;36miirdesign\u001b[0;34m(wp, ws, gpass, gstop, analog, ftype, output, fs)\u001b[0m\n\u001b[1;32m   2168\u001b[0m              3: 'bandstop', 4: 'bandpass'}[band_type]\n\u001b[1;32m   2169\u001b[0m \u001b[0;34m\u001b[0m\u001b[0m\n\u001b[0;32m-> 2170\u001b[0;31m     \u001b[0mN\u001b[0m\u001b[0;34m,\u001b[0m \u001b[0mWn\u001b[0m \u001b[0;34m=\u001b[0m \u001b[0mordfunc\u001b[0m\u001b[0;34m(\u001b[0m\u001b[0mwp\u001b[0m\u001b[0;34m,\u001b[0m \u001b[0mws\u001b[0m\u001b[0;34m,\u001b[0m \u001b[0mgpass\u001b[0m\u001b[0;34m,\u001b[0m \u001b[0mgstop\u001b[0m\u001b[0;34m,\u001b[0m \u001b[0manalog\u001b[0m\u001b[0;34m=\u001b[0m\u001b[0manalog\u001b[0m\u001b[0;34m,\u001b[0m \u001b[0mfs\u001b[0m\u001b[0;34m=\u001b[0m\u001b[0mfs\u001b[0m\u001b[0;34m)\u001b[0m\u001b[0;34m\u001b[0m\u001b[0;34m\u001b[0m\u001b[0m\n\u001b[0m\u001b[1;32m   2171\u001b[0m     return iirfilter(N, Wn, rp=gpass, rs=gstop, analog=analog, btype=btype,\n\u001b[1;32m   2172\u001b[0m                      ftype=ftype, output=output, fs=fs)\n",
      "\u001b[0;32m/opt/anaconda3/lib/python3.7/site-packages/scipy/signal/filter_design.py\u001b[0m in \u001b[0;36mellipord\u001b[0;34m(wp, ws, gpass, gstop, analog, fs)\u001b[0m\n\u001b[1;32m   4027\u001b[0m     \u001b[0md0\u001b[0m \u001b[0;34m=\u001b[0m \u001b[0mspecial\u001b[0m\u001b[0;34m.\u001b[0m\u001b[0mellipk\u001b[0m\u001b[0;34m(\u001b[0m\u001b[0;34m[\u001b[0m\u001b[0marg0\u001b[0m \u001b[0;34m**\u001b[0m \u001b[0;36m2\u001b[0m\u001b[0;34m,\u001b[0m \u001b[0;36m1\u001b[0m \u001b[0;34m-\u001b[0m \u001b[0marg0\u001b[0m \u001b[0;34m**\u001b[0m \u001b[0;36m2\u001b[0m\u001b[0;34m]\u001b[0m\u001b[0;34m)\u001b[0m\u001b[0;34m\u001b[0m\u001b[0;34m\u001b[0m\u001b[0m\n\u001b[1;32m   4028\u001b[0m     \u001b[0md1\u001b[0m \u001b[0;34m=\u001b[0m \u001b[0mspecial\u001b[0m\u001b[0;34m.\u001b[0m\u001b[0mellipk\u001b[0m\u001b[0;34m(\u001b[0m\u001b[0;34m[\u001b[0m\u001b[0marg1\u001b[0m \u001b[0;34m**\u001b[0m \u001b[0;36m2\u001b[0m\u001b[0;34m,\u001b[0m \u001b[0;36m1\u001b[0m \u001b[0;34m-\u001b[0m \u001b[0marg1\u001b[0m \u001b[0;34m**\u001b[0m \u001b[0;36m2\u001b[0m\u001b[0;34m]\u001b[0m\u001b[0;34m)\u001b[0m\u001b[0;34m\u001b[0m\u001b[0;34m\u001b[0m\u001b[0m\n\u001b[0;32m-> 4029\u001b[0;31m     \u001b[0mord\u001b[0m \u001b[0;34m=\u001b[0m \u001b[0mint\u001b[0m\u001b[0;34m(\u001b[0m\u001b[0mceil\u001b[0m\u001b[0;34m(\u001b[0m\u001b[0md0\u001b[0m\u001b[0;34m[\u001b[0m\u001b[0;36m0\u001b[0m\u001b[0;34m]\u001b[0m \u001b[0;34m*\u001b[0m \u001b[0md1\u001b[0m\u001b[0;34m[\u001b[0m\u001b[0;36m1\u001b[0m\u001b[0;34m]\u001b[0m \u001b[0;34m/\u001b[0m \u001b[0;34m(\u001b[0m\u001b[0md0\u001b[0m\u001b[0;34m[\u001b[0m\u001b[0;36m1\u001b[0m\u001b[0;34m]\u001b[0m \u001b[0;34m*\u001b[0m \u001b[0md1\u001b[0m\u001b[0;34m[\u001b[0m\u001b[0;36m0\u001b[0m\u001b[0;34m]\u001b[0m\u001b[0;34m)\u001b[0m\u001b[0;34m)\u001b[0m\u001b[0;34m)\u001b[0m\u001b[0;34m\u001b[0m\u001b[0;34m\u001b[0m\u001b[0m\n\u001b[0m\u001b[1;32m   4030\u001b[0m \u001b[0;34m\u001b[0m\u001b[0m\n\u001b[1;32m   4031\u001b[0m     \u001b[0;32mif\u001b[0m \u001b[0;32mnot\u001b[0m \u001b[0manalog\u001b[0m\u001b[0;34m:\u001b[0m\u001b[0;34m\u001b[0m\u001b[0;34m\u001b[0m\u001b[0m\n",
      "\u001b[0;31mValueError\u001b[0m: cannot convert float NaN to integer"
     ]
    }
   ],
   "source": [
    "# (optional) IIR filtering : remove high frequency noise\n",
    "ecg = ph.IIRFilter(fp=45, fs = 50, ftype='ellip')(ecg)"
   ]
  },
  {
   "cell_type": "code",
   "execution_count": 17,
   "metadata": {},
   "outputs": [],
   "source": [
    "# normalization : normalize data\n",
    "ecg = ph.Normalize(norm_method='standard')(ecg)"
   ]
  },
  {
   "cell_type": "code",
   "execution_count": 18,
   "metadata": {},
   "outputs": [],
   "source": [
    "# resampling : increase the sampling frequency by cubic interpolation\n",
    "ecg = ecg.resample(fout=4096, kind='cubic')\n",
    "fsamp = 4096"
   ]
  },
  {
   "cell_type": "code",
   "execution_count": 19,
   "metadata": {},
   "outputs": [
    {
     "data": {
      "text/plain": [
       "[<matplotlib.lines.Line2D at 0x1c2480b850>]"
      ]
     },
     "execution_count": 19,
     "metadata": {},
     "output_type": "execute_result"
    },
    {
     "data": {
      "image/png": "[encoded data removed]",
      "text/plain": [
       "<Figure size 432x288 with 1 Axes>"
      ]
     },
     "metadata": {
      "needs_background": "light"
     },
     "output_type": "display_data"
    }
   ],
   "source": [
    "ecg.plot()"
   ]
  },
  {
   "cell_type": "code",
   "execution_count": 20,
   "metadata": {},
   "outputs": [],
   "source": [
    "ibi = ph.BeatFromECG()(ecg)"
   ]
  },
  {
   "cell_type": "code",
   "execution_count": 21,
   "metadata": {},
   "outputs": [
    {
     "data": {
      "text/plain": [
       "3540.0"
      ]
     },
     "execution_count": 21,
     "metadata": {},
     "output_type": "execute_result"
    }
   ],
   "source": [
    "ibi.get_duration()"
   ]
  },
  {
   "cell_type": "code",
   "execution_count": 22,
   "metadata": {
    "scrolled": true
   },
   "outputs": [
    {
     "data": {
      "image/png": "[encoded data removed]",
      "text/plain": [
       "<Figure size 432x288 with 2 Axes>"
      ]
     },
     "metadata": {
      "needs_background": "light"
     },
     "output_type": "display_data"
    }
   ],
   "source": [
    "# check results so far\n",
    "ax1 = plt.subplot(211)\n",
    "ecg.plot()\n",
    "plt.vlines(ibi.get_times(), np.min(ecg), np.max(ecg))\n",
    "\n",
    "plt.subplot(212, sharex = ax1)\n",
    "ibi.plot('o-')\n",
    "plt.vlines(ibi.get_times(), np.min(ibi), np.max(ibi))\n",
    "plt.show()"
   ]
  },
  {
   "cell_type": "code",
   "execution_count": 23,
   "metadata": {},
   "outputs": [],
   "source": [
    "### physiological indicators "
   ]
  },
  {
   "cell_type": "code",
   "execution_count": 24,
   "metadata": {},
   "outputs": [
    {
     "data": {
      "image/png": "[encoded data removed]",
      "text/plain": [
       "<Figure size 432x288 with 2 Axes>"
      ]
     },
     "metadata": {
      "needs_background": "light"
     },
     "output_type": "display_data"
    }
   ],
   "source": [
    "# check label\n",
    "ax1 = plt.subplot(211)\n",
    "ibi.plot('.-')\n",
    "\n",
    "plt.subplot(212, sharex = ax1)\n",
    "label.plot('.-')\n",
    "plt.show()\n"
   ]
  },
  {
   "cell_type": "code",
   "execution_count": 25,
   "metadata": {},
   "outputs": [],
   "source": [
    "# define a list of indicators we want to compute\n",
    "hrv_indicators = [ph.Mean(name='RRmean'), ph.StDev(name='RRstd'), ph.RMSSD(name='rmsSD')]"
   ]
  },
  {
   "cell_type": "code",
   "execution_count": 26,
   "metadata": {},
   "outputs": [],
   "source": [
    "#fixed length windowing\n",
    "fixed_length = ph.FixedSegments(step = 60, width = 60, labels = label)\n",
    "\n",
    "indicators, col_names = ph.fmap(fixed_length, hrv_indicators, ibi)"
   ]
  },
  {
   "cell_type": "code",
   "execution_count": 27,
   "metadata": {},
   "outputs": [],
   "source": [
    "# extract column with the labels for each window\n",
    "label_w = indicators[:, np.where(col_names == 'label')[0]]\n",
    "\n",
    "# extract column with the RRmean values computed from each window\n",
    "rrmean_w = indicators[:, np.where(col_names == 'RRmean')[0]]\n",
    "\n",
    "rrmean_image1 = rrmean_w[np.where(label_w==1)[0]].ravel()\n",
    "rrmean_image2 = rrmean_w[np.where(label_w==2)[0]].ravel()"
   ]
  },
  {
   "cell_type": "code",
   "execution_count": 30,
   "metadata": {},
   "outputs": [
    {
     "data": {
      "text/plain": [
       "{'whiskers': [<matplotlib.lines.Line2D at 0x1c24db2e50>,\n",
       "  <matplotlib.lines.Line2D at 0x1c24c0a810>,\n",
       "  <matplotlib.lines.Line2D at 0x1c24dbff10>,\n",
       "  <matplotlib.lines.Line2D at 0x1c24da2b10>],\n",
       " 'caps': [<matplotlib.lines.Line2D at 0x1c24d94550>,\n",
       "  <matplotlib.lines.Line2D at 0x1c24d94a50>,\n",
       "  <matplotlib.lines.Line2D at 0x1c24dc8910>,\n",
       "  <matplotlib.lines.Line2D at 0x1c24dc8e10>],\n",
       " 'boxes': [<matplotlib.lines.Line2D at 0x1c24db2e10>,\n",
       "  <matplotlib.lines.Line2D at 0x1c24dbf990>],\n",
       " 'medians': [<matplotlib.lines.Line2D at 0x1c24d94f90>,\n",
       "  <matplotlib.lines.Line2D at 0x1c24d94f50>],\n",
       " 'fliers': [<matplotlib.lines.Line2D at 0x1c24dbf4d0>,\n",
       "  <matplotlib.lines.Line2D at 0x1c24f5d850>],\n",
       " 'means': []}"
      ]
     },
     "execution_count": 30,
     "metadata": {},
     "output_type": "execute_result"
    },
    {
     "data": {
      "image/png": "[encoded data removed]",
      "text/plain": [
       "<Figure size 432x288 with 1 Axes>"
      ]
     },
     "metadata": {
      "needs_background": "light"
     },
     "output_type": "display_data"
    }
   ],
   "source": [
    "## create a box and whisker plot to compare the distibution of the RRmean indicator\n",
    "plt.boxplot([rrmean_image1, rrmean_image2],\n",
    "            labels=['First 10 minutes', 'Recording time'])"
   ]
  },
  {
   "cell_type": "code",
   "execution_count": 31,
   "metadata": {},
   "outputs": [
    {
     "name": "stdout",
     "output_type": "stream",
     "text": [
      "[IBI_VLF_Pow, IBI_LF_Pow, IBI_HF_Pow, IBI_Total_Pow]\n",
      "{'freq_min': 1e-05, 'freq_max': 0.04, 'method': 'ar', 'interp_freq': 4, 'name': 'IBI_VLF_Pow'}\n"
     ]
    }
   ],
   "source": [
    "HRV_FD = ph.preset_hrv_fd() #frequency domain HRV indicators\n",
    "print(HRV_FD)\n",
    "\n",
    "print(HRV_FD[0].get())"
   ]
  },
  {
   "cell_type": "code",
   "execution_count": 32,
   "metadata": {},
   "outputs": [],
   "source": [
    "FD_HRV_ind, col_names = ph.fmap(fixed_length, ph.preset_hrv_fd(), ibi.resample(4))"
   ]
  },
  {
   "cell_type": "code",
   "execution_count": 34,
   "metadata": {},
   "outputs": [
    {
     "data": {
      "text/html": [
       "<div>\n",
       "<style scoped>\n",
       "    .dataframe tbody tr th:only-of-type {\n",
       "        vertical-align: middle;\n",
       "    }\n",
       "\n",
       "    .dataframe tbody tr th {\n",
       "        vertical-align: top;\n",
       "    }\n",
       "\n",
       "    .dataframe thead th {\n",
       "        text-align: right;\n",
       "    }\n",
       "</style>\n",
       "<table border=\"1\" class=\"dataframe\">\n",
       "  <thead>\n",
       "    <tr style=\"text-align: right;\">\n",
       "      <th></th>\n",
       "      <th>begin</th>\n",
       "      <th>end</th>\n",
       "      <th>label</th>\n",
       "      <th>IBI_VLF_Pow</th>\n",
       "      <th>IBI_LF_Pow</th>\n",
       "      <th>IBI_HF_Pow</th>\n",
       "      <th>IBI_Total_Pow</th>\n",
       "    </tr>\n",
       "  </thead>\n",
       "  <tbody>\n",
       "    <tr>\n",
       "      <td>0</td>\n",
       "      <td>1.227051</td>\n",
       "      <td>61.227051</td>\n",
       "      <td>1.0</td>\n",
       "      <td>165.246480</td>\n",
       "      <td>543.270209</td>\n",
       "      <td>618.751677</td>\n",
       "      <td>1988.995559</td>\n",
       "    </tr>\n",
       "    <tr>\n",
       "      <td>1</td>\n",
       "      <td>61.227051</td>\n",
       "      <td>121.227051</td>\n",
       "      <td>1.0</td>\n",
       "      <td>218.513798</td>\n",
       "      <td>422.317631</td>\n",
       "      <td>526.863890</td>\n",
       "      <td>1827.087955</td>\n",
       "    </tr>\n",
       "    <tr>\n",
       "      <td>2</td>\n",
       "      <td>121.227051</td>\n",
       "      <td>181.227051</td>\n",
       "      <td>1.0</td>\n",
       "      <td>195.241188</td>\n",
       "      <td>461.579694</td>\n",
       "      <td>618.964873</td>\n",
       "      <td>2001.043185</td>\n",
       "    </tr>\n",
       "    <tr>\n",
       "      <td>3</td>\n",
       "      <td>181.227051</td>\n",
       "      <td>241.227051</td>\n",
       "      <td>1.0</td>\n",
       "      <td>413.218563</td>\n",
       "      <td>565.428590</td>\n",
       "      <td>942.735266</td>\n",
       "      <td>2644.787988</td>\n",
       "    </tr>\n",
       "    <tr>\n",
       "      <td>4</td>\n",
       "      <td>241.227051</td>\n",
       "      <td>301.227051</td>\n",
       "      <td>1.0</td>\n",
       "      <td>213.795576</td>\n",
       "      <td>665.204797</td>\n",
       "      <td>752.784153</td>\n",
       "      <td>2280.934934</td>\n",
       "    </tr>\n",
       "  </tbody>\n",
       "</table>\n",
       "</div>"
      ],
      "text/plain": [
       "        begin         end  label  IBI_VLF_Pow  IBI_LF_Pow  IBI_HF_Pow  \\\n",
       "0    1.227051   61.227051    1.0   165.246480  543.270209  618.751677   \n",
       "1   61.227051  121.227051    1.0   218.513798  422.317631  526.863890   \n",
       "2  121.227051  181.227051    1.0   195.241188  461.579694  618.964873   \n",
       "3  181.227051  241.227051    1.0   413.218563  565.428590  942.735266   \n",
       "4  241.227051  301.227051    1.0   213.795576  665.204797  752.784153   \n",
       "\n",
       "   IBI_Total_Pow  \n",
       "0    1988.995559  \n",
       "1    1827.087955  \n",
       "2    2001.043185  \n",
       "3    2644.787988  \n",
       "4    2280.934934  "
      ]
     },
     "execution_count": 34,
     "metadata": {},
     "output_type": "execute_result"
    }
   ],
   "source": [
    "import pandas as pd\n",
    "\n",
    "# create a pandas dataframe\n",
    "FD_HRV_pp13_df = pd.DataFrame(FD_HRV_ind, columns=col_names)\n",
    "\n",
    "FD_HRV_pp13_df.head()"
   ]
  },
  {
   "cell_type": "code",
   "execution_count": 35,
   "metadata": {},
   "outputs": [],
   "source": [
    "#save data \n",
    "FD_HRV_pp10_df.to_csv('FD_HRV_pp113.csv')"
   ]
  },
  {
   "cell_type": "code",
   "execution_count": null,
   "metadata": {},
   "outputs": [],
   "source": []
  }
 ],
 "metadata": {
  "kernelspec": {
   "display_name": "Python 3",
   "language": "python",
   "name": "python3"
  },
  "language_info": {
   "codemirror_mode": {
    "name": "ipython",
    "version": 3
   },
   "file_extension": ".py",
   "mimetype": "text/x-python",
   "name": "python",
   "nbconvert_exporter": "python",
   "pygments_lexer": "ipython3",
   "version": "3.7.4"
  }
 },
 "nbformat": 4,
 "nbformat_minor": 2
}
