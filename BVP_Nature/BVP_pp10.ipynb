{
 "cells": [
  {
   "cell_type": "code",
   "execution_count": 1,
   "metadata": {},
   "outputs": [],
   "source": [
    "# import libraries\n",
    "import numpy as np\n",
    "import matplotlib.pyplot as plt\n",
    "import pandas as pd \n",
    "\n",
    "%matplotlib inline "
   ]
  },
  {
   "cell_type": "code",
   "execution_count": 2,
   "metadata": {},
   "outputs": [
    {
     "name": "stdout",
     "output_type": "stream",
     "text": [
      "Please cite:\n",
      "Bizzego et al. (2019) 'pyphysio: A physiological signal processing library for data science approaches in physiology', SoftwareX\n"
     ]
    }
   ],
   "source": [
    "# import all pyphysio classes and methods\n",
    "import pyphysio as ph"
   ]
  },
  {
   "cell_type": "code",
   "execution_count": 3,
   "metadata": {},
   "outputs": [],
   "source": [
    "# import data \n",
    "df_BVP = pd.read_csv('BVP_pp10.csv', header=None)"
   ]
  },
  {
   "cell_type": "code",
   "execution_count": 4,
   "metadata": {},
   "outputs": [
    {
     "name": "stdout",
     "output_type": "stream",
     "text": [
      "0    283690\n",
      "dtype: int64\n"
     ]
    }
   ],
   "source": [
    "n_of_rows = df_BVP.count()\n",
    "print(n_of_rows)"
   ]
  },
  {
   "cell_type": "code",
   "execution_count": 5,
   "metadata": {},
   "outputs": [
    {
     "name": "stdout",
     "output_type": "stream",
     "text": [
      "0    283690\n",
      "dtype: int64\n",
      "0    4432.65625\n",
      "dtype: float64\n",
      "0    73.877604\n",
      "dtype: float64\n"
     ]
    }
   ],
   "source": [
    "#count n of rows to get time of recording (s) \n",
    "n_of_rows = df_BVP.count()\n",
    "print(n_of_rows)\n",
    "#walk time in seconds \n",
    "walk_time_seconds = n_of_rows/64\n",
    "print(walk_time_seconds)\n",
    "#walk time in minutes\n",
    "walk_time_minutes = walk_time_seconds/60\n",
    "print(walk_time_minutes)"
   ]
  },
  {
   "cell_type": "code",
   "execution_count": 6,
   "metadata": {},
   "outputs": [],
   "source": [
    "#create BVP signal \n",
    "fsamp = 64  #64 Hz = 0.015625 s(p)\n",
    "ecg = ph.EvenlySignal(values = df_BVP, sampling_freq = fsamp, signal_type = 'ecg')\n",
    "tstart_df_BVP = 100 #s"
   ]
  },
  {
   "cell_type": "code",
   "execution_count": 7,
   "metadata": {},
   "outputs": [
    {
     "data": {
      "text/plain": [
       "[<matplotlib.lines.Line2D at 0x1c15b97990>]"
      ]
     },
     "execution_count": 7,
     "metadata": {},
     "output_type": "execute_result"
    },
    {
     "data": {
      "image/png": "[encoded data removed]",
      "text/plain": [
       "<Figure size 432x288 with 1 Axes>"
      ]
     },
     "metadata": {
      "needs_background": "light"
     },
     "output_type": "display_data"
    }
   ],
   "source": [
    "ecg.plot()"
   ]
  },
  {
   "cell_type": "code",
   "execution_count": 8,
   "metadata": {},
   "outputs": [],
   "source": [
    "ibi = ph.BeatFromECG()(ecg)"
   ]
  },
  {
   "cell_type": "code",
   "execution_count": 9,
   "metadata": {},
   "outputs": [
    {
     "data": {
      "text/plain": [
       "4432.65625"
      ]
     },
     "execution_count": 9,
     "metadata": {},
     "output_type": "execute_result"
    }
   ],
   "source": [
    "ibi.get_duration() #"
   ]
  },
  {
   "cell_type": "code",
   "execution_count": 10,
   "metadata": {},
   "outputs": [],
   "source": [
    "# create label\n",
    "label = np.zeros(4432)\n",
    "label[0:600] = 1\n",
    "label[600:4432] = 2\n",
    "\n",
    "label = ph.EvenlySignal(label, sampling_freq = 1, signal_type = 'label') \n",
    "#sampling_freq here is not intended as real sampfeq, only the distance between one point and the other (e.g. 10 = 10 units between 'begin' & 'end')"
   ]
  },
  {
   "cell_type": "code",
   "execution_count": 11,
   "metadata": {},
   "outputs": [],
   "source": [
    "# (optional) IIR filtering : remove high frequency noise\n",
    "#ecg = ph.IIRFilter(fp=45, fs = 50, ftype='ellip')(ecg)"
   ]
  },
  {
   "cell_type": "code",
   "execution_count": 12,
   "metadata": {},
   "outputs": [],
   "source": [
    "# normalization : normalize data\n",
    "ecg = ph.Normalize(norm_method='standard')(ecg)"
   ]
  },
  {
   "cell_type": "code",
   "execution_count": 13,
   "metadata": {},
   "outputs": [],
   "source": [
    "# resampling : increase the sampling frequency by cubic interpolation\n",
    "ecg = ecg.resample(fout=4096, kind='cubic')\n",
    "fsamp = 4096"
   ]
  },
  {
   "cell_type": "code",
   "execution_count": 14,
   "metadata": {},
   "outputs": [
    {
     "data": {
      "text/plain": [
       "[<matplotlib.lines.Line2D at 0x1c16931b50>]"
      ]
     },
     "execution_count": 14,
     "metadata": {},
     "output_type": "execute_result"
    },
    {
     "data": {
      "image/png": "[encoded data removed]",
      "text/plain": [
       "<Figure size 432x288 with 1 Axes>"
      ]
     },
     "metadata": {
      "needs_background": "light"
     },
     "output_type": "display_data"
    }
   ],
   "source": [
    "ecg.plot()"
   ]
  },
  {
   "cell_type": "code",
   "execution_count": 15,
   "metadata": {},
   "outputs": [],
   "source": [
    "ibi = ph.BeatFromECG()(ecg)"
   ]
  },
  {
   "cell_type": "code",
   "execution_count": 16,
   "metadata": {},
   "outputs": [
    {
     "data": {
      "text/plain": [
       "4432.65625"
      ]
     },
     "execution_count": 16,
     "metadata": {},
     "output_type": "execute_result"
    }
   ],
   "source": [
    "ibi.get_duration()"
   ]
  },
  {
   "cell_type": "code",
   "execution_count": 17,
   "metadata": {
    "scrolled": true
   },
   "outputs": [
    {
     "data": {
      "image/png": "[encoded data removed]",
      "text/plain": [
       "<Figure size 432x288 with 2 Axes>"
      ]
     },
     "metadata": {
      "needs_background": "light"
     },
     "output_type": "display_data"
    }
   ],
   "source": [
    "# check results so far\n",
    "ax1 = plt.subplot(211)\n",
    "ecg.plot()\n",
    "plt.vlines(ibi.get_times(), np.min(ecg), np.max(ecg))\n",
    "\n",
    "plt.subplot(212, sharex = ax1)\n",
    "ibi.plot('o-')\n",
    "plt.vlines(ibi.get_times(), np.min(ibi), np.max(ibi))\n",
    "plt.show()"
   ]
  },
  {
   "cell_type": "code",
   "execution_count": 18,
   "metadata": {},
   "outputs": [],
   "source": [
    "### physiological indicators "
   ]
  },
  {
   "cell_type": "code",
   "execution_count": 19,
   "metadata": {},
   "outputs": [
    {
     "data": {
      "image/png": "[encoded data removed]",
      "text/plain": [
       "<Figure size 432x288 with 2 Axes>"
      ]
     },
     "metadata": {
      "needs_background": "light"
     },
     "output_type": "display_data"
    }
   ],
   "source": [
    "# check label\n",
    "ax1 = plt.subplot(211)\n",
    "ibi.plot('.-')\n",
    "\n",
    "plt.subplot(212, sharex = ax1)\n",
    "label.plot('.-')\n",
    "plt.show()\n"
   ]
  },
  {
   "cell_type": "code",
   "execution_count": 20,
   "metadata": {},
   "outputs": [],
   "source": [
    "# define a list of indicators we want to compute\n",
    "hrv_indicators = [ph.Mean(name='RRmean'), ph.StDev(name='RRstd'), ph.RMSSD(name='rmsSD')]"
   ]
  },
  {
   "cell_type": "code",
   "execution_count": 21,
   "metadata": {},
   "outputs": [],
   "source": [
    "#fixed length windowing\n",
    "fixed_length = ph.FixedSegments(step = 60, width = 60, labels = label)\n",
    "\n",
    "indicators, col_names = ph.fmap(fixed_length, hrv_indicators, ibi)"
   ]
  },
  {
   "cell_type": "code",
   "execution_count": 22,
   "metadata": {},
   "outputs": [],
   "source": [
    "# extract column with the labels for each window\n",
    "label_w = indicators[:, np.where(col_names == 'label')[0]]\n",
    "\n",
    "# extract column with the RRmean values computed from each window\n",
    "rrmean_w = indicators[:, np.where(col_names == 'RRmean')[0]]\n",
    "\n",
    "rrmean_image1 = rrmean_w[np.where(label_w==1)[0]].ravel()\n",
    "rrmean_image2 = rrmean_w[np.where(label_w==2)[0]].ravel()"
   ]
  },
  {
   "cell_type": "code",
   "execution_count": 23,
   "metadata": {},
   "outputs": [
    {
     "data": {
      "text/plain": [
       "{'whiskers': [<matplotlib.lines.Line2D at 0x1c1630bbd0>,\n",
       "  <matplotlib.lines.Line2D at 0x1c16296c90>,\n",
       "  <matplotlib.lines.Line2D at 0x1c162a3b90>,\n",
       "  <matplotlib.lines.Line2D at 0x1c1629cc90>],\n",
       " 'caps': [<matplotlib.lines.Line2D at 0x1c16304990>,\n",
       "  <matplotlib.lines.Line2D at 0x1c1629c6d0>,\n",
       "  <matplotlib.lines.Line2D at 0x1c162ae590>,\n",
       "  <matplotlib.lines.Line2D at 0x1c162aea90>],\n",
       " 'boxes': [<matplotlib.lines.Line2D at 0x1c1630ba90>,\n",
       "  <matplotlib.lines.Line2D at 0x1c162a3610>],\n",
       " 'medians': [<matplotlib.lines.Line2D at 0x1c1629cc10>,\n",
       "  <matplotlib.lines.Line2D at 0x1c162aef90>],\n",
       " 'fliers': [<matplotlib.lines.Line2D at 0x1c16296d10>,\n",
       "  <matplotlib.lines.Line2D at 0x1c162b64d0>],\n",
       " 'means': []}"
      ]
     },
     "execution_count": 23,
     "metadata": {},
     "output_type": "execute_result"
    },
    {
     "data": {
      "image/png": "[encoded data removed]",
      "text/plain": [
       "<Figure size 432x288 with 1 Axes>"
      ]
     },
     "metadata": {
      "needs_background": "light"
     },
     "output_type": "display_data"
    }
   ],
   "source": [
    "## create a box and whisker plot to compare the distibution of the RRmean indicator\n",
    "plt.boxplot([rrmean_image1, rrmean_image2],\n",
    "            labels=['baseline', 'recording time'])"
   ]
  },
  {
   "cell_type": "code",
   "execution_count": 26,
   "metadata": {},
   "outputs": [
    {
     "name": "stdout",
     "output_type": "stream",
     "text": [
      "[IBI_VLF_Pow, IBI_LF_Pow, IBI_HF_Pow, IBI_Total_Pow]\n",
      "{'freq_min': 1e-05, 'freq_max': 0.04, 'method': 'ar', 'interp_freq': 4, 'name': 'IBI_VLF_Pow'}\n"
     ]
    }
   ],
   "source": [
    "HRV_FD = ph.preset_hrv_fd() #frequency domain HRV indicators\n",
    "print(HRV_FD)\n",
    "\n",
    "print(HRV_FD[0].get())"
   ]
  },
  {
   "cell_type": "code",
   "execution_count": 27,
   "metadata": {},
   "outputs": [],
   "source": [
    "FD_HRV_ind, col_names = ph.fmap(fixed_length, ph.preset_hrv_fd(), ibi.resample(4))"
   ]
  },
  {
   "cell_type": "code",
   "execution_count": 29,
   "metadata": {},
   "outputs": [
    {
     "data": {
      "text/html": [
       "<div>\n",
       "<style scoped>\n",
       "    .dataframe tbody tr th:only-of-type {\n",
       "        vertical-align: middle;\n",
       "    }\n",
       "\n",
       "    .dataframe tbody tr th {\n",
       "        vertical-align: top;\n",
       "    }\n",
       "\n",
       "    .dataframe thead th {\n",
       "        text-align: right;\n",
       "    }\n",
       "</style>\n",
       "<table border=\"1\" class=\"dataframe\">\n",
       "  <thead>\n",
       "    <tr style=\"text-align: right;\">\n",
       "      <th></th>\n",
       "      <th>begin</th>\n",
       "      <th>end</th>\n",
       "      <th>label</th>\n",
       "      <th>IBI_VLF_Pow</th>\n",
       "      <th>IBI_LF_Pow</th>\n",
       "      <th>IBI_HF_Pow</th>\n",
       "      <th>IBI_Total_Pow</th>\n",
       "    </tr>\n",
       "  </thead>\n",
       "  <tbody>\n",
       "    <tr>\n",
       "      <td>0</td>\n",
       "      <td>1.232178</td>\n",
       "      <td>61.232178</td>\n",
       "      <td>1.0</td>\n",
       "      <td>132.432905</td>\n",
       "      <td>451.280788</td>\n",
       "      <td>873.607033</td>\n",
       "      <td>2227.004989</td>\n",
       "    </tr>\n",
       "    <tr>\n",
       "      <td>1</td>\n",
       "      <td>61.232178</td>\n",
       "      <td>121.232178</td>\n",
       "      <td>1.0</td>\n",
       "      <td>119.434955</td>\n",
       "      <td>432.848865</td>\n",
       "      <td>922.849473</td>\n",
       "      <td>2265.518350</td>\n",
       "    </tr>\n",
       "    <tr>\n",
       "      <td>2</td>\n",
       "      <td>121.232178</td>\n",
       "      <td>181.232178</td>\n",
       "      <td>1.0</td>\n",
       "      <td>103.507494</td>\n",
       "      <td>318.417098</td>\n",
       "      <td>798.665420</td>\n",
       "      <td>1965.077318</td>\n",
       "    </tr>\n",
       "    <tr>\n",
       "      <td>3</td>\n",
       "      <td>181.232178</td>\n",
       "      <td>241.232178</td>\n",
       "      <td>1.0</td>\n",
       "      <td>385.233269</td>\n",
       "      <td>775.292845</td>\n",
       "      <td>1371.395933</td>\n",
       "      <td>3250.599836</td>\n",
       "    </tr>\n",
       "    <tr>\n",
       "      <td>4</td>\n",
       "      <td>241.232178</td>\n",
       "      <td>301.232178</td>\n",
       "      <td>1.0</td>\n",
       "      <td>170.652911</td>\n",
       "      <td>594.312450</td>\n",
       "      <td>845.088398</td>\n",
       "      <td>2431.101065</td>\n",
       "    </tr>\n",
       "  </tbody>\n",
       "</table>\n",
       "</div>"
      ],
      "text/plain": [
       "        begin         end  label  IBI_VLF_Pow  IBI_LF_Pow   IBI_HF_Pow  \\\n",
       "0    1.232178   61.232178    1.0   132.432905  451.280788   873.607033   \n",
       "1   61.232178  121.232178    1.0   119.434955  432.848865   922.849473   \n",
       "2  121.232178  181.232178    1.0   103.507494  318.417098   798.665420   \n",
       "3  181.232178  241.232178    1.0   385.233269  775.292845  1371.395933   \n",
       "4  241.232178  301.232178    1.0   170.652911  594.312450   845.088398   \n",
       "\n",
       "   IBI_Total_Pow  \n",
       "0    2227.004989  \n",
       "1    2265.518350  \n",
       "2    1965.077318  \n",
       "3    3250.599836  \n",
       "4    2431.101065  "
      ]
     },
     "execution_count": 29,
     "metadata": {},
     "output_type": "execute_result"
    }
   ],
   "source": [
    "import pandas as pd\n",
    "\n",
    "# create a pandas dataframe\n",
    "FD_HRV_pp10_df = pd.DataFrame(FD_HRV_ind, columns=col_names)\n",
    "\n",
    "FD_HRV_pp10_df.head()"
   ]
  },
  {
   "cell_type": "code",
   "execution_count": 31,
   "metadata": {},
   "outputs": [],
   "source": [
    "#save data \n",
    "FD_HRV_pp10_df.to_csv('FD_HRV_pp10.csv')"
   ]
  },
  {
   "cell_type": "code",
   "execution_count": null,
   "metadata": {},
   "outputs": [],
   "source": []
  }
 ],
 "metadata": {
  "kernelspec": {
   "display_name": "Python 3",
   "language": "python",
   "name": "python3"
  },
  "language_info": {
   "codemirror_mode": {
    "name": "ipython",
    "version": 3
   },
   "file_extension": ".py",
   "mimetype": "text/x-python",
   "name": "python",
   "nbconvert_exporter": "python",
   "pygments_lexer": "ipython3",
   "version": "3.7.4"
  }
 },
 "nbformat": 4,
 "nbformat_minor": 2
}
