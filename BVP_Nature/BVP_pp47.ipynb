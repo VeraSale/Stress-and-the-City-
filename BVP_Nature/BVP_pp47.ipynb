{
 "cells": [
  {
   "cell_type": "code",
   "execution_count": 1,
   "metadata": {},
   "outputs": [],
   "source": [
    "# import libraries\n",
    "import numpy as np\n",
    "import matplotlib.pyplot as plt\n",
    "import pandas as pd \n",
    "\n",
    "%matplotlib inline "
   ]
  },
  {
   "cell_type": "code",
   "execution_count": 2,
   "metadata": {},
   "outputs": [
    {
     "name": "stdout",
     "output_type": "stream",
     "text": [
      "Please cite:\n",
      "Bizzego et al. (2019) 'pyphysio: A physiological signal processing library for data science approaches in physiology', SoftwareX\n"
     ]
    }
   ],
   "source": [
    "# import all pyphysio classes and methods\n",
    "import pyphysio as ph"
   ]
  },
  {
   "cell_type": "code",
   "execution_count": 3,
   "metadata": {},
   "outputs": [],
   "source": [
    "# import data and creating a signal\n",
    "df_BVP = pd.read_csv('BVP_pp47.csv', header=None)"
   ]
  },
  {
   "cell_type": "code",
   "execution_count": 4,
   "metadata": {},
   "outputs": [
    {
     "name": "stdout",
     "output_type": "stream",
     "text": [
      "0    292930\n",
      "dtype: int64\n"
     ]
    }
   ],
   "source": [
    "#counting n rows \n",
    "n_of_rows = df_BVP.count()\n",
    "print(n_of_rows)"
   ]
  },
  {
   "cell_type": "code",
   "execution_count": 5,
   "metadata": {},
   "outputs": [
    {
     "name": "stdout",
     "output_type": "stream",
     "text": [
      "230400\n"
     ]
    }
   ],
   "source": [
    "#actual recording time 60 mins = 3600s\n",
    "#3600*64=n_rows\n",
    "n_of_rows_keep = 3600*64\n",
    "print(n_of_rows_keep)"
   ]
  },
  {
   "cell_type": "code",
   "execution_count": 6,
   "metadata": {},
   "outputs": [
    {
     "name": "stdout",
     "output_type": "stream",
     "text": [
      "           0\n",
      "0       0.00\n",
      "1       0.00\n",
      "2       0.00\n",
      "3       0.00\n",
      "4       0.00\n",
      "...      ...\n",
      "230395 -0.89\n",
      "230396 -0.65\n",
      "230397 -0.33\n",
      "230398 -0.06\n",
      "230399  0.05\n",
      "\n",
      "[230400 rows x 1 columns]\n"
     ]
    }
   ],
   "source": [
    "#using pandas to drop all the rows / seconds after 3480s \n",
    "#[n_of_rows_keep:n_of_rows]\n",
    "df_BVP = df_BVP.drop(df_BVP.index[230400:292930])\n",
    "print(df_BVP)"
   ]
  },
  {
   "cell_type": "code",
   "execution_count": 7,
   "metadata": {},
   "outputs": [
    {
     "name": "stdout",
     "output_type": "stream",
     "text": [
      "0    230400\n",
      "dtype: int64\n",
      "0    3600.0\n",
      "dtype: float64\n",
      "0    60.0\n",
      "dtype: float64\n"
     ]
    }
   ],
   "source": [
    "#count n of rows to get time of recording (s) \n",
    "n_of_rows = df_BVP.count()\n",
    "print(n_of_rows)\n",
    "#walk time in seconds \n",
    "walk_time_seconds = n_of_rows/64\n",
    "print(walk_time_seconds)\n",
    "#walk time in minutes\n",
    "walk_time_minutes = walk_time_seconds/60\n",
    "print(walk_time_minutes)"
   ]
  },
  {
   "cell_type": "code",
   "execution_count": 8,
   "metadata": {},
   "outputs": [],
   "source": [
    "#create BVP signal \n",
    "fsamp = 64  #64 Hz = 0.015625 s(p)\n",
    "ecg = ph.EvenlySignal(values = df_BVP, sampling_freq = fsamp, signal_type = 'ecg')\n",
    "tstart_df_BVP = 100 #s"
   ]
  },
  {
   "cell_type": "code",
   "execution_count": 9,
   "metadata": {},
   "outputs": [
    {
     "data": {
      "text/plain": [
       "[<matplotlib.lines.Line2D at 0x1c20204510>]"
      ]
     },
     "execution_count": 9,
     "metadata": {},
     "output_type": "execute_result"
    },
    {
     "data": {
      "image/png": "[encoded data removed]",
      "text/plain": [
       "<Figure size 432x288 with 1 Axes>"
      ]
     },
     "metadata": {
      "needs_background": "light"
     },
     "output_type": "display_data"
    }
   ],
   "source": [
    "ecg.plot()"
   ]
  },
  {
   "cell_type": "code",
   "execution_count": 10,
   "metadata": {},
   "outputs": [],
   "source": [
    "ibi = ph.BeatFromECG()(ecg)"
   ]
  },
  {
   "cell_type": "code",
   "execution_count": 11,
   "metadata": {},
   "outputs": [
    {
     "data": {
      "text/plain": [
       "3600.0"
      ]
     },
     "execution_count": 11,
     "metadata": {},
     "output_type": "execute_result"
    }
   ],
   "source": [
    "ibi.get_duration() "
   ]
  },
  {
   "cell_type": "code",
   "execution_count": 12,
   "metadata": {},
   "outputs": [],
   "source": [
    "# create label\n",
    "label = np.zeros(3480)\n",
    "label[0:600] = 1\n",
    "label[600:3480] = 2\n",
    "\n",
    "label = ph.EvenlySignal(label, sampling_freq = 1, signal_type = 'label') \n",
    "#sampling_freq here is not intended as real sampfeq, only the distance between one point and the other (e.g. 10 = 10 units between 'begin' & 'end')"
   ]
  },
  {
   "cell_type": "code",
   "execution_count": 13,
   "metadata": {},
   "outputs": [],
   "source": [
    "# (optional) IIR filtering : remove high frequency noise\n",
    "#ecg = ph.IIRFilter(fp=45, fs = 50, ftype='ellip')(ecg)"
   ]
  },
  {
   "cell_type": "code",
   "execution_count": 14,
   "metadata": {},
   "outputs": [],
   "source": [
    "# normalization : normalize data\n",
    "ecg = ph.Normalize(norm_method='standard')(ecg)"
   ]
  },
  {
   "cell_type": "code",
   "execution_count": 15,
   "metadata": {},
   "outputs": [],
   "source": [
    "# resampling : increase the sampling frequency by cubic interpolation\n",
    "ecg = ecg.resample(fout=4096, kind='cubic')\n",
    "fsamp = 4096"
   ]
  },
  {
   "cell_type": "code",
   "execution_count": 16,
   "metadata": {},
   "outputs": [
    {
     "data": {
      "text/plain": [
       "[<matplotlib.lines.Line2D at 0x1c2176f2d0>]"
      ]
     },
     "execution_count": 16,
     "metadata": {},
     "output_type": "execute_result"
    },
    {
     "data": {
      "image/png": "[encoded data removed]",
      "text/plain": [
       "<Figure size 432x288 with 1 Axes>"
      ]
     },
     "metadata": {
      "needs_background": "light"
     },
     "output_type": "display_data"
    }
   ],
   "source": [
    "ecg.plot()"
   ]
  },
  {
   "cell_type": "code",
   "execution_count": 17,
   "metadata": {},
   "outputs": [],
   "source": [
    "ibi = ph.BeatFromECG()(ecg)"
   ]
  },
  {
   "cell_type": "code",
   "execution_count": 18,
   "metadata": {},
   "outputs": [
    {
     "data": {
      "text/plain": [
       "3600.0"
      ]
     },
     "execution_count": 18,
     "metadata": {},
     "output_type": "execute_result"
    }
   ],
   "source": [
    "ibi.get_duration()"
   ]
  },
  {
   "cell_type": "code",
   "execution_count": 19,
   "metadata": {
    "scrolled": true
   },
   "outputs": [
    {
     "data": {
      "image/png": "[encoded data removed]",
      "text/plain": [
       "<Figure size 432x288 with 2 Axes>"
      ]
     },
     "metadata": {
      "needs_background": "light"
     },
     "output_type": "display_data"
    }
   ],
   "source": [
    "# check results so far\n",
    "ax1 = plt.subplot(211)\n",
    "ecg.plot()\n",
    "plt.vlines(ibi.get_times(), np.min(ecg), np.max(ecg))\n",
    "\n",
    "plt.subplot(212, sharex = ax1)\n",
    "ibi.plot('o-')\n",
    "plt.vlines(ibi.get_times(), np.min(ibi), np.max(ibi))\n",
    "plt.show()"
   ]
  },
  {
   "cell_type": "code",
   "execution_count": 20,
   "metadata": {},
   "outputs": [],
   "source": [
    "### physiological indicators "
   ]
  },
  {
   "cell_type": "code",
   "execution_count": 21,
   "metadata": {},
   "outputs": [
    {
     "data": {
      "image/png": "[encoded data removed]",
      "text/plain": [
       "<Figure size 432x288 with 2 Axes>"
      ]
     },
     "metadata": {
      "needs_background": "light"
     },
     "output_type": "display_data"
    }
   ],
   "source": [
    "# check label\n",
    "ax1 = plt.subplot(211)\n",
    "ibi.plot('.-')\n",
    "\n",
    "plt.subplot(212, sharex = ax1)\n",
    "label.plot('.-')\n",
    "plt.show()\n"
   ]
  },
  {
   "cell_type": "code",
   "execution_count": 22,
   "metadata": {},
   "outputs": [],
   "source": [
    "# define a list of indicators we want to compute\n",
    "hrv_indicators = [ph.Mean(name='RRmean'), ph.StDev(name='RRstd'), ph.RMSSD(name='rmsSD')]"
   ]
  },
  {
   "cell_type": "code",
   "execution_count": 23,
   "metadata": {},
   "outputs": [],
   "source": [
    "#fixed length windowing\n",
    "fixed_length = ph.FixedSegments(step = 60, width = 60, labels = label)\n",
    "\n",
    "indicators, col_names = ph.fmap(fixed_length, hrv_indicators, ibi)"
   ]
  },
  {
   "cell_type": "code",
   "execution_count": 24,
   "metadata": {},
   "outputs": [],
   "source": [
    "# extract column with the labels for each window\n",
    "label_w = indicators[:, np.where(col_names == 'label')[0]]\n",
    "\n",
    "# extract column with the RRmean values computed from each window\n",
    "rrmean_w = indicators[:, np.where(col_names == 'RRmean')[0]]\n",
    "\n",
    "rrmean_image1 = rrmean_w[np.where(label_w==1)[0]].ravel()\n",
    "rrmean_image2 = rrmean_w[np.where(label_w==2)[0]].ravel()"
   ]
  },
  {
   "cell_type": "code",
   "execution_count": 25,
   "metadata": {},
   "outputs": [
    {
     "data": {
      "text/plain": [
       "{'whiskers': [<matplotlib.lines.Line2D at 0x1c20916450>,\n",
       "  <matplotlib.lines.Line2D at 0x1c20342910>,\n",
       "  <matplotlib.lines.Line2D at 0x1c20ba0510>,\n",
       "  <matplotlib.lines.Line2D at 0x1c21171c10>],\n",
       " 'caps': [<matplotlib.lines.Line2D at 0x1c20ba0ad0>,\n",
       "  <matplotlib.lines.Line2D at 0x1c20ba0c50>,\n",
       "  <matplotlib.lines.Line2D at 0x1c21164c50>,\n",
       "  <matplotlib.lines.Line2D at 0x1c211716d0>],\n",
       " 'boxes': [<matplotlib.lines.Line2D at 0x1c20911490>,\n",
       "  <matplotlib.lines.Line2D at 0x1c21171750>],\n",
       " 'medians': [<matplotlib.lines.Line2D at 0x1c217ad050>,\n",
       "  <matplotlib.lines.Line2D at 0x1c21164650>],\n",
       " 'fliers': [<matplotlib.lines.Line2D at 0x1c21171d50>,\n",
       "  <matplotlib.lines.Line2D at 0x1c2073ddd0>],\n",
       " 'means': []}"
      ]
     },
     "execution_count": 25,
     "metadata": {},
     "output_type": "execute_result"
    },
    {
     "data": {
      "image/png": "[encoded data removed]",
      "text/plain": [
       "<Figure size 432x288 with 1 Axes>"
      ]
     },
     "metadata": {
      "needs_background": "light"
     },
     "output_type": "display_data"
    }
   ],
   "source": [
    "## create a box and whisker plot to compare the distibution of the RRmean indicator\n",
    "plt.boxplot([rrmean_image1, rrmean_image2],\n",
    "            labels=['First 10 minutes', 'Recording Time'])"
   ]
  },
  {
   "cell_type": "code",
   "execution_count": 26,
   "metadata": {},
   "outputs": [
    {
     "name": "stdout",
     "output_type": "stream",
     "text": [
      "[IBI_VLF_Pow, IBI_LF_Pow, IBI_HF_Pow, IBI_Total_Pow]\n",
      "{'freq_min': 1e-05, 'freq_max': 0.04, 'method': 'ar', 'interp_freq': 4, 'name': 'IBI_VLF_Pow'}\n"
     ]
    }
   ],
   "source": [
    "HRV_FD = ph.preset_hrv_fd() #frequency domain HRV indicators\n",
    "print(HRV_FD)\n",
    "\n",
    "print(HRV_FD[0].get())"
   ]
  },
  {
   "cell_type": "code",
   "execution_count": 27,
   "metadata": {},
   "outputs": [],
   "source": [
    "FD_HRV_ind, col_names = ph.fmap(fixed_length, ph.preset_hrv_fd(), ibi.resample(4))"
   ]
  },
  {
   "cell_type": "code",
   "execution_count": 28,
   "metadata": {},
   "outputs": [
    {
     "data": {
      "text/html": [
       "<div>\n",
       "<style scoped>\n",
       "    .dataframe tbody tr th:only-of-type {\n",
       "        vertical-align: middle;\n",
       "    }\n",
       "\n",
       "    .dataframe tbody tr th {\n",
       "        vertical-align: top;\n",
       "    }\n",
       "\n",
       "    .dataframe thead th {\n",
       "        text-align: right;\n",
       "    }\n",
       "</style>\n",
       "<table border=\"1\" class=\"dataframe\">\n",
       "  <thead>\n",
       "    <tr style=\"text-align: right;\">\n",
       "      <th></th>\n",
       "      <th>begin</th>\n",
       "      <th>end</th>\n",
       "      <th>label</th>\n",
       "      <th>IBI_VLF_Pow</th>\n",
       "      <th>IBI_LF_Pow</th>\n",
       "      <th>IBI_HF_Pow</th>\n",
       "      <th>IBI_Total_Pow</th>\n",
       "    </tr>\n",
       "  </thead>\n",
       "  <tbody>\n",
       "    <tr>\n",
       "      <td>0</td>\n",
       "      <td>1.229492</td>\n",
       "      <td>61.229492</td>\n",
       "      <td>1.0</td>\n",
       "      <td>400.514895</td>\n",
       "      <td>605.298983</td>\n",
       "      <td>911.771578</td>\n",
       "      <td>2606.764685</td>\n",
       "    </tr>\n",
       "    <tr>\n",
       "      <td>1</td>\n",
       "      <td>61.229492</td>\n",
       "      <td>121.229492</td>\n",
       "      <td>1.0</td>\n",
       "      <td>220.693486</td>\n",
       "      <td>394.587209</td>\n",
       "      <td>508.821060</td>\n",
       "      <td>1828.243544</td>\n",
       "    </tr>\n",
       "    <tr>\n",
       "      <td>2</td>\n",
       "      <td>121.229492</td>\n",
       "      <td>181.229492</td>\n",
       "      <td>1.0</td>\n",
       "      <td>130.096389</td>\n",
       "      <td>511.919776</td>\n",
       "      <td>692.208209</td>\n",
       "      <td>2147.631665</td>\n",
       "    </tr>\n",
       "    <tr>\n",
       "      <td>3</td>\n",
       "      <td>181.229492</td>\n",
       "      <td>241.229492</td>\n",
       "      <td>1.0</td>\n",
       "      <td>683.205949</td>\n",
       "      <td>921.579648</td>\n",
       "      <td>792.024391</td>\n",
       "      <td>3030.306415</td>\n",
       "    </tr>\n",
       "    <tr>\n",
       "      <td>4</td>\n",
       "      <td>241.229492</td>\n",
       "      <td>301.229492</td>\n",
       "      <td>1.0</td>\n",
       "      <td>211.993752</td>\n",
       "      <td>453.721187</td>\n",
       "      <td>763.142267</td>\n",
       "      <td>2168.815378</td>\n",
       "    </tr>\n",
       "  </tbody>\n",
       "</table>\n",
       "</div>"
      ],
      "text/plain": [
       "        begin         end  label  IBI_VLF_Pow  IBI_LF_Pow  IBI_HF_Pow  \\\n",
       "0    1.229492   61.229492    1.0   400.514895  605.298983  911.771578   \n",
       "1   61.229492  121.229492    1.0   220.693486  394.587209  508.821060   \n",
       "2  121.229492  181.229492    1.0   130.096389  511.919776  692.208209   \n",
       "3  181.229492  241.229492    1.0   683.205949  921.579648  792.024391   \n",
       "4  241.229492  301.229492    1.0   211.993752  453.721187  763.142267   \n",
       "\n",
       "   IBI_Total_Pow  \n",
       "0    2606.764685  \n",
       "1    1828.243544  \n",
       "2    2147.631665  \n",
       "3    3030.306415  \n",
       "4    2168.815378  "
      ]
     },
     "execution_count": 28,
     "metadata": {},
     "output_type": "execute_result"
    }
   ],
   "source": [
    "import pandas as pd\n",
    "\n",
    "# create a pandas dataframe\n",
    "FD_HRV_pp47_df = pd.DataFrame(FD_HRV_ind, columns=col_names)\n",
    "\n",
    "FD_HRV_pp47_df.head()"
   ]
  },
  {
   "cell_type": "code",
   "execution_count": 29,
   "metadata": {},
   "outputs": [],
   "source": [
    "#save data\n",
    "FD_HRV_pp47_df.to_csv('FD_HRV_pp47.csv')"
   ]
  }
 ],
 "metadata": {
  "kernelspec": {
   "display_name": "Python 3",
   "language": "python",
   "name": "python3"
  },
  "language_info": {
   "codemirror_mode": {
    "name": "ipython",
    "version": 3
   },
   "file_extension": ".py",
   "mimetype": "text/x-python",
   "name": "python",
   "nbconvert_exporter": "python",
   "pygments_lexer": "ipython3",
   "version": "3.7.4"
  }
 },
 "nbformat": 4,
 "nbformat_minor": 2
}
