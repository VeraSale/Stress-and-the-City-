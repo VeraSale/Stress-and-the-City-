{
 "cells": [
  {
   "cell_type": "code",
   "execution_count": 1,
   "metadata": {},
   "outputs": [
    {
     "name": "stdout",
     "output_type": "stream",
     "text": [
      "Please cite:\n",
      "Bizzego et al. (2019) 'pyphysio: A physiological signal processing library for data science approaches in physiology', SoftwareX\n"
     ]
    }
   ],
   "source": [
    "# import libraries\n",
    "import matplotlib.pyplot as plt\n",
    "import numpy as np\n",
    "\n",
    "#import pyphysio\n",
    "import pyphysio as ph\n",
    "import pandas as pd\n",
    "import pyphysio.filters.Filters as flt\n",
    "\n",
    "# (should) show plots in a separate window\n",
    "%matplotlib inline"
   ]
  },
  {
   "cell_type": "code",
   "execution_count": 2,
   "metadata": {},
   "outputs": [],
   "source": [
    "# open file\n",
    "df_EDA = pd.read_csv('EDA_pp40.csv',header=None)"
   ]
  },
  {
   "cell_type": "code",
   "execution_count": 3,
   "metadata": {},
   "outputs": [
    {
     "name": "stdout",
     "output_type": "stream",
     "text": [
      "0    14364\n",
      "dtype: int64\n"
     ]
    }
   ],
   "source": [
    "n_of_rows = df_EDA.count()\n",
    "print(n_of_rows)"
   ]
  },
  {
   "cell_type": "code",
   "execution_count": 4,
   "metadata": {},
   "outputs": [
    {
     "name": "stdout",
     "output_type": "stream",
     "text": [
      "14160\n"
     ]
    }
   ],
   "source": [
    "#actual recording time 59 mins = 3540s\n",
    "#rows based on seconds \n",
    "n_of_rows_keep = 3540*4\n",
    "print(n_of_rows_keep) #rows we want to keep "
   ]
  },
  {
   "cell_type": "code",
   "execution_count": 5,
   "metadata": {},
   "outputs": [
    {
     "name": "stdout",
     "output_type": "stream",
     "text": [
      "              0\n",
      "0      0.000000\n",
      "1      0.256143\n",
      "2      0.308652\n",
      "3      0.353477\n",
      "4      0.347074\n",
      "...         ...\n",
      "14155  0.094773\n",
      "14156  0.093492\n",
      "14157  0.096054\n",
      "14158  0.094773\n",
      "14159  0.097334\n",
      "\n",
      "[14160 rows x 1 columns]\n"
     ]
    }
   ],
   "source": [
    "#using pandas to drop all the rows / seconds after xs \n",
    "df_EDA = df_EDA.drop(df_EDA.index[14160:14364])\n",
    "print(df_EDA)"
   ]
  },
  {
   "cell_type": "code",
   "execution_count": 6,
   "metadata": {},
   "outputs": [],
   "source": [
    "# create the signal\n",
    "fsamp = 4 #Hz\n",
    "tstart_df_EDA = 0 #s\n",
    "\n",
    "\n",
    "eda = ph.EvenlySignal(values = df_EDA.values.ravel(), \n",
    "                      sampling_freq = fsamp,\n",
    "                      start_time = tstart_df_EDA)"
   ]
  },
  {
   "cell_type": "code",
   "execution_count": 7,
   "metadata": {},
   "outputs": [
    {
     "name": "stdout",
     "output_type": "stream",
     "text": [
      "0    14160\n",
      "dtype: int64\n",
      "3540.0\n",
      "59.0\n"
     ]
    }
   ],
   "source": [
    "#count n of rows to get time of recording (s) \n",
    "n_of_rows = df_EDA.count()\n",
    "print(n_of_rows)\n",
    "#walk time in seconds \n",
    "walk_time_seconds = n_of_rows_keep/4\n",
    "print(walk_time_seconds)\n",
    "#walk time in minutes\n",
    "walk_time_minutes = walk_time_seconds/60\n",
    "print(walk_time_minutes)\n",
    "\n",
    "# save data \n",
    "outputFile=open(\"time_pp40.txt\", 'a')\n",
    "outputFile.write(\"{}\\n{}\\n\".format(walk_time_seconds, walk_time_minutes))\n",
    "outputFile.close()\n"
   ]
  },
  {
   "cell_type": "code",
   "execution_count": 8,
   "metadata": {},
   "outputs": [
    {
     "data": {
      "image/png": "[encoded data removed]",
      "text/plain": [
       "<Figure size 432x288 with 1 Axes>"
      ]
     },
     "metadata": {
      "needs_background": "light"
     },
     "output_type": "display_data"
    }
   ],
   "source": [
    "# plot\n",
    "plot = eda.plot()\n",
    "# plt.show() #using matplotlib to show the plot"
   ]
  },
  {
   "cell_type": "code",
   "execution_count": 9,
   "metadata": {},
   "outputs": [],
   "source": [
    "#your signal is quite noisy (moving artifacts)\n",
    "#consider the possibility of filtering it\n",
    "\n",
    "#e.g. simple moving average filter\n",
    "mov_avg = flt.ConvolutionalFilter('rect', win_len = 1)\n",
    "eda = mov_avg(eda)\n",
    "\n",
    "#however, check that you are not losing information\n"
   ]
  },
  {
   "cell_type": "code",
   "execution_count": 10,
   "metadata": {},
   "outputs": [],
   "source": [
    "#create baseline (10mins) / label variable\n",
    "#[0s-600s] #baseline \n",
    "#[600s -3540s] #actual recording session \n",
    "\n",
    "label = np.zeros(3591)#s\n",
    "label[0:600] = 1\n",
    "label[600:3591] = 2\n",
    "\n",
    "label = ph.EvenlySignal(label, sampling_freq = 1, signal_type = 'label')"
   ]
  },
  {
   "cell_type": "code",
   "execution_count": 11,
   "metadata": {},
   "outputs": [
    {
     "data": {
      "text/plain": [
       "[<matplotlib.lines.Line2D at 0x1c1ae6b110>]"
      ]
     },
     "execution_count": 11,
     "metadata": {},
     "output_type": "execute_result"
    },
    {
     "data": {
      "image/png": "[encoded data removed]",
      "text/plain": [
       "<Figure size 432x288 with 1 Axes>"
      ]
     },
     "metadata": {
      "needs_background": "light"
     },
     "output_type": "display_data"
    }
   ],
   "source": [
    "#see also the plots\n",
    "eda.plot()\n",
    "label.plot()"
   ]
  },
  {
   "cell_type": "code",
   "execution_count": 12,
   "metadata": {},
   "outputs": [
    {
     "data": {
      "text/plain": [
       "[<matplotlib.lines.Line2D at 0x1c1ae74090>]"
      ]
     },
     "execution_count": 12,
     "metadata": {},
     "output_type": "execute_result"
    },
    {
     "data": {
      "image/png": "[encoded data removed]",
      "text/plain": [
       "<Figure size 432x288 with 1 Axes>"
      ]
     },
     "metadata": {
      "needs_background": "light"
     },
     "output_type": "display_data"
    }
   ],
   "source": [
    "## filtering \n",
    "eda_filt = ph.IIRFilter(fp=0.8, fs=1.1, ftype='ellip')(eda)\n",
    "\n",
    "eda.plot()\n",
    "eda_filt.plot()"
   ]
  },
  {
   "cell_type": "code",
   "execution_count": 13,
   "metadata": {},
   "outputs": [],
   "source": [
    "eda = eda_filt"
   ]
  },
  {
   "cell_type": "code",
   "execution_count": 14,
   "metadata": {},
   "outputs": [
    {
     "data": {
      "text/plain": [
       "[<matplotlib.lines.Line2D at 0x1c1a22d6d0>]"
      ]
     },
     "execution_count": 14,
     "metadata": {},
     "output_type": "execute_result"
    },
    {
     "data": {
      "image/png": "[encoded data removed]",
      "text/plain": [
       "<Figure size 432x288 with 1 Axes>"
      ]
     },
     "metadata": {
      "needs_background": "light"
     },
     "output_type": "display_data"
    }
   ],
   "source": [
    "## estimate the driver function \n",
    "driver = ph.DriverEstim(t1=.75, t2=2)(eda)\n",
    "eda.plot()\n",
    "driver.plot()"
   ]
  },
  {
   "cell_type": "code",
   "execution_count": 15,
   "metadata": {},
   "outputs": [
    {
     "data": {
      "text/plain": [
       "[<matplotlib.lines.Line2D at 0x1c1b604910>]"
      ]
     },
     "execution_count": 15,
     "metadata": {},
     "output_type": "execute_result"
    },
    {
     "data": {
      "image/png": "[encoded data removed]",
      "text/plain": [
       "<Figure size 432x288 with 1 Axes>"
      ]
     },
     "metadata": {
      "needs_background": "light"
     },
     "output_type": "display_data"
    }
   ],
   "source": [
    "## compute tonic and phasic components\n",
    "phasic, tonic, tmp_ = ph.PhasicEstim(delta=0.02)(driver)\n",
    "eda.plot()\n",
    "driver.plot()\n",
    "phasic.plot()"
   ]
  },
  {
   "cell_type": "code",
   "execution_count": 16,
   "metadata": {},
   "outputs": [
    {
     "data": {
      "image/png": "[encoded data removed]",
      "text/plain": [
       "<Figure size 432x288 with 2 Axes>"
      ]
     },
     "metadata": {
      "needs_background": "light"
     },
     "output_type": "display_data"
    }
   ],
   "source": [
    "# check results so far\n",
    "plt.figure() \n",
    "ax1 = plt.subplot(211)\n",
    "eda.plot()\n",
    "plt.subplot(212, sharex = ax1)\n",
    "driver.plot()\n",
    "phasic.plot()\n",
    "tonic.plot()\n",
    "plt.legend(['driver', 'phasic', 'tonic'])\n",
    "plt.show()"
   ]
  },
  {
   "cell_type": "code",
   "execution_count": 17,
   "metadata": {},
   "outputs": [],
   "source": [
    "## define a list of indicators\n",
    "indicators_eda = [ph.Mean(name='PhaMean'),\n",
    "                  ph.StDev(name='StDev'),\n",
    "                  ph.AUC(name='AUC'),\n",
    "                  ph.PeaksMean(name='PeaksMean', delta=0.02), \n",
    "                  ph.DurationMean(name='DurMean', delta=0.02)]\n",
    "\n",
    "#"
   ]
  },
  {
   "cell_type": "code",
   "execution_count": 18,
   "metadata": {},
   "outputs": [],
   "source": [
    "#fixed length windowing\n",
    "fixed_length = ph.FixedSegments(step = 60, width = 60, labels = label)                \n",
    "                  \n",
    "## compute indicators of phasic signal\n",
    "pha_ind, col_names = ph.fmap(fixed_length, indicators_eda, phasic) #you should use the indicators you listed before"
   ]
  },
  {
   "cell_type": "code",
   "execution_count": 19,
   "metadata": {},
   "outputs": [],
   "source": [
    "#save results into a dataframe\n",
    "phasic_indicators = pd.DataFrame(pha_ind, columns=col_names)"
   ]
  },
  {
   "cell_type": "code",
   "execution_count": 20,
   "metadata": {
    "scrolled": true
   },
   "outputs": [
    {
     "data": {
      "text/html": [
       "<div>\n",
       "<style scoped>\n",
       "    .dataframe tbody tr th:only-of-type {\n",
       "        vertical-align: middle;\n",
       "    }\n",
       "\n",
       "    .dataframe tbody tr th {\n",
       "        vertical-align: top;\n",
       "    }\n",
       "\n",
       "    .dataframe thead th {\n",
       "        text-align: right;\n",
       "    }\n",
       "</style>\n",
       "<table border=\"1\" class=\"dataframe\">\n",
       "  <thead>\n",
       "    <tr style=\"text-align: right;\">\n",
       "      <th></th>\n",
       "      <th>begin</th>\n",
       "      <th>end</th>\n",
       "      <th>label</th>\n",
       "      <th>PhaMean</th>\n",
       "      <th>StDev</th>\n",
       "      <th>AUC</th>\n",
       "      <th>PeaksMean</th>\n",
       "      <th>DurMean</th>\n",
       "    </tr>\n",
       "  </thead>\n",
       "  <tbody>\n",
       "    <tr>\n",
       "      <td>0</td>\n",
       "      <td>0.0</td>\n",
       "      <td>60.0</td>\n",
       "      <td>1.0</td>\n",
       "      <td>0.009172</td>\n",
       "      <td>0.048889</td>\n",
       "      <td>0.550312</td>\n",
       "      <td>0.053465</td>\n",
       "      <td>1.421053</td>\n",
       "    </tr>\n",
       "    <tr>\n",
       "      <td>1</td>\n",
       "      <td>60.0</td>\n",
       "      <td>120.0</td>\n",
       "      <td>1.0</td>\n",
       "      <td>0.003632</td>\n",
       "      <td>0.010430</td>\n",
       "      <td>0.217920</td>\n",
       "      <td>0.023702</td>\n",
       "      <td>1.500000</td>\n",
       "    </tr>\n",
       "    <tr>\n",
       "      <td>2</td>\n",
       "      <td>120.0</td>\n",
       "      <td>180.0</td>\n",
       "      <td>1.0</td>\n",
       "      <td>0.002749</td>\n",
       "      <td>0.009565</td>\n",
       "      <td>0.164918</td>\n",
       "      <td>0.031322</td>\n",
       "      <td>1.500000</td>\n",
       "    </tr>\n",
       "    <tr>\n",
       "      <td>3</td>\n",
       "      <td>180.0</td>\n",
       "      <td>240.0</td>\n",
       "      <td>1.0</td>\n",
       "      <td>0.005892</td>\n",
       "      <td>0.018171</td>\n",
       "      <td>0.353518</td>\n",
       "      <td>0.045209</td>\n",
       "      <td>1.500000</td>\n",
       "    </tr>\n",
       "    <tr>\n",
       "      <td>4</td>\n",
       "      <td>240.0</td>\n",
       "      <td>300.0</td>\n",
       "      <td>1.0</td>\n",
       "      <td>0.000281</td>\n",
       "      <td>0.002849</td>\n",
       "      <td>0.016870</td>\n",
       "      <td>NaN</td>\n",
       "      <td>NaN</td>\n",
       "    </tr>\n",
       "  </tbody>\n",
       "</table>\n",
       "</div>"
      ],
      "text/plain": [
       "   begin    end  label   PhaMean     StDev       AUC  PeaksMean   DurMean\n",
       "0    0.0   60.0    1.0  0.009172  0.048889  0.550312   0.053465  1.421053\n",
       "1   60.0  120.0    1.0  0.003632  0.010430  0.217920   0.023702  1.500000\n",
       "2  120.0  180.0    1.0  0.002749  0.009565  0.164918   0.031322  1.500000\n",
       "3  180.0  240.0    1.0  0.005892  0.018171  0.353518   0.045209  1.500000\n",
       "4  240.0  300.0    1.0  0.000281  0.002849  0.016870        NaN       NaN"
      ]
     },
     "execution_count": 20,
     "metadata": {},
     "output_type": "execute_result"
    }
   ],
   "source": [
    "phasic_indicators.head()"
   ]
  },
  {
   "cell_type": "code",
   "execution_count": 21,
   "metadata": {},
   "outputs": [],
   "source": [
    "phasic_indicators.to_csv('phasicindicators_pp40.csv')"
   ]
  },
  {
   "cell_type": "code",
   "execution_count": 23,
   "metadata": {},
   "outputs": [
    {
     "data": {
      "text/plain": [
       "{'whiskers': [<matplotlib.lines.Line2D at 0x1c1bfdcb90>,\n",
       "  <matplotlib.lines.Line2D at 0x1c1bfe8c90>,\n",
       "  <matplotlib.lines.Line2D at 0x1c1bff7b90>,\n",
       "  <matplotlib.lines.Line2D at 0x1c1bfefcd0>],\n",
       " 'caps': [<matplotlib.lines.Line2D at 0x1c1bfa7190>,\n",
       "  <matplotlib.lines.Line2D at 0x1c1bfef6d0>,\n",
       "  <matplotlib.lines.Line2D at 0x1c1c000590>,\n",
       "  <matplotlib.lines.Line2D at 0x1c1c000a90>],\n",
       " 'boxes': [<matplotlib.lines.Line2D at 0x1c1bfdcb50>,\n",
       "  <matplotlib.lines.Line2D at 0x1c1bff7610>],\n",
       " 'medians': [<matplotlib.lines.Line2D at 0x1c1bfefc10>,\n",
       "  <matplotlib.lines.Line2D at 0x1c1c000f90>],\n",
       " 'fliers': [<matplotlib.lines.Line2D at 0x1c1bfe8d50>,\n",
       "  <matplotlib.lines.Line2D at 0x1c1c0084d0>],\n",
       " 'means': []}"
      ]
     },
     "execution_count": 23,
     "metadata": {},
     "output_type": "execute_result"
    },
    {
     "data": {
      "image/png": "[encoded data removed]",
      "text/plain": [
       "<Figure size 432x288 with 1 Axes>"
      ]
     },
     "metadata": {
      "needs_background": "light"
     },
     "output_type": "display_data"
    }
   ],
   "source": [
    "## Box-Whisker plot\n",
    "# extract column with the labels for each window\n",
    "#import warnings\n",
    "#warnings.simplefilter(action = \"ignore\", category = RuntimeWarning)\n",
    "label_w = pha_ind[:, np.where(col_names == 'label')[0]]\n",
    "\n",
    "# extract column with PksMean values\n",
    "# computed from each window\n",
    "pksmean_w = pha_ind[:, np.where(col_names == 'PeaksMean')[0]]\n",
    "\n",
    "pksmean_baseline = pksmean_w[np.where(label_w==1)[0]]\n",
    "pksmean_walk_time = pksmean_w[np.where(label_w==2)[0]]\n",
    "\n",
    "## create a boxplot and a whisker plot\n",
    "## compare the distribution of the RRmean indicator\n",
    "plt.boxplot([pksmean_baseline, pksmean_walk_time],\n",
    "              labels=['baseline', 'walk_time'])\n",
    "\n",
    "##plt.show()"
   ]
  },
  {
   "cell_type": "code",
   "execution_count": null,
   "metadata": {},
   "outputs": [],
   "source": []
  }
 ],
 "metadata": {
  "kernelspec": {
   "display_name": "Python 3",
   "language": "python",
   "name": "python3"
  },
  "language_info": {
   "codemirror_mode": {
    "name": "ipython",
    "version": 3
   },
   "file_extension": ".py",
   "mimetype": "text/x-python",
   "name": "python",
   "nbconvert_exporter": "python",
   "pygments_lexer": "ipython3",
   "version": "3.7.4"
  }
 },
 "nbformat": 4,
 "nbformat_minor": 4
}
