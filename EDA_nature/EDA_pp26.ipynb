{
 "cells": [
  {
   "cell_type": "code",
   "execution_count": 1,
   "metadata": {},
   "outputs": [
    {
     "name": "stdout",
     "output_type": "stream",
     "text": [
      "Please cite:\n",
      "Bizzego et al. (2019) 'pyphysio: A physiological signal processing library for data science approaches in physiology', SoftwareX\n"
     ]
    }
   ],
   "source": [
    "# import libraries\n",
    "import matplotlib.pyplot as plt\n",
    "import numpy as np\n",
    "\n",
    "#import pyphysio\n",
    "import pyphysio as ph\n",
    "import pandas as pd\n",
    "import pyphysio.filters.Filters as flt\n",
    "\n",
    "# (should) show plots in a separate window\n",
    "%matplotlib inline"
   ]
  },
  {
   "cell_type": "code",
   "execution_count": 2,
   "metadata": {},
   "outputs": [],
   "source": [
    "# open file\n",
    "df_EDA = pd.read_csv('EDA_pp26.csv', header=None)"
   ]
  },
  {
   "cell_type": "code",
   "execution_count": 3,
   "metadata": {},
   "outputs": [
    {
     "name": "stdout",
     "output_type": "stream",
     "text": [
      "0    46872\n",
      "dtype: int64\n"
     ]
    }
   ],
   "source": [
    "n_of_rows = df_EDA.count()\n",
    "print(n_of_rows)"
   ]
  },
  {
   "cell_type": "code",
   "execution_count": 4,
   "metadata": {},
   "outputs": [
    {
     "name": "stdout",
     "output_type": "stream",
     "text": [
      "13920\n"
     ]
    }
   ],
   "source": [
    "#actual recording time 58 mins = 3480s\n",
    "#3480*4=n_rows\n",
    "n_of_rows_keep = 3480*4\n",
    "print(n_of_rows_keep)"
   ]
  },
  {
   "cell_type": "code",
   "execution_count": 5,
   "metadata": {},
   "outputs": [
    {
     "name": "stdout",
     "output_type": "stream",
     "text": [
      "              0\n",
      "0      0.000000\n",
      "1      0.722236\n",
      "2      0.831350\n",
      "3      0.676402\n",
      "4      0.682805\n",
      "...         ...\n",
      "13915  7.591320\n",
      "13916  7.540097\n",
      "13917  7.344172\n",
      "13918  7.281424\n",
      "13919  7.292949\n",
      "\n",
      "[13920 rows x 1 columns]\n"
     ]
    }
   ],
   "source": [
    "#using pandas to drop all the rows / seconds after 3480s \n",
    "#[n_of_rows_keep:n_of_rows]\n",
    "df_EDA = df_EDA.drop(df_EDA.index[13920:46872])\n",
    "print(df_EDA)"
   ]
  },
  {
   "cell_type": "code",
   "execution_count": 6,
   "metadata": {},
   "outputs": [],
   "source": [
    "# create the signal\n",
    "fsamp = 4 #Hz\n",
    "tstart_df_EDA = 0 #s\n",
    "\n",
    "\n",
    "eda = ph.EvenlySignal(values = df_EDA.values.ravel(), \n",
    "                      sampling_freq = fsamp,\n",
    "                      start_time = tstart_df_EDA)"
   ]
  },
  {
   "cell_type": "code",
   "execution_count": 7,
   "metadata": {},
   "outputs": [
    {
     "name": "stdout",
     "output_type": "stream",
     "text": [
      "13920\n",
      "0    3480.0\n",
      "dtype: float64\n",
      "0    58.0\n",
      "dtype: float64\n"
     ]
    }
   ],
   "source": [
    "#count n of rows to get time of recording (s) \n",
    "n_of_rows = df_EDA.count()\n",
    "print(n_of_rows_keep)\n",
    "#walk time in seconds \n",
    "walk_time_seconds = n_of_rows/4\n",
    "print(walk_time_seconds)\n",
    "#walk time in minutes\n",
    "walk_time_minutes = walk_time_seconds/60\n",
    "print(walk_time_minutes)\n",
    "\n",
    "# save data \n",
    "outputFile=open(\"time_pp26.txt\", 'a')\n",
    "outputFile.write(\"{}\\n{}\\n\".format(walk_time_seconds, walk_time_minutes))\n",
    "outputFile.close()\n"
   ]
  },
  {
   "cell_type": "code",
   "execution_count": 8,
   "metadata": {},
   "outputs": [
    {
     "data": {
      "image/png": "[encoded data removed]",
      "text/plain": [
       "<Figure size 432x288 with 1 Axes>"
      ]
     },
     "metadata": {
      "needs_background": "light"
     },
     "output_type": "display_data"
    }
   ],
   "source": [
    "# plot\n",
    "plot = eda.plot()\n",
    "# plt.show() #using matplotlib to show the plot"
   ]
  },
  {
   "cell_type": "code",
   "execution_count": 9,
   "metadata": {},
   "outputs": [],
   "source": [
    "#your signal is quite noisy (moving artifacts)\n",
    "#consider the possibility of filtering it\n",
    "\n",
    "#e.g. simple moving average filter\n",
    "mov_avg = flt.ConvolutionalFilter('rect', win_len = 1)\n",
    "eda = mov_avg(eda)\n",
    "\n",
    "#however, check that you are not losing information\n"
   ]
  },
  {
   "cell_type": "code",
   "execution_count": 10,
   "metadata": {},
   "outputs": [],
   "source": [
    "#create baseline (10mins) / label variable\n",
    "#[0s-600s] #baseline \n",
    "#[600s -3420s] #actual recording session \n",
    "\n",
    "label = np.zeros(3480)#s\n",
    "label[0:600] = 1\n",
    "label[600:3480] = 2\n",
    "\n",
    "label = ph.EvenlySignal(label, sampling_freq = 1, signal_type = 'label')"
   ]
  },
  {
   "cell_type": "code",
   "execution_count": 11,
   "metadata": {},
   "outputs": [
    {
     "data": {
      "text/plain": [
       "[<matplotlib.lines.Line2D at 0x1056848d0>]"
      ]
     },
     "execution_count": 11,
     "metadata": {},
     "output_type": "execute_result"
    },
    {
     "data": {
      "image/png": "[encoded data removed]",
      "text/plain": [
       "<Figure size 432x288 with 1 Axes>"
      ]
     },
     "metadata": {
      "needs_background": "light"
     },
     "output_type": "display_data"
    }
   ],
   "source": [
    "#see also the plots\n",
    "eda.plot()\n",
    "label.plot()"
   ]
  },
  {
   "cell_type": "code",
   "execution_count": 12,
   "metadata": {},
   "outputs": [
    {
     "data": {
      "text/plain": [
       "[<matplotlib.lines.Line2D at 0x1c197902d0>]"
      ]
     },
     "execution_count": 12,
     "metadata": {},
     "output_type": "execute_result"
    },
    {
     "data": {
      "image/png": "[encoded data removed]",
      "text/plain": [
       "<Figure size 432x288 with 1 Axes>"
      ]
     },
     "metadata": {
      "needs_background": "light"
     },
     "output_type": "display_data"
    }
   ],
   "source": [
    "## filtering \n",
    "eda_filt = ph.IIRFilter(fp=0.8, fs=1.1, ftype='ellip')(eda)\n",
    "\n",
    "eda.plot()\n",
    "eda_filt.plot()"
   ]
  },
  {
   "cell_type": "code",
   "execution_count": 13,
   "metadata": {},
   "outputs": [],
   "source": [
    "eda = eda_filt"
   ]
  },
  {
   "cell_type": "code",
   "execution_count": 14,
   "metadata": {},
   "outputs": [
    {
     "data": {
      "text/plain": [
       "[<matplotlib.lines.Line2D at 0x1c19a4e310>]"
      ]
     },
     "execution_count": 14,
     "metadata": {},
     "output_type": "execute_result"
    },
    {
     "data": {
      "image/png": "[encoded data removed]",
      "text/plain": [
       "<Figure size 432x288 with 1 Axes>"
      ]
     },
     "metadata": {
      "needs_background": "light"
     },
     "output_type": "display_data"
    }
   ],
   "source": [
    "## estimate the driver function \n",
    "driver = ph.DriverEstim(t1=.75, t2=2)(eda)\n",
    "eda.plot()\n",
    "driver.plot()"
   ]
  },
  {
   "cell_type": "code",
   "execution_count": 15,
   "metadata": {},
   "outputs": [
    {
     "data": {
      "text/plain": [
       "[<matplotlib.lines.Line2D at 0x1c1a168c10>]"
      ]
     },
     "execution_count": 15,
     "metadata": {},
     "output_type": "execute_result"
    },
    {
     "data": {
      "image/png": "[encoded data removed]",
      "text/plain": [
       "<Figure size 432x288 with 1 Axes>"
      ]
     },
     "metadata": {
      "needs_background": "light"
     },
     "output_type": "display_data"
    }
   ],
   "source": [
    "## compute tonic and phasic components\n",
    "phasic, tonic, tmp_ = ph.PhasicEstim(delta=0.02)(driver)\n",
    "eda.plot()\n",
    "driver.plot()\n",
    "phasic.plot()"
   ]
  },
  {
   "cell_type": "code",
   "execution_count": 16,
   "metadata": {},
   "outputs": [
    {
     "data": {
      "image/png": "[encoded data removed]",
      "text/plain": [
       "<Figure size 432x288 with 2 Axes>"
      ]
     },
     "metadata": {
      "needs_background": "light"
     },
     "output_type": "display_data"
    }
   ],
   "source": [
    "# check results so far\n",
    "plt.figure() \n",
    "ax1 = plt.subplot(211)\n",
    "eda.plot()\n",
    "plt.subplot(212, sharex = ax1)\n",
    "driver.plot()\n",
    "phasic.plot()\n",
    "tonic.plot()\n",
    "plt.legend(['driver', 'phasic', 'tonic'])\n",
    "plt.show()"
   ]
  },
  {
   "cell_type": "code",
   "execution_count": 17,
   "metadata": {},
   "outputs": [],
   "source": [
    "## define a list of indicators\n",
    "indicators_eda = [ph.Mean(name='PhaMean'),\n",
    "                  ph.StDev(name='StDev'),\n",
    "                  ph.AUC(name='AUC'),\n",
    "                  ph.PeaksMean(name='PeaksMean', delta=0.02), \n",
    "                  ph.DurationMean(name='DurMean', delta=0.02)]"
   ]
  },
  {
   "cell_type": "code",
   "execution_count": 18,
   "metadata": {},
   "outputs": [],
   "source": [
    "#fixed length windowing\n",
    "fixed_length = ph.FixedSegments(step = 5, width = 20, labels = label)             \n",
    "                  \n",
    "## compute indicators of phasic signal\n",
    "#pha_ind, col_names = ph.fmap(fixed_length, ph.preset_phasic(delta=0.02), phasic) #you should use the indicators you listed before\n",
    "pha_ind, col_names = ph.fmap(fixed_length, indicators_eda, phasic) #you should use the indicators you listed before"
   ]
  },
  {
   "cell_type": "code",
   "execution_count": 19,
   "metadata": {},
   "outputs": [],
   "source": [
    "#save results into a dataframe\n",
    "phasic_indicators = pd.DataFrame(pha_ind, columns=col_names)"
   ]
  },
  {
   "cell_type": "code",
   "execution_count": 20,
   "metadata": {
    "scrolled": true
   },
   "outputs": [
    {
     "data": {
      "text/html": [
       "<div>\n",
       "<style scoped>\n",
       "    .dataframe tbody tr th:only-of-type {\n",
       "        vertical-align: middle;\n",
       "    }\n",
       "\n",
       "    .dataframe tbody tr th {\n",
       "        vertical-align: top;\n",
       "    }\n",
       "\n",
       "    .dataframe thead th {\n",
       "        text-align: right;\n",
       "    }\n",
       "</style>\n",
       "<table border=\"1\" class=\"dataframe\">\n",
       "  <thead>\n",
       "    <tr style=\"text-align: right;\">\n",
       "      <th></th>\n",
       "      <th>begin</th>\n",
       "      <th>end</th>\n",
       "      <th>label</th>\n",
       "      <th>PhaMean</th>\n",
       "      <th>StDev</th>\n",
       "      <th>AUC</th>\n",
       "      <th>PeaksMean</th>\n",
       "      <th>DurMean</th>\n",
       "    </tr>\n",
       "  </thead>\n",
       "  <tbody>\n",
       "    <tr>\n",
       "      <td>0</td>\n",
       "      <td>100.0</td>\n",
       "      <td>120.0</td>\n",
       "      <td>1.0</td>\n",
       "      <td>-0.004564</td>\n",
       "      <td>0.288337</td>\n",
       "      <td>-0.091289</td>\n",
       "      <td>0.131476</td>\n",
       "      <td>1.312500</td>\n",
       "    </tr>\n",
       "    <tr>\n",
       "      <td>1</td>\n",
       "      <td>105.0</td>\n",
       "      <td>125.0</td>\n",
       "      <td>1.0</td>\n",
       "      <td>0.048438</td>\n",
       "      <td>0.078447</td>\n",
       "      <td>0.968751</td>\n",
       "      <td>0.112634</td>\n",
       "      <td>1.357143</td>\n",
       "    </tr>\n",
       "    <tr>\n",
       "      <td>2</td>\n",
       "      <td>110.0</td>\n",
       "      <td>130.0</td>\n",
       "      <td>1.0</td>\n",
       "      <td>0.044101</td>\n",
       "      <td>0.078424</td>\n",
       "      <td>0.882028</td>\n",
       "      <td>0.131128</td>\n",
       "      <td>1.416667</td>\n",
       "    </tr>\n",
       "    <tr>\n",
       "      <td>3</td>\n",
       "      <td>115.0</td>\n",
       "      <td>135.0</td>\n",
       "      <td>1.0</td>\n",
       "      <td>0.052919</td>\n",
       "      <td>0.082206</td>\n",
       "      <td>1.058384</td>\n",
       "      <td>0.141677</td>\n",
       "      <td>1.428571</td>\n",
       "    </tr>\n",
       "    <tr>\n",
       "      <td>4</td>\n",
       "      <td>120.0</td>\n",
       "      <td>140.0</td>\n",
       "      <td>1.0</td>\n",
       "      <td>0.063802</td>\n",
       "      <td>0.075314</td>\n",
       "      <td>1.276048</td>\n",
       "      <td>0.167855</td>\n",
       "      <td>1.406250</td>\n",
       "    </tr>\n",
       "  </tbody>\n",
       "</table>\n",
       "</div>"
      ],
      "text/plain": [
       "   begin    end  label   PhaMean     StDev       AUC  PeaksMean   DurMean\n",
       "0  100.0  120.0    1.0 -0.004564  0.288337 -0.091289   0.131476  1.312500\n",
       "1  105.0  125.0    1.0  0.048438  0.078447  0.968751   0.112634  1.357143\n",
       "2  110.0  130.0    1.0  0.044101  0.078424  0.882028   0.131128  1.416667\n",
       "3  115.0  135.0    1.0  0.052919  0.082206  1.058384   0.141677  1.428571\n",
       "4  120.0  140.0    1.0  0.063802  0.075314  1.276048   0.167855  1.406250"
      ]
     },
     "execution_count": 20,
     "metadata": {},
     "output_type": "execute_result"
    }
   ],
   "source": [
    "phasic_indicators.head()"
   ]
  },
  {
   "cell_type": "code",
   "execution_count": 21,
   "metadata": {},
   "outputs": [],
   "source": [
    "phasic_indicators.to_csv('phasicindicators_pp26.csv')"
   ]
  },
  {
   "cell_type": "code",
   "execution_count": 22,
   "metadata": {},
   "outputs": [
    {
     "data": {
      "text/plain": [
       "{'whiskers': [<matplotlib.lines.Line2D at 0x1c1ae5b2d0>,\n",
       "  <matplotlib.lines.Line2D at 0x1c1af0b4d0>,\n",
       "  <matplotlib.lines.Line2D at 0x1c1af0bf90>,\n",
       "  <matplotlib.lines.Line2D at 0x1c1af13f50>],\n",
       " 'caps': [<matplotlib.lines.Line2D at 0x1c1af0b9d0>,\n",
       "  <matplotlib.lines.Line2D at 0x1c1af0bed0>,\n",
       "  <matplotlib.lines.Line2D at 0x1c1af1be50>,\n",
       "  <matplotlib.lines.Line2D at 0x1c1af13410>],\n",
       " 'boxes': [<matplotlib.lines.Line2D at 0x1c1ae5b290>,\n",
       "  <matplotlib.lines.Line2D at 0x1c1af13e90>],\n",
       " 'medians': [<matplotlib.lines.Line2D at 0x1c1ae5bed0>,\n",
       "  <matplotlib.lines.Line2D at 0x1c1af24890>],\n",
       " 'fliers': [<matplotlib.lines.Line2D at 0x1c1af13950>,\n",
       "  <matplotlib.lines.Line2D at 0x1c1af24d90>],\n",
       " 'means': []}"
      ]
     },
     "execution_count": 22,
     "metadata": {},
     "output_type": "execute_result"
    },
    {
     "data": {
      "image/png": "[encoded data removed]",
      "text/plain": [
       "<Figure size 432x288 with 1 Axes>"
      ]
     },
     "metadata": {
      "needs_background": "light"
     },
     "output_type": "display_data"
    }
   ],
   "source": [
    "## Box-Whisker plot\n",
    "# extract column with the labels for each window\n",
    "import warnings\n",
    "warnings.simplefilter(action = \"ignore\", category = RuntimeWarning)\n",
    "\n",
    "label_w = pha_ind[:, np.where(col_names == 'label')[0]]\n",
    "\n",
    "# extract column with PksMean values\n",
    "# computed from each window\n",
    "pksmean_w = pha_ind[:, np.where(col_names == 'PeaksMean')[0]]\n",
    "\n",
    "pksmean_baseline = pksmean_w[np.where(label_w==1)[0]]\n",
    "pksmean_walk_time = pksmean_w[np.where(label_w==2)[0]]\n",
    "\n",
    "## create a boxplot and a whisker plot\n",
    "## compare the distribution of the RRmean indicator\n",
    "plt.boxplot([pksmean_baseline, pksmean_walk_time],\n",
    "              labels=['first 10 minutes', 'walk_time'])\n",
    "\n",
    "##plt.show()"
   ]
  },
  {
   "cell_type": "code",
   "execution_count": null,
   "metadata": {},
   "outputs": [],
   "source": []
  },
  {
   "cell_type": "code",
   "execution_count": null,
   "metadata": {},
   "outputs": [],
   "source": []
  }
 ],
 "metadata": {
  "kernelspec": {
   "display_name": "Python 3",
   "language": "python",
   "name": "python3"
  },
  "language_info": {
   "codemirror_mode": {
    "name": "ipython",
    "version": 3
   },
   "file_extension": ".py",
   "mimetype": "text/x-python",
   "name": "python",
   "nbconvert_exporter": "python",
   "pygments_lexer": "ipython3",
   "version": "3.7.4"
  }
 },
 "nbformat": 4,
 "nbformat_minor": 4
}
